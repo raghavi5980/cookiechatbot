{
 "cells": [
  {
   "cell_type": "code",
   "execution_count": 1,
   "metadata": {},
   "outputs": [],
   "source": [
    "import nltk\n",
    "import numpy as np\n",
    "import random\n",
    "import string\n",
    "import bs4 as bs\n",
    "import urllib.request\n",
    "import re\n",
    "from keras.models import Sequential\n",
    "from keras.losses import categorical_crossentropy\n",
    "from keras.optimizers import SGD\n",
    "from keras.layers import Dense\n",
    "from numpy import argmax"
   ]
  },
  {
   "cell_type": "code",
   "execution_count": 2,
   "metadata": {},
   "outputs": [
    {
     "name": "stdout",
     "output_type": "stream",
     "text": [
      "You have successfully imported pandas version 1.1.3\n",
      "You have successfully imported nltk version 3.5\n"
     ]
    }
   ],
   "source": [
    "import pandas as pd\n",
    "import nltk\n",
    "\n",
    "print (\"You have successfully imported pandas version \"+pd.__version__)\n",
    "print (\"You have successfully imported nltk version \"+nltk.__version__)"
   ]
  },
  {
   "cell_type": "code",
   "execution_count": 3,
   "metadata": {},
   "outputs": [
    {
     "name": "stdout",
     "output_type": "stream",
     "text": [
      "You have successfully loaded your csv file\n"
     ]
    }
   ],
   "source": [
    "# load the csv file that contains the tweets on natural disasters into a pandas dataframe\n",
    "df_raw = pd.read_csv('./analysis-public-place-assaults-sexual-assaults-and-robberies-2015-csv.csv', encoding='latin-1')\n",
    "\n",
    "print (\"You have successfully loaded your csv file\")"
   ]
  },
  {
   "cell_type": "code",
   "execution_count": 4,
   "metadata": {},
   "outputs": [
    {
     "data": {
      "text/html": [
       "<div>\n",
       "<style scoped>\n",
       "    .dataframe tbody tr th:only-of-type {\n",
       "        vertical-align: middle;\n",
       "    }\n",
       "\n",
       "    .dataframe tbody tr th {\n",
       "        vertical-align: top;\n",
       "    }\n",
       "\n",
       "    .dataframe thead th {\n",
       "        text-align: right;\n",
       "    }\n",
       "</style>\n",
       "<table border=\"1\" class=\"dataframe\">\n",
       "  <thead>\n",
       "    <tr style=\"text-align: right;\">\n",
       "      <th></th>\n",
       "      <th>Index</th>\n",
       "      <th>Area_unit_2013_code</th>\n",
       "      <th>Area_unit_2013_label</th>\n",
       "      <th>Victimisations_calendar_year_2015</th>\n",
       "      <th>Population_mid_point_2015</th>\n",
       "      <th>Rate_per_10000_population</th>\n",
       "      <th>Rate_ratio_NZ_average_rate</th>\n",
       "      <th>Urban_area_2013_code</th>\n",
       "      <th>Urban_area_2013_label</th>\n",
       "      <th>Urban_area_type</th>\n",
       "      <th>Territorial_authority_area_2013_code</th>\n",
       "      <th>Territorial_authority_area_2013_label</th>\n",
       "      <th>Region_2013_code</th>\n",
       "      <th>Region_2013_label</th>\n",
       "    </tr>\n",
       "  </thead>\n",
       "  <tbody>\n",
       "    <tr>\n",
       "      <th>0</th>\n",
       "      <td>1</td>\n",
       "      <td>514102</td>\n",
       "      <td>Auckland Central West</td>\n",
       "      <td>550</td>\n",
       "      <td>15900</td>\n",
       "      <td>346</td>\n",
       "      <td>6.6</td>\n",
       "      <td>4</td>\n",
       "      <td>Central Auckland Zone</td>\n",
       "      <td>Main urban area</td>\n",
       "      <td>76</td>\n",
       "      <td>Auckland</td>\n",
       "      <td>2</td>\n",
       "      <td>Auckland Region</td>\n",
       "    </tr>\n",
       "    <tr>\n",
       "      <th>1</th>\n",
       "      <td>2</td>\n",
       "      <td>573101</td>\n",
       "      <td>Willis Street-Cambridge Terrace</td>\n",
       "      <td>447</td>\n",
       "      <td>8300</td>\n",
       "      <td>539</td>\n",
       "      <td>10.3</td>\n",
       "      <td>20</td>\n",
       "      <td>Wellington Zone</td>\n",
       "      <td>Main urban area</td>\n",
       "      <td>47</td>\n",
       "      <td>Wellington City</td>\n",
       "      <td>9</td>\n",
       "      <td>Wellington Region</td>\n",
       "    </tr>\n",
       "    <tr>\n",
       "      <th>2</th>\n",
       "      <td>3</td>\n",
       "      <td>529700</td>\n",
       "      <td>Hamilton Central</td>\n",
       "      <td>380</td>\n",
       "      <td>3170</td>\n",
       "      <td>1,199</td>\n",
       "      <td>22.9</td>\n",
       "      <td>6</td>\n",
       "      <td>Hamilton Zone</td>\n",
       "      <td>Main urban area</td>\n",
       "      <td>16</td>\n",
       "      <td>Hamilton City</td>\n",
       "      <td>3</td>\n",
       "      <td>Waikato Region</td>\n",
       "    </tr>\n",
       "    <tr>\n",
       "      <th>3</th>\n",
       "      <td>4</td>\n",
       "      <td>514103</td>\n",
       "      <td>Auckland Central East</td>\n",
       "      <td>375</td>\n",
       "      <td>13250</td>\n",
       "      <td>283</td>\n",
       "      <td>5.4</td>\n",
       "      <td>4</td>\n",
       "      <td>Central Auckland Zone</td>\n",
       "      <td>Main urban area</td>\n",
       "      <td>76</td>\n",
       "      <td>Auckland</td>\n",
       "      <td>2</td>\n",
       "      <td>Auckland Region</td>\n",
       "    </tr>\n",
       "    <tr>\n",
       "      <th>4</th>\n",
       "      <td>5</td>\n",
       "      <td>591500</td>\n",
       "      <td>Cathedral Square</td>\n",
       "      <td>305</td>\n",
       "      <td>570</td>\n",
       "      <td>5,351</td>\n",
       "      <td>102.3</td>\n",
       "      <td>22</td>\n",
       "      <td>Christchurch</td>\n",
       "      <td>Main urban area</td>\n",
       "      <td>60</td>\n",
       "      <td>Christchurch City</td>\n",
       "      <td>13</td>\n",
       "      <td>Canterbury Region</td>\n",
       "    </tr>\n",
       "  </tbody>\n",
       "</table>\n",
       "</div>"
      ],
      "text/plain": [
       "   Index  Area_unit_2013_code             Area_unit_2013_label  \\\n",
       "0      1               514102            Auckland Central West   \n",
       "1      2               573101  Willis Street-Cambridge Terrace   \n",
       "2      3               529700                 Hamilton Central   \n",
       "3      4               514103            Auckland Central East   \n",
       "4      5               591500                 Cathedral Square   \n",
       "\n",
       "   Victimisations_calendar_year_2015  Population_mid_point_2015  \\\n",
       "0                                550                      15900   \n",
       "1                                447                       8300   \n",
       "2                                380                       3170   \n",
       "3                                375                      13250   \n",
       "4                                305                        570   \n",
       "\n",
       "   Rate_per_10000_population   Rate_ratio_NZ_average_rate   \\\n",
       "0                         346                          6.6   \n",
       "1                         539                         10.3   \n",
       "2                       1,199                         22.9   \n",
       "3                         283                          5.4   \n",
       "4                       5,351                        102.3   \n",
       "\n",
       "   Urban_area_2013_code  Urban_area_2013_label  Urban_area_type  \\\n",
       "0                     4  Central Auckland Zone  Main urban area   \n",
       "1                    20        Wellington Zone  Main urban area   \n",
       "2                     6          Hamilton Zone  Main urban area   \n",
       "3                     4  Central Auckland Zone  Main urban area   \n",
       "4                    22           Christchurch  Main urban area   \n",
       "\n",
       "   Territorial_authority_area_2013_code Territorial_authority_area_2013_label  \\\n",
       "0                                    76                              Auckland   \n",
       "1                                    47                       Wellington City   \n",
       "2                                    16                         Hamilton City   \n",
       "3                                    76                              Auckland   \n",
       "4                                    60                     Christchurch City   \n",
       "\n",
       "   Region_2013_code  Region_2013_label  \n",
       "0                 2    Auckland Region  \n",
       "1                 9  Wellington Region  \n",
       "2                 3     Waikato Region  \n",
       "3                 2    Auckland Region  \n",
       "4                13  Canterbury Region  "
      ]
     },
     "execution_count": 4,
     "metadata": {},
     "output_type": "execute_result"
    }
   ],
   "source": [
    "df_raw.head(5)"
   ]
  },
  {
   "cell_type": "code",
   "execution_count": 5,
   "metadata": {},
   "outputs": [
    {
     "data": {
      "text/plain": [
       "2020"
      ]
     },
     "execution_count": 5,
     "metadata": {},
     "output_type": "execute_result"
    }
   ],
   "source": [
    "len(df_raw)"
   ]
  },
  {
   "cell_type": "code",
   "execution_count": 6,
   "metadata": {},
   "outputs": [
    {
     "data": {
      "text/plain": [
       "0                 Auckland\n",
       "1          Wellington City\n",
       "2            Hamilton City\n",
       "3                 Auckland\n",
       "4        Christchurch City\n",
       "5                 Auckland\n",
       "6                 Auckland\n",
       "7    Palmerston North City\n",
       "Name: Territorial_authority_area_2013_label, dtype: object"
      ]
     },
     "execution_count": 6,
     "metadata": {},
     "output_type": "execute_result"
    }
   ],
   "source": [
    "df_raw['Territorial_authority_area_2013_label'].head(8)"
   ]
  },
  {
   "cell_type": "code",
   "execution_count": 7,
   "metadata": {},
   "outputs": [
    {
     "name": "stdout",
     "output_type": "stream",
     "text": [
      "Before tokenization: Index                                                       101\n",
      "Area_unit_2013_code                                      524112\n",
      "Area_unit_2013_label                                     Mascot\n",
      "Victimisations_calendar_year_2015                            43\n",
      "Population_mid_point_2015                                  4410\n",
      " Rate_per_10000_population                                   98\n",
      " Rate_ratio_NZ_average_rate                                 1.9\n",
      "Urban_area_2013_code                                          5\n",
      "Urban_area_2013_label                    Southern Auckland Zone\n",
      "Urban_area_type                                 Main urban area\n",
      "Territorial_authority_area_2013_code                         76\n",
      "Territorial_authority_area_2013_label                  Auckland\n",
      "Region_2013_code                                              2\n",
      "Region_2013_label                               Auckland Region\n",
      "Name: 100, dtype: object\n"
     ]
    }
   ],
   "source": [
    "sample_tweet = df_raw.iloc[100]\n",
    "print('Before tokenization:', sample_tweet)"
   ]
  },
  {
   "cell_type": "code",
   "execution_count": 8,
   "metadata": {},
   "outputs": [
    {
     "name": "stdout",
     "output_type": "stream",
     "text": [
      "After tokenization: Index                                                       101\n",
      "Area_unit_2013_code                                      524112\n",
      "Area_unit_2013_label                                     Mascot\n",
      "Victimisations_calendar_year_2015                            43\n",
      "Population_mid_point_2015                                  4410\n",
      " Rate_per_10000_population                                   98\n",
      " Rate_ratio_NZ_average_rate                                 1.9\n",
      "Urban_area_2013_code                                          5\n",
      "Urban_area_2013_label                    Southern Auckland Zone\n",
      "Urban_area_type                                 Main urban area\n",
      "Territorial_authority_area_2013_code                         76\n",
      "Territorial_authority_area_2013_label                  Auckland\n",
      "Region_2013_code                                              2\n",
      "Region_2013_label                               Auckland Region\n",
      "Name: 100, dtype: object\n"
     ]
    }
   ],
   "source": [
    "sample_tweet = df_raw.iloc[100]\n",
    "print('After tokenization:', sample_tweet)"
   ]
  },
  {
   "cell_type": "code",
   "execution_count": 9,
   "metadata": {},
   "outputs": [],
   "source": [
    "# Let us take two sentences to be the knowledge base, and one more which is a question.\n",
    "Sentence_1='Workplace harassment is the belittling or threatening behavior directed at an individual worker or a group of workers'\n",
    "Sentence_2='Physical harassment in the workplace takes many forms'\n",
    "Question='In an informal survey among 50 employees in Singapore'"
   ]
  },
  {
   "cell_type": "code",
   "execution_count": 10,
   "metadata": {},
   "outputs": [],
   "source": [
    "Vocabulary = ['workplace', 'is', 'among', 'informal', 'forms', 'individual', 'group']"
   ]
  },
  {
   "cell_type": "code",
   "execution_count": 11,
   "metadata": {},
   "outputs": [],
   "source": [
    "bag_of_words = np.array([[1,1,1,1,0,0,0],\n",
    "                        [0,1,1,0,1,1,0],\n",
    "                        [0,1,1,1,0,0,1]])"
   ]
  },
  {
   "cell_type": "code",
   "execution_count": 12,
   "metadata": {},
   "outputs": [
    {
     "data": {
      "text/plain": [
       "array([[1, 1, 1, 1, 0, 0, 0],\n",
       "       [0, 1, 1, 0, 1, 1, 0],\n",
       "       [0, 1, 1, 1, 0, 0, 1]])"
      ]
     },
     "execution_count": 12,
     "metadata": {},
     "output_type": "execute_result"
    }
   ],
   "source": [
    "bag_of_words[:3,:]"
   ]
  },
  {
   "cell_type": "code",
   "execution_count": 13,
   "metadata": {},
   "outputs": [
    {
     "name": "stdout",
     "output_type": "stream",
     "text": [
      "[[0 1 1 1 0 0 1]]\n"
     ]
    }
   ],
   "source": [
    "print (bag_of_words[-1,:].reshape(1, -1))"
   ]
  },
  {
   "cell_type": "code",
   "execution_count": 14,
   "metadata": {},
   "outputs": [
    {
     "data": {
      "image/png": "[encoded data removed]",
      "text/plain": [
       "<Figure size 432x288 with 1 Axes>"
      ]
     },
     "metadata": {
      "needs_background": "light"
     },
     "output_type": "display_data"
    }
   ],
   "source": [
    "import matplotlib.pyplot as plt\n",
    "mu, sigma = 100, 15\n",
    "x = mu + sigma * np.random.randn(10000)\n",
    "\n",
    "# the histogram of the data\n",
    "n, bins, patches = plt.hist(x, 50, density=1, facecolor='g', alpha=0.75)\n",
    "plt.xlabel('workplace')\n",
    "plt.ylabel('gender ratio')\n",
    "plt.title('Histogram of sexual harassments')\n",
    "plt.text(60, .025, r'$\\mu=100,\\ \\sigma=15$')\n",
    "plt.axis([40, 160, 0, 0.03])\n",
    "plt.grid(True)\n",
    "plt.show()"
   ]
  },
  {
   "cell_type": "code",
   "execution_count": 15,
   "metadata": {},
   "outputs": [],
   "source": [
    "import io\n",
    "import random\n",
    "import string # to process standard python strings\n",
    "import warnings\n",
    "import numpy as np\n",
    "from sklearn.feature_extraction.text import TfidfVectorizer\n",
    "from sklearn.metrics.pairwise import cosine_similarity\n",
    "import warnings\n",
    "warnings.filterwarnings('ignore')"
   ]
  },
  {
   "cell_type": "code",
   "execution_count": 16,
   "metadata": {},
   "outputs": [
    {
     "data": {
      "text/plain": [
       "True"
      ]
     },
     "execution_count": 16,
     "metadata": {},
     "output_type": "execute_result"
    }
   ],
   "source": [
    "import nltk\n",
    "from nltk.stem import WordNetLemmatizer\n",
    "nltk.download('popular', quiet=True) # for downloading packages\n",
    "#nltk.download('punkt') # first-time use only\n",
    "#nltk.download('wordnet') # first-time use only"
   ]
  },
  {
   "cell_type": "code",
   "execution_count": 17,
   "metadata": {},
   "outputs": [
    {
     "name": "stdout",
     "output_type": "stream",
     "text": [
      "'''Workplace harassment''' is the belittling or threatening behavior directed at an individual worker or a group of workers<ref name=\"Williams_Helen\">{{cite web | last = Williams | first = Helen  | title = Maintaining a harassment-free workplace: APC  | url = http://www.apsc.gov.au/publications01/harassment.htm | archive-url = https://web.archive.org/web/20120328034350/http://apsc.gov.au/publications01/harassment.htm | website = apsc.gov.au | publisher = [[Australian Public Service Commission]] | date = 8 February 2001 | archive-date = 28 March 2012 }}</ref>\n",
      "\n",
      "Recently, matters of [[workplace]] [[harassment]] have gained interest among practitioners and researchers as it is becoming one of the most sensitive areas of effective workplace management, because a significant source of work [[Stress (psychological)|stress]] is associated with aggressive behaviors at workplace.<ref>{{cite journal|last=Tehrani|first=Noreen|date=August 2004|title=Bullying: a source of chronic post traumatic stress?|journal=British Journal of Guidance & Counselling|volume=32|issue=3|pages=357–366|doi=10.1080/03069880410001727567}}</ref> In Asian countries, workplace harassment is one of the poorly attended issues by managers in organizations.<ref name=Rokon>{{cite journal | last1 = Rokonuzzaman | first1 = Md. | last2 = Rahman | first2 = M M | title = Workplace Harassment and Productivity: A Comprehensive Role of Strategic Leadership | journal = Journal of General Education | volume = 1 | issue = Dec | pages = 41–50 | date = 2011 }} ISSN: 2223-4543. [https://www.researchgate.net/publication/299594576 PDF]</ref> However, it attracted much attention from researchers and governments since the 1980s. Under [[occupational health and safety]] laws around the world,<ref>Concha-Barrientos, M., Imel, N.D., Driscoll, T., Steenland, N.K., Punnett, L., Fingerhut, M.A., Prüss-Üstün, A., Leigh, J., Tak, S.W., Corvalàn, C. (2004). Selected occupational risk factors. In M. Ezzati, A.D. Lopez, A. Rodgers & C.J.L. Murray (Eds.), Comparative Quantification of Health Risks. Geneva: World Health Organization.</ref> workplace harassment and [[workplace bullying]] are identified as being core psychosocial hazards.<ref>{{citation|last=Productivity Commission |author-link=Productivity Commission |contribution=Psychosocial hazards |editor-last=Productivity Commission |editor-link=Productivity Commission |title=Performance Benchmarking of Australian Business Regulation: Occupational Health and Safety |publisher=[[Government of Australia]] |url=http://www.pc.gov.au/__data/assets/pdf_file/0003/96177/13-chapter11.pdf |url-status=dead |archive-url=https://web.archive.org/web/20140307073447/http://www.pc.gov.au/__data/assets/pdf_file/0003/96177/13-chapter11.pdf |archive-date=March 7, 2014 }}</ref> '''Overbearing supervision''', '''constant criticism''', and blocking promotions are all considered workplace harassment.<ref>{{Cite news|url=https://www.theguardian.com/careers/2017/mar/29/bullying-at-work-your-legal-rights|title=Bullying at work: your legal rights|last=Landau|first=Philip|date=2017-03-29|newspaper=The Guardian|language=en|access-date=2018-10-08}}</ref>\n",
      "\n",
      "==Definition==\n",
      "Workplace harassment is also known by many other names. \"Mobbing\", \"[[workplace bullying]]\", \"workplace mistreatment\", \"[[workplace aggression]]\", \"workplace molestation\" and \"workplace abuse\" are all either synonymous or belong to the category of workplace harassment.<ref>{{cite journal | last1 = Lewis | first1 = Jacqueline | last2 = Coursol | first2 = Diane | last3 = Wahl | first3 = Kay Herting | title = Addressing issues of workplace harassment: counseling the targets | journal = [[Journal of Employment Counseling]] | volume = 39 | issue = 3 | pages = 109–116 | doi = 10.1002/j.2161-1920.2002.tb00842.x | date = September 2002 }} [http://www.workplaceviolence911.com/sites/workplaceviolence911.com/files/20021202-04_1.htm Text.]</ref> Workplace harassment includes different types of discrimination and acts of violation that are not confined to one specific group. The wide-ranging types of workplace harassment can be loosely categorized into emotional and physical abuse. All of these forms of workplace harassment target various groups, including women, racial minorities, homosexuals, people with disabilities and immigrants. In essence, workplace harassment requires a pluralistic understanding, because it cannot be delineated in one coherent and concrete definition.<ref name=\"Brooks\">{{cite journal | last = Brooks | first = Rosa Ehrenreich | title = Dignity and discrimination: toward a pluralistic understanding of workplace harassment | journal = [[Georgetown Law Journal]] | volume = 88 | issue = 1 | pages = 14–20 | date = 1999 | url = http://scholarship.law.georgetown.edu/facpub/1134/ }} [http://scholarship.law.georgetown.edu/cgi/viewcontent.cgi?article=2143&context=facpub Pdf.]</ref>\n",
      "\n",
      "Acknowledging the difficulty of formulating a universal definition of workplace harassment, Ezer broadly defines workplace harassment as \"irrational repeated behavior towards an employee or group of employees, which represents a health and security risk.<ref name=\"Ezer\">{{cite journal | last1 = Ezer | first1 = Marius | last2 = Ezer | first2 = Oana Florentina | title = Workplace harassment, mobbing phenomenon | journal = Perspectives of Business Law Journal | volume = 1 | issue = 1 | pages = 298–304 | date = November 2012 | url = http://www.businesslawconference.ro/revista/anul1nr1.html }} [http://www.businesslawconference.ro/revista/articole/an1nr1/33%20Marius%20Ezer%20si%20Oana%20Ezer%20Eng.pdf Pdf.]</ref> Any act of discrimination or assault that systematically disadvantage the employees is considered workplace harassment.<ref name=\"Ezer\" /> Workplace harassment can contribute to deterioration of physical and emotional health.<ref name=\"Ezer\" />\n",
      "\n",
      "According to Rosa Brook, the concept of workplace harassment is based on two premises.<ref name=\"Brooks\" /> Firstly, regardless of gender, race, sexuality or any other defining characteristic, every person should be given the right to be \"free from abusive treatment in the workplace\".<ref name=\"Brooks\" /> With freedom from abuse given as a basic human right, any form of discomfort or discrimination in workplace becomes labeled as an act of harassment.<ref name=\"Brooks\" /> Secondly, the issues caused by workplace harassment affect the victims in harmful ways. Discrimination in the workplace hinders victims from successful advancement in their careers, limiting the capabilities of the victim.<ref name=\"Brooks\" />\n",
      "\n",
      "A common misconception about workplace harassment is that workplace harassment is simply [[sexual harassment]] in the context of a workplace.<ref name=\"DoL\">{{cite web | last = U.S. Department of Labor | author-link = United States Department of Labor | title = What do I need to know about – workplace harassment | url = http://www.dol.gov/oasam/programs/crc/2011-workplace-harassment.htm | website = dol.gov | publisher = [[Federal government of the United States|U.S. federal government]] | access-date = March 17, 2015 }}</ref> While sexual harassment is a prominent form of workplace harassment, the United States Department of Labor defines workplace harassment as being more than just sexual harassment.<ref name=DoL /> \"It may entail '[[Quid pro quo|quid pro quo']] harassment, which occurs in cases in which employment decisions or treatment are based on submission to or rejection of unwelcome conduct, typically conduct of a sexual nature. Workplace harassment may also consist of offensive conduct based on one or more of the protected groups above that is so severe or pervasive that it creates a hostile or offensive work environment or when it results in an adverse employment decision (such as being fired or demoted/reducing salary).\"<ref name=\"DoL\" /> Thus, workplace harassment is a bigger category that encompasses sexual harassment.\n",
      "\n",
      "==In the United States==\n",
      "\n",
      "===Types===\n",
      "The varying harassment imposed on the victims can be categorized into two different types, physical abuse and emotional abuse. Physical abuse refers to sexual assault and violence on body, while emotional abuse refers to imposing stress and bullying. Anderson and Militello found that often managers exhibiting [[Abusive supervision|harassing behavior]] were allowed to maintain their jobs because their behavior was seen to increase productivity in the short term. A study done by Kathleen D. Ryan and Daniel K Oestereich, ''Driving Fear Out of the Workplace'', found that many of these behaviors can range from subtle emotional cues to outward physical threats and can include; silence, direct insults and even angry outbursts. Whether these actions are intentional or brought on by stress, the result can cause the employee to feel humiliated, isolated and may cause them to lash out at others.<ref>{{citation | last = Layden | first = Dianne R. | contribution = Violence, the emotionally enraged employee, and the workplace: managerial considerations | editor-last1 = Curry | editor-first1 = Renée R. | editor-last2 = Allison | editor-first2 = Terry L. | title = States of rage: emotional eruption, violence and social change | pages = 48–49 | publisher = New York University Press | location = New York, New York | year = 1996 | isbn = 9780814715307 | postscript = .}}</ref>\n",
      "\n",
      "====Physical harassment====\n",
      "[[File:Anita Hill at Harvard Law School Sep 2014.jpg|thumb|Anita Hill testified her charge against Clarence Thomas for sexually harassing her at the Department of Education and the EEOC.]]\n",
      "Physical harassment in the workplace takes many forms. Sexual assault is one form of widely known physical harassment. Sexual assault in the workplace has gained media and academic attention mainly in the 1990s after a series of famous sex scandals.<ref name=\"Williams\">{{cite journal | last1 = Williams | first1 = Christine L. | last2 = Giuffre | first2 = Patti A. | last3 = Dellinger | first3 = Kirsten | title = Sexuality in the workplace: organizational control, sexual harassment, and the pursuit of pleasure | journal = [[Annual Review of Sociology]] | volume = 25 | pages = 73–93 | jstor = 223498 | doi = 10.1146/annurev.soc.25.1.73 | date = 1999 }}</ref> \"Among the most notorious are the 1991 congressional hearings on the alleged sexual harassment of [[Anita Hill]] by Clarence Thomas, nominee to the Supreme Court; the sexual assault on female officers at a party during the 1991 annual convention of Navy fighter pilots; the dismissal of Air Force pilot Kelly Flinn for adultery in 1997; the 1998 trial and acquittal of the top ranking Army enlisted man on charges of sexual harassment; and the independent counsel investigations of President Clinton's sexual affairs with subordinates.\"<ref name=\"Williams\" /> With this cascade of sex scandals, the media and scholars have focused on developing more studies on sexual harassment in workplaces. Sexual assault becomes difficult to define, as the distinction between sexual harassment and consensual sexual behaviors is not finely delineated.<ref name=\"Williams\" /> Some occupations require a higher tolerance to sexual behaviors, such as waitresses and tour guides.<ref name=\"Williams\" /> More specifically, the employers for these occupations expect the workers to comply with the level of sexual interactions the workers would have with the customers.<ref name=\"Williams\" /> This unquestioned expectation from the employers then pushes the workers to see only two options. The workers would have to accept the sexual harassment from customers as \"part of the job\", or report the sexual harassment to the manager and get fired.<ref name=\"Williams\" /> Adding onto the pressure, reporting sexual assault comes with criticism from co-workers, as they see the sexual assault as part of the job requirement.<ref name=\"Williams\" />\n",
      "\n",
      "{{see also|Sexual harassment in the workplace in the United States}}\n",
      "The prevalence of sexual harassment at work is high. For example, a study by the [[U.S. Merit Systems Protection Board]] in 1981 shows that among the female government employees, 33 percent experienced sexual comments, 26 percent had unwanted physical touching, and 15 percent was pressured for dates.<ref name=\"Fitzgerald\">{{Cite journal | last = Fitzgerald | first = Louise F. | title = Sexual harassment: violence against women in the workplace | journal = [[American Psychologist]] | volume = 48 | issue = 10 | pages = 1070–1076 | doi = 10.1037/0003-066X.48.10.1070 | date = October 1993 }}</ref> Moreover, \"Nearly 10% had been directly pressured for sexual cooperation, and a similar percentage described repeated telephone calls and unwelcome letters or notes.\"<ref name=\"Fitzgerald\" /> Other than this example, Fitzgerald states that \"the enormity of such figures is difficult to grasp, indicating as they do that virtually millions of women are subjected to experiences ranging from insults to assault—many on an ongoing or recurrent basis— as the price of earning a living.\"<ref name=\"Fitzgerald\" />\n",
      "\n",
      "Another form of physical harassment at work is workplace violence. [[Workplace violence]] is defined as physical threats and assaults targeted at employees. There are two main perpetrators for workplace violence: criminals who approached as clients, and co-workers.<ref name=\"Leblanc\">{{Cite journal | last1 = LeBlanc | first1 = Manon Mireille | last2 = Kelloway | first2 = E. Kevin | title = Predictors and outcomes of workplace violence and aggression | journal = [[Journal of Applied Psychology]] | volume = 87 | issue = 3 | pages = 444–453 | doi = 10.1037/0021-9010.87.3.444 | pmid = 12090602 | date = June 2002 }}</ref> The criminals assert violence through the forms of robberies and homicides, and the rate of homicides in the workplace has risen significantly over the past 20 years.<ref name=\"Leblanc\" />  According to the [[National Institute for Occupational Safety and Health]] (NIOSH), 9,937 workplace homicides happened in the time period of 1980 to 1992, which averages out to about 800 homicides per year.<ref name=\"Leblanc\" /> \"In 1989, homicide was the third leading cause of death in the workplace for all employees.<ref name=\"Neuman\">{{cite journal | last1 = Neuman | first1 = Joel H. | last2 = Baron | first2 = Robert A. | title = Workplace violence and workplace aggression: evidence concerning specific forms, potential causes, and preferred targets | journal = [[Journal of Management]] | volume = 24 | issue = 3 | pages = 391–419 | doi = 10.1177/014920639802400305 | date = June 1998 }} [https://lms.manhattan.edu/pluginfile.php/150282/mod_resource/content/2/Workplace%20Violence%20and%20Workplace%20Aggression.pdf Pdf.]</ref> By 1993, homicide had become the second-leading cause of death on-the-job for all employees and had become the leading cause of death for women.\"<ref name=\"Neuman\" /> Most of these homicides are by criminals, as the [[Bureau of Labor Statistics]] found that only 59 of the 1,063 were co-worker-related homicides, and the rest were made by criminals.<ref name=\"Neuman\" />\n",
      "\n",
      "The workplace violence perpetrated by co-workers tends to be less obvious.<ref name=\"Neuman\" /> The Northwestern National Life (1993) study showed 15 percent of respondents experienced physical attack at work, and 14 percent of respondents reported being physically attacked in the past 12 months.<ref name=\"Neuman\" /> The acts of violence in workplace consist of pushing or shoving, fistfights, and rape.<ref name=\"Neuman\" /> The SHRM study that interviewed 1,016 human resource professionals, \"22% reported incidents of pushing or shoving, 13% reported fist fights, and 1% reported rape or sexual assault.\"<ref name=\"Neuman\" /> Much of the physical violence on workers is preceded by physiological aggression, hinting that emotional harassment may be the cause for workplace violence.<ref>{{Cite journal | last1 = Schat | first1 = Aaron C.H. | last2 = Kelloway | first2 = E. Kevin | title = Reducing the adverse consequences of workplace aggression and violence: the buffering effects of organizational support | journal = [[Journal of Occupational Health Psychology]] | volume = 8 | issue = 2 | pages = 110–122 | doi = 10.1037/1076-8998.8.2.110 | pmid = 12703877 | date = April 2003 }} [http://workplaceviolence.ca/sites/default/files/Schat%20%26%20Kelloway%20%282003%29-Reducing%20the%20adverse%20consequences....pdf Pdf.]</ref>\n",
      "\n",
      "====Emotional harassment====\n",
      "\n",
      "Unlike physical harassment, emotional harassment is unnoticeable and also viewed as being more socially acceptable.<ref name=\"Keashly\">{{cite journal | last = Keashly  | first = Loraleigh | title = Emotional abuse in the workplace: conceptual and empirical issues | journal = [[Journal of Aggression, Maltreatment & Trauma|Journal of Emotional Abuse]] | volume = 1 | issue = 1 | pages = 85–117 | doi = 10.1300/J135v01n01_05 | date = July 1997 }}</ref> Naturally, emotional harassment in the workplace gets less attention than physical harassment in the workplace, which perpetuates the issue of emotional harassment in the workplace.<ref name=\"Keashly\" /> According to Keashly, emotional harassment can be defined as \"the hostile verbal and nonverbal behaviors that are not explicitly tied to sexual or racial content yet are directed at gaining compliance from others.\"<ref name=\"Keashly\" /> In short, emotional harassment is manipulation of people's actions through social behaviors.\n",
      "\n",
      "One common form of emotional abuse in workplace is [[bullying]]. Also known as [[mobbing]], workplace bullying \"is a long lasting, escalated conflict with frequent harassing actions systematically aimed at a target person.\"<ref name=\"Zapf\">{{cite journal | last = Zapf | first = Dieter | title = Organisational, work group related and personal causes of mobbing/bullying at work | journal = [[International Journal of Manpower]] | volume = 20 | issue = 1–2 | pages = 70–85 | doi = 10.1108/01437729910268669 | date = 1999 }}</ref> Specific actions of workplace bullying include the following: false accusations of mistakes and errors, hostile glares and other intimidating non-verbal behaviors, yelling, shouting, and screaming, exclusion and the \"silent treatment,\" withholding resources and information necessary to the job, behind-the-back sabotage and defamation, use of put-downs, insults, and excessively harsh criticism, and unreasonably heavy work demands designed to ensure failure.<ref name=\"yamada\">{{cite book | last = Yamada | first = David | title = Promoting healthy, productive, and socially responsible workplaces | publisher = 2014 Warns-Render Institute University of Louisville, Louis D. Brandeis School of Law }} New Workplace Institute: promoting healthy, productive, and socially responsible workplaces. [https://web.archive.org/web/20150402153422/http://uofllawclinic.com/sites/www.law.louisville.edu/files/materials_yamada.pdf Pdf.]</ref> The 2014 Workplace Bullying Institute/Zogby national survey shows that 27 percent of the total amount of Human Beings on the Planet Earth have experienced workplace bullying in the past, and 70-seven percent of employees are currently suffering with workplace bullying.<ref name=\"yamada\" /> In addition, \"[[Nursing shortage|more than 97% of nurse managers]] reported experiencing abuse, whereas [[Retail Industry Leaders Association|60% of retail industry workers]], 23% of faculty and university staff, and 53% of business school students reported abuse at work.\"<ref name=\"Lutgen\">{{cite journal | last = Lutgen-Sandvik | first = Pamela | title = The communicative cycle of employee emotional abuse: generation and regeneration of workplace mistreatment | journal = [[Management Communication Quarterly]] | volume = 16 | issue = 4 | pages = 471–501 | doi = 10.1177/0893318903251627 | date = May 2003 }} [https://www.natcom.org/uploadedFiles/Public_Engagement/NCA_Anti-Bullying_Digital_Repository/Workplace_Bullying/Lutgen-Sandvik-%20The%20communicative%20cycle%20of%20employee%20emotional%20abuse%20Generation%20and%20regeneration%20of%20workplace%20mistreatment.pdf Pdf.]</ref> The areas of industry in which emotional abuse happens are not limited to one, but rather they range from hospitals, universities, manufacturing plants, research industries, and social service agencies.<ref name=\"Lutgen\" />\n",
      "\n",
      "With such frequency of workplace bullying to various groups of people, many theories exist in discussing the causes of workplace bullying. One side argues that the bullying targets are in fact responsible for the bullying.<ref name=\"Zapf\" /> More specifically, some physicians and psychologists attribute the cause of workplace bullying to the target employee's mental disorders, such as [[general anxiety disorder]], instead of the working situation.<ref name=\"Zapf\" /> The opposite argument contends that the cause of workplace bullying lies in the organizational problems and poor leadership skills. Another argument states that workplace bullying is a multi-causal phenomenon, as different factors can play their respective roles in building the tension.<ref>{{cite journal | last = Salin | first = Denise | title = Ways of explaining workplace bullying: a review of enabling, motivating and precipitating Structures and processes in the work environment | journal = [[Human Relations (journal)|Human Relations]] | volume = 56 | issue = 10 | pages = 1213–1232 | doi = 10.1177/00187267035610003 | date = October 2003 | hdl = 10227/283 | hdl-access = free }}</ref> Despite this plethora of arguments, Zapf addresses that academic analysis of the cause is difficult.<ref name=\"Zapf\" /> Getting the perspective of perpetrators and potential bystanders is unrealistic, and therefore the studies are primarily focused on victims' interviews.<ref name=\"Zapf\" />\n",
      "\n",
      "===Victims===\n",
      "The victims of workplace harassment can be separated into three categories, based on gender, sexuality, and race. While one group experiences workplace harassment more frequently than others, workplace harassment still affects wide range of population.\n",
      "\n",
      "====Gender====\n",
      "Both men and women are victims of workplace harassment. Workplace harassment for women dates back to women's first foray into the workforce, as early as colonial times. The most common form of workplace harassment that women face is sexual harassment.<ref name=\"Fitzgerald\" /> According to Fitzgerald, one of every two women experiences workplace harassment in their working or academic lives.<ref name=\"Fitzgerald\" /> The most common form of sexual harassment is the unwanted and unavoidable sexual attention from co-workers.<ref name=\"Fitzgerald\" /> A study of government employees shows the inescapable, uncomfortable sexual attention takes varying forms.<ref name=\"Fitzgerald\" /> 33% of respondents had been called by sexual remarks, 26% of respondents faced physical touching, and 15% respondents were pressured to go on a date.<ref name=\"Fitzgerald\" /> The more explicit forms of sexual harassment are shown by court cases, such as [[Meritor Savings Bank v. Vinson|Meritor v. Vinson]] (1986), Robinson v. Jacksonville Shipyards (1991), and others.<ref name=\"Fitzgerald\" /> In Meritor v. Vinson, \"Michele Vinson, an employee of Meritor Savings Bank, was forced to have sex with her boss between 40 and 50 times.\"<ref name=\"Fitzgerald\" /> The boss harassed her by fondling her in public, following her to the bathroom, and frequently raping her.<ref name=\"Fitzgerald\" /> In Robinson v. Jacksonville Shipyards, Robinson requested to put down the pornographic materials in Jacksonville Shipyard workplace. The pornographic material included \"a pinup showing a meat spatula pressed against a woman's pubic area and another featuring a nude woman holding a whip.\"<ref name=\"Fitzgerald\" />\n",
      "\n",
      "While workplace harassment against women has been a frequent subject of study for more than 20 years, workplace harassment against men rarely receives attention and is not subjected to many studies.<ref name=\"Lee\">{{cite journal | last = Lee | first = Deborah | title = Hegemonic masculinity and male feminisation: the sexual harassment of men at work | journal = [[Journal of Gender Studies]] | volume = 9 | issue = 2 | pages = 141–155 | doi = 10.1080/713677986 | date = July 2000 }}</ref> However, the Bureau of Justice Statistics shows that \"among people victimized while working or on duty, male victims outnumbered females by about 2 to 1.\"<ref name=\"Warchol\">{{citation | last = Warchol | first = Greg | contribution = Victim characteristics | editor-last = Warchol | editor-first = Greg | title = Special report: National Crime Victimization Survey: Workplace violence, 1992-96 | page = 2 | url = http://www.bjs.gov/content/pub/pdf/wv96.pdf | publisher = [[Bureau of Justice Statistics]] | date = July 1998 | id = NCJ 168634 | postscript = .}}</ref>  Men experience less workplace sexual harassment than women, as only 16.7% of men reported rape/sexual assault, but men face more workplace violence.<ref name=\"Warchol\" /> 72% of men were robbed in their workplace, 74.4% of men experienced aggravated assault, and 66.1% of men experienced simple assault.<ref name=\"Warchol\" />\n",
      "\n",
      "====Sexuality====\n",
      "The Williams Institute 2011 study shows that \"In the American workforce, more than eight million people (or 4 percent of the U.S. workforce) identify as [[LGBT|lesbian, gay, bisexual, or transgender]] (LGBT).\"<ref name=\"Pizer\">{{cite journal | last1 = Pizer | first1 = Jennifer C. | last2 = Sears | first2 = Brad | last3 = Mallory | first3 = Christy | last4 = Hunter | first4 = Nan D. | title = Evidence of persistent and pervasive workplace discrimination against LGBT people: the need for Federal legislation prohibiting discrimination and providing for equal employment benefits | journal = [[Loyola of Los Angeles Law Review]] | volume = 45 | issue = 3 | pages = 715–779 | date = Spring 2012 | url = http://digitalcommons.lmu.edu/llr/vol45/iss3/3/ }} [http://digitalcommons.lmu.edu/cgi/viewcontent.cgi?article=2796&context=llr Pdf.]</ref> Even so, the LGBT group has faced constant discrimination and harassment in workplaces, as shown by court cases and historical events.<ref name=\"Pizer\" /> One common form of workplace harassment for LGBT community is the psychological and physical strain in hiding their sexuality in a heterosexist workplace environment.<ref name=\"Probst\">{{citation | last1 = Probst | first1 = Tahira M. | last2 = Estrada | first2 = Armando X. | last3 = Brown |first3=Jeremiah W. | contribution = Harassment, violence and hate crimes in the workplace | editor-last = Thomas | editor-first = Kecia M. | title = Diversity resistance in organizations | pages = 93–125 | publisher = Lawrence Erlbaum Associates | year = 2008 | series = Series in Applied Psychology | isbn = 9780805859638 | postscript = .}}</ref> Other form of workplace harassment is direct harassment from the public after disclosing one's sexuality.<ref name=\"Probst\" /> Because an LGBT individual experiences explicit verbal assault, physical violence, and hate crimes after disclosing sexuality, the LGBT community more often than not conceals its sexuality in workplaces.<ref name=\"Probst\" />\n",
      "\n",
      "====Race====\n",
      "Many studies show that culturally stigmatized groups face more workplace harassments.<ref name=\"Deitch\">{{cite journal | last1 = Deitch | first1 = Elizabeth A. | last2 = Barsky | first2 = Adam | last3 = Butz | first3 = Rebecca M. | last4 = Chan | first4 = Suzanne | last5 = Brief | first5 = Arthur P. | last6 = Bradley | first6 = Jill C. | title = Subtle yet significant: the existence and impact of everyday racial discrimination in the workplace | journal = [[Human Relations (journal)|Human Relations]] | volume = 56 | issue = 11 | pages = 1299–1324 | doi = 10.1177/00187267035611002 | date = November 2003 }}</ref> With changes in the political and social scenes in America, subtle and daily harassment is more common than blatant and explicit harassment today.<ref name=\"Deitch\" /> A study by Deitch, Barsky, Butz and et al. shows that black Americans face more mistreatment in workplaces than white Americans.<ref name=\"Deitch\" /> The mistreatments and harassments do not explicitly \"reference race or discrimination as the cause of the treatment\", because overt racism is prohibited in workplaces.<ref name=\"Deitch\" /> However, the statistics show race is \"significantly associated with mistreatment\" and that black Americans in general report significantly more \"minor, pervasive mistreatment and unfairness on the job.\"<ref name=\"Deitch\" /> The study suggests the discrimination and harassments may intensify for Black Americans in a job with fewer people of the same race, such as \"token\" Black employee or \"solo\" employees.<ref name=\"Deitch\" /> In addition, not only Blacks but also Asian Americans, and other minority races all face \"a higher rate of homicide than their proportion of the work force would suggest.\"<ref name=\"Toscano\">{{citation | last1 = Toscano | first1 = Guy | last2 = Weber | first2 = William | contribution = Homicides at work | editor-last1 = Toscano | editor-first1 = Guy | editor-last2 = Weber | editor-first2 = William | title = Violence in the workplace | page = 45 | url = http://www.bls.gov/iif/oshwc/cfar0005.txt | publisher = [[Bureau of Labor Statistics]], [[United States Department of Labor|U.S. Dept. of Labor]] | date = 1995 | postscript = .}} [http://www.bls.gov/iif/oshwc/cfar0005.pdf Pdf.]</ref> Of the eighth of the workforce experiencing homicide, more than a fourth of the population is an ethnic minority.<ref name=\"Toscano\" />\n",
      "\n",
      "===Impacts===\n",
      "\n",
      "====[[Alcoholism]]====\n",
      "The intensity of workplace harassment is positively correlated with the level of alcohol use.<ref name=\"Richman\">{{cite journal | last1 = Richman | first1 = Judith A. | last2 = Rospenda | first2 = Kathleen M. | last3 = Flaherty | first3 = Joseph A. | last4 = Freels | first4 = Sally | title = Workplace harassment, active coping, and alcohol-related outcomes | journal = Journal of Substance Abuse | volume = 13 | issue = 3 | pages = 347–366 | doi = 10.1016/S0899-3289(01)00079-7 | pmid = 11693457 | date = October 2001 }}</ref> One of the motives that people drink is \"to self-medicate distressful feelings resulting from problematic social conditions\".<ref name=\"Richman\" /> Thus, the negative social distress faced in workplaces is linked with increased consumption of alcohol.<ref name=\"Richman\" /> Moreover, because workplace harassment cannot be clearly delineated like sexual or racial harassment, victims do not counteract by legal and institution responses.<ref name=\"Richman\" /> Rather, they rely on drinking to cope with the emotional distress.<ref name=\"Richman\" />\n",
      "\n",
      "Nolen-Hoeksema and Harrell's 2002 study shows that while both women and men are at risk of alcoholism under workplace harassment, men are more likely to cope by drinking than women do, as women use their relatively wider social connections to attain the emotional support.<ref name=\"Rospenda\">{{cite journal | last1 = Rospenda | first1 = Kathleen M. | last2 = Fujishiro | first2 = Kaori | last3 = Shannon | first3 = Candice A. | last4 = Richman | first4 = Judith A. | title = Workplace harassment, stress, and drinking behavior over time: gender differences in a national sample | journal = [[Addictive Behaviors]] | volume = 33 | issue = 7 | pages = 964–967 | doi = 10.1016/j.addbeh.2008.02.009 | pmc = 2442899 | date = July 2008 | pmid=18384975}}</ref> However, a 2004 survey of a random sample of employees at a heavy machinery assembly plant shows that women are more sensitive and receptive of workplace harassment, and therefore women have \"a greater propensity to drink\".<ref name=\"Svare\">{{cite journal | last1 = Messick Svare | first1 = Gloria | last2 = Miller | first2 = Leonard | last3 = Ames | first3 = Genevieve | title = Social climate and workplace drinking among women in a male-dominated occupation | journal = [[Addictive Behaviors]] | volume = 29 | issue = 8 | pages = 1691–1698 | doi = 10.1016/j.addbeh.2004.03.033 | pmid = 15451139 | date = November 2004 }}</ref> The negative drinking effects are more severe for women than they are for men.<ref name=\"Rospenda\" />\n",
      "\n",
      "One mail survey that was completed at four points in time by a cohort of 1654 employees has shown that the positive correlation between consumption of drinking and levels of workplace harassment continues after retirement.<ref name=\":4\">{{cite journal | last1 = Richman | first1 = Judith A. | last2 = Zlatoper | first2 = Kenneth W. | last3 = Zackula Ehmke | first3 = Jennifer L. | last4 = Rospenda | first4 = Kathleen M. | title = Retirement and drinking outcomes: lingering effects of workplace stress? | journal = [[Addictive Behaviors]] | volume = 31 | issue = 5 | pages = 767–776 | doi = 10.1016/j.addbeh.2005.06.001 | pmid = 15994026 | date = May 2006 }}</ref> Even when the immediate stressors are not present, the victims still retain the increased use of alcohol.<ref name=\":4\" /> The study attributes the reason for the lasting effect is that \"appropriate alcohol consumption may have functioned to somewhat inhibit the self-medication of stress-induced distress during work role occupancy\".<ref name=\":4\" />\n",
      "\n",
      "====PTSD====\n",
      "PTSD is commonly known as a \"war wound\", yet it also affects workers,<ref name=\":5\" /> \"when a worker suffers PTSD, the workplace for that person has become a war zone\".<ref name=\":5\">{{cite web | title = Psychological-emotional-mental injuries | url = http://www.workplacebullying.org/individuals/impact/mental-health-harm/ | publisher = Workplace Bullying Institute RSS | access-date = April 28, 2015 }}</ref> Several studies show that many workplace harassment victims experience [[posttraumatic stress disorder]] (PTSD).<ref name=\"Mikkelsen\">{{cite journal | last1 = Mikkelsen | first1 = Eva Gemzøe | last2 = Einarsen | first2 = Ståle | title = Basic assumptions and symptoms of post-traumatic stress among victims of bullying at work | journal = [[European Journal of Work and Organizational Psychology]] | volume = 11 | issue = 1 | pages = 87–111 | doi = 10.1080/13594320143000861 | date = March 2002 }}</ref> For example, a study that interviewed about 100 victims of workplace harassment shows that \"a majority of the respondents exceed recommended threshold-values indicating PTSD\".<ref name=\"Matthiesen\">{{cite journal | last1 = Matthiesen | first1 = Stig Berge | last2 = Einarsen | first2 = Ståle | title = Psychiatric distress and symptoms of PTSD among victims of bullying at work | journal = British Journal of Guidance & Counselling| volume = 32 | issue = 3 | pages = 335–356 | doi = 10.1080/03069880410001723558 | date = August 2004 }} [http://folk.uib.no/pspsm/documents/Bullying-PTSD-2004-Matthiesen-Einarsen.pdf Pdf.]</ref> The study also demonstrate that based on the duration and persistency of the workplace harassment, the levels of PTSD differ.<ref name=\"Matthiesen\" /> The more recent and frequent the workplace harassment occurred, the more severe their symptoms of PTSD were.<ref name=\"Matthiesen\" />\n",
      "\n",
      "A study by Mikklesen and Einarsen also reports that 76 percent of its respondents experienced PTSD.<ref name=\"Mikkelsen\" /> Nevertheless, Mikklesen and Einarsen qualify the idea that workplace harassment directly leads to PTSD.<ref name=\"Mikkelsen\" /> They argue that the causes of PTSD symptoms of the victims are primarily attributed to other traumatic events rather than the workplace harassment itself.<ref name=\"Mikkelsen\" /> Therefore, the study concludes the \"exposure to other traumatic life events may increase victims' vulnerability\" to their sensitivity to workplace harassment.<ref name=\"Mikkelsen\" />\n",
      "\n",
      "==== Other psychological effects ====\n",
      "Other than alcoholism and PTSD, victims of workplace harassment also experience other negative psychological effects.<ref name=\":0\">{{cite journal | last1 = Lewis | first1 = Jacqueline | last2 = Coursol | first2 = Diane | last3 = Wahl | first3 = Kay Herting | title = Addressing issues of workplace harassment: counseling the targets | journal = [[Journal of Employment Counseling]] | volume = 39 | issue = 3 | pages = 109–116 | doi = 10.1002/j.2161-1920.2002.tb00842.x | date = March 2001 }} [http://www.workplaceviolence911.com/sites/workplaceviolence911.com/files/20021202-04_1.htm Text.]</ref> An analysis of self-reported health symptoms, and physiological stress reactivity of 437 employees shows that compared to the employees who have not experienced workplace harassment, employees who have experienced exhibited higher level of anxiety and nervousness.<ref>{{cite journal | last1 = Hansen | first1 = Åse Marie | last2 = Hogh | first2 = Annie | last3 = Persson | first3 = Roger | last4 = Karlson | first4 = Björn | last5 = Garde | first5 = Anne Helene | last6 = Ørbæk | first6 = Palle | title = Bullying at work, health outcomes, and physiological stress response | journal = [[Journal of Psychosomatic Research]] | volume = 60 | issue = 1 | pages = 63–72 | doi = 10.1016/j.jpsychores.2005.06.078 | pmid = 16380312 | date = January 2006 }}</ref> Another study's survey of 156 victims of workplace harassment shows that 79.4 percent of respondents suffer from stress, 64.7 percent from depressive symptoms, 64 percent from tiredness, 59 percent from lack of confidence, 58 percent from humiliation and guilt, and 58 percent from nightmares.<ref name=\":0\" />\n",
      "\n",
      "=== Preventions ===\n",
      "\n",
      "==== Title VII ====\n",
      "[[Civil Rights Act of 1964|Title VII of the Civil Rights Act of 1964]] is used as a tool to eradicate workplace harassment.<ref>{{cite journal | last = Anderson | first = Katherine S. | title = Employer liability under Title VII for sexual harassment after ''Meritor Savings Bank v. Vinson'' | journal = [[Columbia Law Review]] | volume = 87 | issue = 6 | pages = 1258–1279 | doi = 10.2307/1122590 | jstor = 1122590 | date = October 1987 }}</ref> Title VII lists the following actions of employers unlawful:<blockquote>\"(1) to fail or refuse to hire or to discharge any individual, or otherwise to discriminate against any individual with respect to [her or] his compensation, terms, conditions, or privileges of employment, because of such individual's race, color, religion, sex, or national origin; or (2) to limit, segregate, or classify [her or] his employees discrimination based on race, color, religion, sex and national origin … in any way which would deprive... any individual of employment opportunities or otherwise adversely affect [her or] his status as an employee, because of such individual's race, color, religion, sex, or national origin.\"<ref>{{cite journal | last = U.S. Code | author-link = United States Code | title = Title 42 Chapter 21 Subchapter VI U.S. Code § 2000e–2 - Unlawful Employment Practices | journal = [[Legal Information Institute]] | url = https://www.law.cornell.edu/uscode/text/42/2000e-2 }}</ref></blockquote>\"Most courts consider it consistent with the intent of Congress to interpret the Act liberally, and therefore, coverage under Title VII is very broad\".<ref name=\":1\">{{cite journal | last = Faley | first = Robert H. | title = Sexual harassment: critical review of legal cases with general principles and preventive measures | journal = Personnel Psychology | volume = 35 | issue = 3 | pages = 583–600 | doi = 10.1111/j.1744-6570.1982.tb02211.x | date = September 1982 }}</ref> This allows victims of workplace harassment primarily use Title VII to assert their legal actions.<ref name=\":1\" /> In addition, the [[Equal Employment Opportunity Commission]] (EEOC), a governmental committee that prohibits discrimination in workplace, administers the practices and violations of Title VII.<ref name=\":1\" /> It issued and amended the \"Guidelines on Discrimination of Sex\", a more specified interpretation of Title VII.<ref name=\":1\" />\n",
      "\n",
      "==== Court cases ====\n",
      "\n",
      "===== ''Meritor Savings Bank vs. Vinson'' =====\n",
      "While an employee with Meritor Savings Bank, Mechelle Vinson claimed that she had been sexually harassed and raped by the vice president of the bank, Sidney Taylor, for four years starting her first day of employment  .<ref name=\":2\">{{cite journal | last = Westman | first = Bonnie | title = The reasonable woman standard: preventing sexual harassment in the workplace | journal = [[William Mitchell College of Law|William Mitchell Law Review]] | volume = 18 | issue = 3 | pages = 795–827 | date = Summer 1992 | url = http://heinonline.org/HOL/LandingPage?handle=hein.journals/wmitch18&div=45&id=&page= }} [http://open.wmitchell.edu/cgi/viewcontent.cgi?article=2295&context=wmlr Pdf.]</ref> However, she did not address to Taylor or higher authority, because she was afraid of dismissal.<ref name=\":2\" /> ''[[Meritor Savings Bank v. Vinson|Meritor Savings Bank vs. Vinson]]'' case ruled that hostile environment is considered a violation of Title VII.<ref name=\":2\" /> This decision \"legitimized this area of the law for complainants and, for the first time, put employers on notice that unwelcome sexual conduct will not be tolerated in the workplace.\"<ref name=\":2\" /> This court case also added that violation of Title VII does not have to be \"tangible\" and \"economic\".<ref name=\":2\" />\n",
      "\n",
      "===== ''Robinson v. Jacksonville Shipyards, Inc.'' =====\n",
      "[[File:MoodyShipyardFL.jpg|thumb|Shipyard in Jacksonville]]\n",
      "Robinson, as one of the few female employees at the Jacksonville Shipyard, filed a sexual harassment report against Jacksonville Shipyard.<ref name=\":3\">{{cite journal | last = Strossen | first = Nadine | title = Regulating workplace sexual harassment and upholding the First amendment - avoiding a collision | journal = [[Villanova University School of Law#Publications|Villanova Law Review]] | volume = 37 | issue = 4 | pages = 757–785 | date = 1992 | url = http://digitalcommons.law.villanova.edu/vlr/vol37/iss4/3/ }} [http://digitalcommons.law.villanova.edu/cgi/viewcontent.cgi?article=2783&context=vlr Pdf.]</ref> She attested that all of the pornographic images and remarks objectified her.<ref name=\":3\" /> This case received high media attention, as the [[American Civil Liberties Union|ACLU]] of Florida and ACLU of Women's Rights Project defended different parties.<ref name=\":3\" /> ACLU of Florida primarily held the free speech principles, while in contrast, ACLU Women's Rights Project addressed the equality principle.<ref name=\":3\" /> They openly disagreed and showed \"disagreement among civil libertarians on how to apply free speech- and equality principles to the facts at issue in a workplace sexual harassment case.\"<ref name=\":3\" /> The District Court upheld the ACLU Women's Rights Project's side, as \"The District Court did not undertake the proper inquiry in determining liability.<ref name=\":3\" /> Instead, the District Court proceeded from the erroneous assumption that expression can constitute harassment merely because an employee finds it offensive.\"<ref name=\":3\" />\n",
      "==Quotes==\n",
      "“Beauty provokes harassment, the law says, but it looks through men's eyes when deciding what provokes it.”\n",
      "“The liberal idea of tolerance is more and more a kind of intolerance. What it means is 'Leave me alone; don't harass me; I'm intolerant towards your over-proximity.”\n",
      "? Slavoj Žižek\n",
      "“When a storm of harassment disturbs our thinking and brings us down to our knees, the umbrella of our imagination can shield us against destructive aggression. It is offering shelter and is teaching us how to conquer ourselves, train our resilience, and grit our teeth. We better learn to adopt the virtue of endurance, as life consists of both ‘passion’ and ‘patience.’ (\"The umbrella\")”\n",
      "? Erik Pevernagie\n",
      "== In Singapore ==\n",
      "In an informal survey among 50 employees in Singapore, 82% said they had experienced toxicity from their direct superior or colleagues in their careers, with some 33.3% experiencing it on a daily basis. Some of the other reports was failing to agree with the boss was considered being a trouble maker, always having to give praise to the superior, the senior colleague has a tendency to shout at people. Many respondents reported that they had to quit because of the toxic environment. In some cases they were made to feel they were at fault, which is why they quit <ref>{{Cite web|date=2020-01-21|title=Toxic Workplace Cultures in Singapore: Are They More Common Than We Realise?|url=https://www.ricemedia.co/current-affairs-opinion-toxic-workplace-culture-singapore/|access-date=2020-10-19|website=RICE|language=en-GB}}</ref> In other surveys, it is clear that the company is aware but does nothing, such as where a Singapore economist at a US bank is involved.<ref>{{Cite web|last=Chan|first=Melissa|date=2018-04-30|title=5 S'poreans On Working For Bosses From Hell - \"He Cut My Salary By $1,000 Because He Felt Like It\"|url=https://vulcanpost.com/638932/singapore-workplace-bullying-experiences/|access-date=2020-10-19|website=Vulcan Post|language=en-US}}</ref> A Kantar survey in 2019 suggested that employees in Singapore were the most likely to be made to \"feel uncomfortable\" by their employers, compared with those in the other countries that the company polled.<ref>{{Cite web|title=Is workplace bullying the norm in Singapore?|url=https://theaseanpost.com/article/workplace-bullying-norm-singapore|access-date=2020-10-19|website=The ASEAN Post|language=en}}</ref>\n",
      "\n",
      "==See also==\n",
      "{{columns-list|colwidth=30em|\n",
      "* [[Harassment in the United Kingdom]]\n",
      "* [[Hostile work environment]]\n",
      "* [[Industrial and organizational psychology]]\n",
      "* ''[[Majrowski v Guy's and St Thomas' NHS Trust]]''\n",
      "* [[Meritor Savings Bank v. Vinson]]\n",
      "* [[Protection from Harassment Act 1997]]\n",
      "* [[Reeves v. C.H. Robinson Worldwide, Inc.]]\n",
      "* [[Workplace incivility]]\n",
      "* [[Workplace aggression]]\n",
      "* [[Workplace bullying]]\n",
      "}}\n",
      "\n",
      "== Further reading ==\n",
      "* {{cite book | last1 = Boland | first1 = Mary L. | title = Sexual harassment In the workplace | publisher = SphinxLegal | isbn = 9781572485273 | date = 2005 | url-access = registration | url = https://archive.org/details/sexualharassment00bola }} [https://books.google.com/books?id=6gUtuL81YC8C&printsec=frontcover Preview.]\n",
      "* {{cite book | last1 = Einarsen | first1 = Ståle | last2 = Hoel | first2 = Helge | last3 = Zapf | first3 = Dieter | last4 = Cooper | first4 = Cary  |title=Bullying and harassment in the workplace: developments in theory, research, and practice | edition = 2nd | publisher = [[CRC Press]] | isbn = 9781439804902 |date=2010}} [https://books.google.com/books?id=h8qYxAhmhUAC&printsec=frontcover Preview.]\n",
      "* {{cite journal | last1 = Nielsen | first1 = Morten Birkeland | last2 = Tangen | first2 = Tone | last3 = Idsoe | first3 = Thormod | last4 = Matthiesen | first4 = Stig Berge | last5 = Magerøy | first5 = Nils | title = Post-traumatic stress disorder as a consequence of bullying at work and at school. A literature review and meta-analysis | journal = [[Aggression and Violent Behavior]] | volume = 21 | pages = 17–24 | doi = 10.1016/j.avb.2015.01.001 | date = March–April 2015 | doi-access = free }}\n",
      "\n",
      "== References ==\n",
      "{{Reflist|30em}}\n",
      "\n",
      "{{employment}}\n",
      "{{workplace}}\n",
      "\n",
      "[[Category:Workplace]]\n",
      "[[Category:Harassment]]\n",
      "[[Category:Workplace bullying]]\n",
      "\n"
     ]
    }
   ],
   "source": [
    "'''\n",
    "When you have collected your data, update the variable 'filepath' below with the location of your knowledge base. \n",
    "The knowledge base should consist of sentences in a text file.\n",
    "'''\n",
    "filepath='./workplace harassment.txt'\n",
    "corpus=open(filepath,'r',errors = 'ignore')\n",
    "raw_data=corpus.read()\n",
    "print (raw_data)"
   ]
  },
  {
   "cell_type": "code",
   "execution_count": 18,
   "metadata": {},
   "outputs": [
    {
     "name": "stdout",
     "output_type": "stream",
     "text": [
      "'''workplace harassment''' is the belittling or threatening behavior directed at an individual worker or a group of workers<ref name=\"williams_helen\">{{cite web | last = williams | first = helen  | title = maintaining a harassment-free workplace: apc  | url = http://www.apsc.gov.au/publications01/harassment.htm | archive-url = https://web.archive.org/web/20120328034350/http://apsc.gov.au/publications01/harassment.htm | website = apsc.gov.au | publisher = [[australian public service commission]] | date = 8 february 2001 | archive-date = 28 march 2012 }}</ref>\n",
      "\n",
      "recently, matters of [[workplace]] [[harassment]] have gained interest among practitioners and researchers as it is becoming one of the most sensitive areas of effective workplace management, because a significant source of work [[stress (psychological)|stress]] is associated with aggressive behaviors at workplace.<ref>{{cite journal|last=tehrani|first=noreen|date=august 2004|title=bullying: a source of chronic post traumatic stress?|journal=british journal of guidance & counselling|volume=32|issue=3|pages=357–366|doi=10.1080/03069880410001727567}}</ref> in asian countries, workplace harassment is one of the poorly attended issues by managers in organizations.<ref name=rokon>{{cite journal | last1 = rokonuzzaman | first1 = md. | last2 = rahman | first2 = m m | title = workplace harassment and productivity: a comprehensive role of strategic leadership | journal = journal of general education | volume = 1 | issue = dec | pages = 41–50 | date = 2011 }} issn: 2223-4543. [https://www.researchgate.net/publication/299594576 pdf]</ref> however, it attracted much attention from researchers and governments since the 1980s. under [[occupational health and safety]] laws around the world,<ref>concha-barrientos, m., imel, n.d., driscoll, t., steenland, n.k., punnett, l., fingerhut, m.a., prüss-üstün, a., leigh, j., tak, s.w., corvalàn, c. (2004). selected occupational risk factors. in m. ezzati, a.d. lopez, a. rodgers & c.j.l. murray (eds.), comparative quantification of health risks. geneva: world health organization.</ref> workplace harassment and [[workplace bullying]] are identified as being core psychosocial hazards.<ref>{{citation|last=productivity commission |author-link=productivity commission |contribution=psychosocial hazards |editor-last=productivity commission |editor-link=productivity commission |title=performance benchmarking of australian business regulation: occupational health and safety |publisher=[[government of australia]] |url=http://www.pc.gov.au/__data/assets/pdf_file/0003/96177/13-chapter11.pdf |url-status=dead |archive-url=https://web.archive.org/web/20140307073447/http://www.pc.gov.au/__data/assets/pdf_file/0003/96177/13-chapter11.pdf |archive-date=march 7, 2014 }}</ref> '''overbearing supervision''', '''constant criticism''', and blocking promotions are all considered workplace harassment.<ref>{{cite news|url=https://www.theguardian.com/careers/2017/mar/29/bullying-at-work-your-legal-rights|title=bullying at work: your legal rights|last=landau|first=philip|date=2017-03-29|newspaper=the guardian|language=en|access-date=2018-10-08}}</ref>\n",
      "\n",
      "==definition==\n",
      "workplace harassment is also known by many other names. \"mobbing\", \"[[workplace bullying]]\", \"workplace mistreatment\", \"[[workplace aggression]]\", \"workplace molestation\" and \"workplace abuse\" are all either synonymous or belong to the category of workplace harassment.<ref>{{cite journal | last1 = lewis | first1 = jacqueline | last2 = coursol | first2 = diane | last3 = wahl | first3 = kay herting | title = addressing issues of workplace harassment: counseling the targets | journal = [[journal of employment counseling]] | volume = 39 | issue = 3 | pages = 109–116 | doi = 10.1002/j.2161-1920.2002.tb00842.x | date = september 2002 }} [http://www.workplaceviolence911.com/sites/workplaceviolence911.com/files/20021202-04_1.htm text.]</ref> workplace harassment includes different types of discrimination and acts of violation that are not confined to one specific group. the wide-ranging types of workplace harassment can be loosely categorized into emotional and physical abuse. all of these forms of workplace harassment target various groups, including women, racial minorities, homosexuals, people with disabilities and immigrants. in essence, workplace harassment requires a pluralistic understanding, because it cannot be delineated in one coherent and concrete definition.<ref name=\"brooks\">{{cite journal | last = brooks | first = rosa ehrenreich | title = dignity and discrimination: toward a pluralistic understanding of workplace harassment | journal = [[georgetown law journal]] | volume = 88 | issue = 1 | pages = 14–20 | date = 1999 | url = http://scholarship.law.georgetown.edu/facpub/1134/ }} [http://scholarship.law.georgetown.edu/cgi/viewcontent.cgi?article=2143&context=facpub pdf.]</ref>\n",
      "\n",
      "acknowledging the difficulty of formulating a universal definition of workplace harassment, ezer broadly defines workplace harassment as \"irrational repeated behavior towards an employee or group of employees, which represents a health and security risk.<ref name=\"ezer\">{{cite journal | last1 = ezer | first1 = marius | last2 = ezer | first2 = oana florentina | title = workplace harassment, mobbing phenomenon | journal = perspectives of business law journal | volume = 1 | issue = 1 | pages = 298–304 | date = november 2012 | url = http://www.businesslawconference.ro/revista/anul1nr1.html }} [http://www.businesslawconference.ro/revista/articole/an1nr1/33%20marius%20ezer%20si%20oana%20ezer%20eng.pdf pdf.]</ref> any act of discrimination or assault that systematically disadvantage the employees is considered workplace harassment.<ref name=\"ezer\" /> workplace harassment can contribute to deterioration of physical and emotional health.<ref name=\"ezer\" />\n",
      "\n",
      "according to rosa brook, the concept of workplace harassment is based on two premises.<ref name=\"brooks\" /> firstly, regardless of gender, race, sexuality or any other defining characteristic, every person should be given the right to be \"free from abusive treatment in the workplace\".<ref name=\"brooks\" /> with freedom from abuse given as a basic human right, any form of discomfort or discrimination in workplace becomes labeled as an act of harassment.<ref name=\"brooks\" /> secondly, the issues caused by workplace harassment affect the victims in harmful ways. discrimination in the workplace hinders victims from successful advancement in their careers, limiting the capabilities of the victim.<ref name=\"brooks\" />\n",
      "\n",
      "a common misconception about workplace harassment is that workplace harassment is simply [[sexual harassment]] in the context of a workplace.<ref name=\"dol\">{{cite web | last = u.s. department of labor | author-link = united states department of labor | title = what do i need to know about – workplace harassment | url = http://www.dol.gov/oasam/programs/crc/2011-workplace-harassment.htm | website = dol.gov | publisher = [[federal government of the united states|u.s. federal government]] | access-date = march 17, 2015 }}</ref> while sexual harassment is a prominent form of workplace harassment, the united states department of labor defines workplace harassment as being more than just sexual harassment.<ref name=dol /> \"it may entail '[[quid pro quo|quid pro quo']] harassment, which occurs in cases in which employment decisions or treatment are based on submission to or rejection of unwelcome conduct, typically conduct of a sexual nature. workplace harassment may also consist of offensive conduct based on one or more of the protected groups above that is so severe or pervasive that it creates a hostile or offensive work environment or when it results in an adverse employment decision (such as being fired or demoted/reducing salary).\"<ref name=\"dol\" /> thus, workplace harassment is a bigger category that encompasses sexual harassment.\n",
      "\n",
      "==in the united states==\n",
      "\n",
      "===types===\n",
      "the varying harassment imposed on the victims can be categorized into two different types, physical abuse and emotional abuse. physical abuse refers to sexual assault and violence on body, while emotional abuse refers to imposing stress and bullying. anderson and militello found that often managers exhibiting [[abusive supervision|harassing behavior]] were allowed to maintain their jobs because their behavior was seen to increase productivity in the short term. a study done by kathleen d. ryan and daniel k oestereich, ''driving fear out of the workplace'', found that many of these behaviors can range from subtle emotional cues to outward physical threats and can include; silence, direct insults and even angry outbursts. whether these actions are intentional or brought on by stress, the result can cause the employee to feel humiliated, isolated and may cause them to lash out at others.<ref>{{citation | last = layden | first = dianne r. | contribution = violence, the emotionally enraged employee, and the workplace: managerial considerations | editor-last1 = curry | editor-first1 = renée r. | editor-last2 = allison | editor-first2 = terry l. | title = states of rage: emotional eruption, violence and social change | pages = 48–49 | publisher = new york university press | location = new york, new york | year = 1996 | isbn = 9780814715307 | postscript = .}}</ref>\n",
      "\n",
      "====physical harassment====\n",
      "[[file:anita hill at harvard law school sep 2014.jpg|thumb|anita hill testified her charge against clarence thomas for sexually harassing her at the department of education and the eeoc.]]\n",
      "physical harassment in the workplace takes many forms. sexual assault is one form of widely known physical harassment. sexual assault in the workplace has gained media and academic attention mainly in the 1990s after a series of famous sex scandals.<ref name=\"williams\">{{cite journal | last1 = williams | first1 = christine l. | last2 = giuffre | first2 = patti a. | last3 = dellinger | first3 = kirsten | title = sexuality in the workplace: organizational control, sexual harassment, and the pursuit of pleasure | journal = [[annual review of sociology]] | volume = 25 | pages = 73–93 | jstor = 223498 | doi = 10.1146/annurev.soc.25.1.73 | date = 1999 }}</ref> \"among the most notorious are the 1991 congressional hearings on the alleged sexual harassment of [[anita hill]] by clarence thomas, nominee to the supreme court; the sexual assault on female officers at a party during the 1991 annual convention of navy fighter pilots; the dismissal of air force pilot kelly flinn for adultery in 1997; the 1998 trial and acquittal of the top ranking army enlisted man on charges of sexual harassment; and the independent counsel investigations of president clinton's sexual affairs with subordinates.\"<ref name=\"williams\" /> with this cascade of sex scandals, the media and scholars have focused on developing more studies on sexual harassment in workplaces. sexual assault becomes difficult to define, as the distinction between sexual harassment and consensual sexual behaviors is not finely delineated.<ref name=\"williams\" /> some occupations require a higher tolerance to sexual behaviors, such as waitresses and tour guides.<ref name=\"williams\" /> more specifically, the employers for these occupations expect the workers to comply with the level of sexual interactions the workers would have with the customers.<ref name=\"williams\" /> this unquestioned expectation from the employers then pushes the workers to see only two options. the workers would have to accept the sexual harassment from customers as \"part of the job\", or report the sexual harassment to the manager and get fired.<ref name=\"williams\" /> adding onto the pressure, reporting sexual assault comes with criticism from co-workers, as they see the sexual assault as part of the job requirement.<ref name=\"williams\" />\n",
      "\n",
      "{{see also|sexual harassment in the workplace in the united states}}\n",
      "the prevalence of sexual harassment at work is high. for example, a study by the [[u.s. merit systems protection board]] in 1981 shows that among the female government employees, 33 percent experienced sexual comments, 26 percent had unwanted physical touching, and 15 percent was pressured for dates.<ref name=\"fitzgerald\">{{cite journal | last = fitzgerald | first = louise f. | title = sexual harassment: violence against women in the workplace | journal = [[american psychologist]] | volume = 48 | issue = 10 | pages = 1070–1076 | doi = 10.1037/0003-066x.48.10.1070 | date = october 1993 }}</ref> moreover, \"nearly 10% had been directly pressured for sexual cooperation, and a similar percentage described repeated telephone calls and unwelcome letters or notes.\"<ref name=\"fitzgerald\" /> other than this example, fitzgerald states that \"the enormity of such figures is difficult to grasp, indicating as they do that virtually millions of women are subjected to experiences ranging from insults to assault—many on an ongoing or recurrent basis— as the price of earning a living.\"<ref name=\"fitzgerald\" />\n",
      "\n",
      "another form of physical harassment at work is workplace violence. [[workplace violence]] is defined as physical threats and assaults targeted at employees. there are two main perpetrators for workplace violence: criminals who approached as clients, and co-workers.<ref name=\"leblanc\">{{cite journal | last1 = leblanc | first1 = manon mireille | last2 = kelloway | first2 = e. kevin | title = predictors and outcomes of workplace violence and aggression | journal = [[journal of applied psychology]] | volume = 87 | issue = 3 | pages = 444–453 | doi = 10.1037/0021-9010.87.3.444 | pmid = 12090602 | date = june 2002 }}</ref> the criminals assert violence through the forms of robberies and homicides, and the rate of homicides in the workplace has risen significantly over the past 20 years.<ref name=\"leblanc\" />  according to the [[national institute for occupational safety and health]] (niosh), 9,937 workplace homicides happened in the time period of 1980 to 1992, which averages out to about 800 homicides per year.<ref name=\"leblanc\" /> \"in 1989, homicide was the third leading cause of death in the workplace for all employees.<ref name=\"neuman\">{{cite journal | last1 = neuman | first1 = joel h. | last2 = baron | first2 = robert a. | title = workplace violence and workplace aggression: evidence concerning specific forms, potential causes, and preferred targets | journal = [[journal of management]] | volume = 24 | issue = 3 | pages = 391–419 | doi = 10.1177/014920639802400305 | date = june 1998 }} [https://lms.manhattan.edu/pluginfile.php/150282/mod_resource/content/2/workplace%20violence%20and%20workplace%20aggression.pdf pdf.]</ref> by 1993, homicide had become the second-leading cause of death on-the-job for all employees and had become the leading cause of death for women.\"<ref name=\"neuman\" /> most of these homicides are by criminals, as the [[bureau of labor statistics]] found that only 59 of the 1,063 were co-worker-related homicides, and the rest were made by criminals.<ref name=\"neuman\" />\n",
      "\n",
      "the workplace violence perpetrated by co-workers tends to be less obvious.<ref name=\"neuman\" /> the northwestern national life (1993) study showed 15 percent of respondents experienced physical attack at work, and 14 percent of respondents reported being physically attacked in the past 12 months.<ref name=\"neuman\" /> the acts of violence in workplace consist of pushing or shoving, fistfights, and rape.<ref name=\"neuman\" /> the shrm study that interviewed 1,016 human resource professionals, \"22% reported incidents of pushing or shoving, 13% reported fist fights, and 1% reported rape or sexual assault.\"<ref name=\"neuman\" /> much of the physical violence on workers is preceded by physiological aggression, hinting that emotional harassment may be the cause for workplace violence.<ref>{{cite journal | last1 = schat | first1 = aaron c.h. | last2 = kelloway | first2 = e. kevin | title = reducing the adverse consequences of workplace aggression and violence: the buffering effects of organizational support | journal = [[journal of occupational health psychology]] | volume = 8 | issue = 2 | pages = 110–122 | doi = 10.1037/1076-8998.8.2.110 | pmid = 12703877 | date = april 2003 }} [http://workplaceviolence.ca/sites/default/files/schat%20%26%20kelloway%20%282003%29-reducing%20the%20adverse%20consequences....pdf pdf.]</ref>\n",
      "\n",
      "====emotional harassment====\n",
      "\n",
      "unlike physical harassment, emotional harassment is unnoticeable and also viewed as being more socially acceptable.<ref name=\"keashly\">{{cite journal | last = keashly  | first = loraleigh | title = emotional abuse in the workplace: conceptual and empirical issues | journal = [[journal of aggression, maltreatment & trauma|journal of emotional abuse]] | volume = 1 | issue = 1 | pages = 85–117 | doi = 10.1300/j135v01n01_05 | date = july 1997 }}</ref> naturally, emotional harassment in the workplace gets less attention than physical harassment in the workplace, which perpetuates the issue of emotional harassment in the workplace.<ref name=\"keashly\" /> according to keashly, emotional harassment can be defined as \"the hostile verbal and nonverbal behaviors that are not explicitly tied to sexual or racial content yet are directed at gaining compliance from others.\"<ref name=\"keashly\" /> in short, emotional harassment is manipulation of people's actions through social behaviors.\n",
      "\n",
      "one common form of emotional abuse in workplace is [[bullying]]. also known as [[mobbing]], workplace bullying \"is a long lasting, escalated conflict with frequent harassing actions systematically aimed at a target person.\"<ref name=\"zapf\">{{cite journal | last = zapf | first = dieter | title = organisational, work group related and personal causes of mobbing/bullying at work | journal = [[international journal of manpower]] | volume = 20 | issue = 1–2 | pages = 70–85 | doi = 10.1108/01437729910268669 | date = 1999 }}</ref> specific actions of workplace bullying include the following: false accusations of mistakes and errors, hostile glares and other intimidating non-verbal behaviors, yelling, shouting, and screaming, exclusion and the \"silent treatment,\" withholding resources and information necessary to the job, behind-the-back sabotage and defamation, use of put-downs, insults, and excessively harsh criticism, and unreasonably heavy work demands designed to ensure failure.<ref name=\"yamada\">{{cite book | last = yamada | first = david | title = promoting healthy, productive, and socially responsible workplaces | publisher = 2014 warns-render institute university of louisville, louis d. brandeis school of law }} new workplace institute: promoting healthy, productive, and socially responsible workplaces. [https://web.archive.org/web/20150402153422/http://uofllawclinic.com/sites/www.law.louisville.edu/files/materials_yamada.pdf pdf.]</ref> the 2014 workplace bullying institute/zogby national survey shows that 27 percent of the total amount of human beings on the planet earth have experienced workplace bullying in the past, and 70-seven percent of employees are currently suffering with workplace bullying.<ref name=\"yamada\" /> in addition, \"[[nursing shortage|more than 97% of nurse managers]] reported experiencing abuse, whereas [[retail industry leaders association|60% of retail industry workers]], 23% of faculty and university staff, and 53% of business school students reported abuse at work.\"<ref name=\"lutgen\">{{cite journal | last = lutgen-sandvik | first = pamela | title = the communicative cycle of employee emotional abuse: generation and regeneration of workplace mistreatment | journal = [[management communication quarterly]] | volume = 16 | issue = 4 | pages = 471–501 | doi = 10.1177/0893318903251627 | date = may 2003 }} [https://www.natcom.org/uploadedfiles/public_engagement/nca_anti-bullying_digital_repository/workplace_bullying/lutgen-sandvik-%20the%20communicative%20cycle%20of%20employee%20emotional%20abuse%20generation%20and%20regeneration%20of%20workplace%20mistreatment.pdf pdf.]</ref> the areas of industry in which emotional abuse happens are not limited to one, but rather they range from hospitals, universities, manufacturing plants, research industries, and social service agencies.<ref name=\"lutgen\" />\n",
      "\n",
      "with such frequency of workplace bullying to various groups of people, many theories exist in discussing the causes of workplace bullying. one side argues that the bullying targets are in fact responsible for the bullying.<ref name=\"zapf\" /> more specifically, some physicians and psychologists attribute the cause of workplace bullying to the target employee's mental disorders, such as [[general anxiety disorder]], instead of the working situation.<ref name=\"zapf\" /> the opposite argument contends that the cause of workplace bullying lies in the organizational problems and poor leadership skills. another argument states that workplace bullying is a multi-causal phenomenon, as different factors can play their respective roles in building the tension.<ref>{{cite journal | last = salin | first = denise | title = ways of explaining workplace bullying: a review of enabling, motivating and precipitating structures and processes in the work environment | journal = [[human relations (journal)|human relations]] | volume = 56 | issue = 10 | pages = 1213–1232 | doi = 10.1177/00187267035610003 | date = october 2003 | hdl = 10227/283 | hdl-access = free }}</ref> despite this plethora of arguments, zapf addresses that academic analysis of the cause is difficult.<ref name=\"zapf\" /> getting the perspective of perpetrators and potential bystanders is unrealistic, and therefore the studies are primarily focused on victims' interviews.<ref name=\"zapf\" />\n",
      "\n",
      "===victims===\n",
      "the victims of workplace harassment can be separated into three categories, based on gender, sexuality, and race. while one group experiences workplace harassment more frequently than others, workplace harassment still affects wide range of population.\n",
      "\n",
      "====gender====\n",
      "both men and women are victims of workplace harassment. workplace harassment for women dates back to women's first foray into the workforce, as early as colonial times. the most common form of workplace harassment that women face is sexual harassment.<ref name=\"fitzgerald\" /> according to fitzgerald, one of every two women experiences workplace harassment in their working or academic lives.<ref name=\"fitzgerald\" /> the most common form of sexual harassment is the unwanted and unavoidable sexual attention from co-workers.<ref name=\"fitzgerald\" /> a study of government employees shows the inescapable, uncomfortable sexual attention takes varying forms.<ref name=\"fitzgerald\" /> 33% of respondents had been called by sexual remarks, 26% of respondents faced physical touching, and 15% respondents were pressured to go on a date.<ref name=\"fitzgerald\" /> the more explicit forms of sexual harassment are shown by court cases, such as [[meritor savings bank v. vinson|meritor v. vinson]] (1986), robinson v. jacksonville shipyards (1991), and others.<ref name=\"fitzgerald\" /> in meritor v. vinson, \"michele vinson, an employee of meritor savings bank, was forced to have sex with her boss between 40 and 50 times.\"<ref name=\"fitzgerald\" /> the boss harassed her by fondling her in public, following her to the bathroom, and frequently raping her.<ref name=\"fitzgerald\" /> in robinson v. jacksonville shipyards, robinson requested to put down the pornographic materials in jacksonville shipyard workplace. the pornographic material included \"a pinup showing a meat spatula pressed against a woman's pubic area and another featuring a nude woman holding a whip.\"<ref name=\"fitzgerald\" />\n",
      "\n",
      "while workplace harassment against women has been a frequent subject of study for more than 20 years, workplace harassment against men rarely receives attention and is not subjected to many studies.<ref name=\"lee\">{{cite journal | last = lee | first = deborah | title = hegemonic masculinity and male feminisation: the sexual harassment of men at work | journal = [[journal of gender studies]] | volume = 9 | issue = 2 | pages = 141–155 | doi = 10.1080/713677986 | date = july 2000 }}</ref> however, the bureau of justice statistics shows that \"among people victimized while working or on duty, male victims outnumbered females by about 2 to 1.\"<ref name=\"warchol\">{{citation | last = warchol | first = greg | contribution = victim characteristics | editor-last = warchol | editor-first = greg | title = special report: national crime victimization survey: workplace violence, 1992-96 | page = 2 | url = http://www.bjs.gov/content/pub/pdf/wv96.pdf | publisher = [[bureau of justice statistics]] | date = july 1998 | id = ncj 168634 | postscript = .}}</ref>  men experience less workplace sexual harassment than women, as only 16.7% of men reported rape/sexual assault, but men face more workplace violence.<ref name=\"warchol\" /> 72% of men were robbed in their workplace, 74.4% of men experienced aggravated assault, and 66.1% of men experienced simple assault.<ref name=\"warchol\" />\n",
      "\n",
      "====sexuality====\n",
      "the williams institute 2011 study shows that \"in the american workforce, more than eight million people (or 4 percent of the u.s. workforce) identify as [[lgbt|lesbian, gay, bisexual, or transgender]] (lgbt).\"<ref name=\"pizer\">{{cite journal | last1 = pizer | first1 = jennifer c. | last2 = sears | first2 = brad | last3 = mallory | first3 = christy | last4 = hunter | first4 = nan d. | title = evidence of persistent and pervasive workplace discrimination against lgbt people: the need for federal legislation prohibiting discrimination and providing for equal employment benefits | journal = [[loyola of los angeles law review]] | volume = 45 | issue = 3 | pages = 715–779 | date = spring 2012 | url = http://digitalcommons.lmu.edu/llr/vol45/iss3/3/ }} [http://digitalcommons.lmu.edu/cgi/viewcontent.cgi?article=2796&context=llr pdf.]</ref> even so, the lgbt group has faced constant discrimination and harassment in workplaces, as shown by court cases and historical events.<ref name=\"pizer\" /> one common form of workplace harassment for lgbt community is the psychological and physical strain in hiding their sexuality in a heterosexist workplace environment.<ref name=\"probst\">{{citation | last1 = probst | first1 = tahira m. | last2 = estrada | first2 = armando x. | last3 = brown |first3=jeremiah w. | contribution = harassment, violence and hate crimes in the workplace | editor-last = thomas | editor-first = kecia m. | title = diversity resistance in organizations | pages = 93–125 | publisher = lawrence erlbaum associates | year = 2008 | series = series in applied psychology | isbn = 9780805859638 | postscript = .}}</ref> other form of workplace harassment is direct harassment from the public after disclosing one's sexuality.<ref name=\"probst\" /> because an lgbt individual experiences explicit verbal assault, physical violence, and hate crimes after disclosing sexuality, the lgbt community more often than not conceals its sexuality in workplaces.<ref name=\"probst\" />\n",
      "\n",
      "====race====\n",
      "many studies show that culturally stigmatized groups face more workplace harassments.<ref name=\"deitch\">{{cite journal | last1 = deitch | first1 = elizabeth a. | last2 = barsky | first2 = adam | last3 = butz | first3 = rebecca m. | last4 = chan | first4 = suzanne | last5 = brief | first5 = arthur p. | last6 = bradley | first6 = jill c. | title = subtle yet significant: the existence and impact of everyday racial discrimination in the workplace | journal = [[human relations (journal)|human relations]] | volume = 56 | issue = 11 | pages = 1299–1324 | doi = 10.1177/00187267035611002 | date = november 2003 }}</ref> with changes in the political and social scenes in america, subtle and daily harassment is more common than blatant and explicit harassment today.<ref name=\"deitch\" /> a study by deitch, barsky, butz and et al. shows that black americans face more mistreatment in workplaces than white americans.<ref name=\"deitch\" /> the mistreatments and harassments do not explicitly \"reference race or discrimination as the cause of the treatment\", because overt racism is prohibited in workplaces.<ref name=\"deitch\" /> however, the statistics show race is \"significantly associated with mistreatment\" and that black americans in general report significantly more \"minor, pervasive mistreatment and unfairness on the job.\"<ref name=\"deitch\" /> the study suggests the discrimination and harassments may intensify for black americans in a job with fewer people of the same race, such as \"token\" black employee or \"solo\" employees.<ref name=\"deitch\" /> in addition, not only blacks but also asian americans, and other minority races all face \"a higher rate of homicide than their proportion of the work force would suggest.\"<ref name=\"toscano\">{{citation | last1 = toscano | first1 = guy | last2 = weber | first2 = william | contribution = homicides at work | editor-last1 = toscano | editor-first1 = guy | editor-last2 = weber | editor-first2 = william | title = violence in the workplace | page = 45 | url = http://www.bls.gov/iif/oshwc/cfar0005.txt | publisher = [[bureau of labor statistics]], [[united states department of labor|u.s. dept. of labor]] | date = 1995 | postscript = .}} [http://www.bls.gov/iif/oshwc/cfar0005.pdf pdf.]</ref> of the eighth of the workforce experiencing homicide, more than a fourth of the population is an ethnic minority.<ref name=\"toscano\" />\n",
      "\n",
      "===impacts===\n",
      "\n",
      "====[[alcoholism]]====\n",
      "the intensity of workplace harassment is positively correlated with the level of alcohol use.<ref name=\"richman\">{{cite journal | last1 = richman | first1 = judith a. | last2 = rospenda | first2 = kathleen m. | last3 = flaherty | first3 = joseph a. | last4 = freels | first4 = sally | title = workplace harassment, active coping, and alcohol-related outcomes | journal = journal of substance abuse | volume = 13 | issue = 3 | pages = 347–366 | doi = 10.1016/s0899-3289(01)00079-7 | pmid = 11693457 | date = october 2001 }}</ref> one of the motives that people drink is \"to self-medicate distressful feelings resulting from problematic social conditions\".<ref name=\"richman\" /> thus, the negative social distress faced in workplaces is linked with increased consumption of alcohol.<ref name=\"richman\" /> moreover, because workplace harassment cannot be clearly delineated like sexual or racial harassment, victims do not counteract by legal and institution responses.<ref name=\"richman\" /> rather, they rely on drinking to cope with the emotional distress.<ref name=\"richman\" />\n",
      "\n",
      "nolen-hoeksema and harrell's 2002 study shows that while both women and men are at risk of alcoholism under workplace harassment, men are more likely to cope by drinking than women do, as women use their relatively wider social connections to attain the emotional support.<ref name=\"rospenda\">{{cite journal | last1 = rospenda | first1 = kathleen m. | last2 = fujishiro | first2 = kaori | last3 = shannon | first3 = candice a. | last4 = richman | first4 = judith a. | title = workplace harassment, stress, and drinking behavior over time: gender differences in a national sample | journal = [[addictive behaviors]] | volume = 33 | issue = 7 | pages = 964–967 | doi = 10.1016/j.addbeh.2008.02.009 | pmc = 2442899 | date = july 2008 | pmid=18384975}}</ref> however, a 2004 survey of a random sample of employees at a heavy machinery assembly plant shows that women are more sensitive and receptive of workplace harassment, and therefore women have \"a greater propensity to drink\".<ref name=\"svare\">{{cite journal | last1 = messick svare | first1 = gloria | last2 = miller | first2 = leonard | last3 = ames | first3 = genevieve | title = social climate and workplace drinking among women in a male-dominated occupation | journal = [[addictive behaviors]] | volume = 29 | issue = 8 | pages = 1691–1698 | doi = 10.1016/j.addbeh.2004.03.033 | pmid = 15451139 | date = november 2004 }}</ref> the negative drinking effects are more severe for women than they are for men.<ref name=\"rospenda\" />\n",
      "\n",
      "one mail survey that was completed at four points in time by a cohort of 1654 employees has shown that the positive correlation between consumption of drinking and levels of workplace harassment continues after retirement.<ref name=\":4\">{{cite journal | last1 = richman | first1 = judith a. | last2 = zlatoper | first2 = kenneth w. | last3 = zackula ehmke | first3 = jennifer l. | last4 = rospenda | first4 = kathleen m. | title = retirement and drinking outcomes: lingering effects of workplace stress? | journal = [[addictive behaviors]] | volume = 31 | issue = 5 | pages = 767–776 | doi = 10.1016/j.addbeh.2005.06.001 | pmid = 15994026 | date = may 2006 }}</ref> even when the immediate stressors are not present, the victims still retain the increased use of alcohol.<ref name=\":4\" /> the study attributes the reason for the lasting effect is that \"appropriate alcohol consumption may have functioned to somewhat inhibit the self-medication of stress-induced distress during work role occupancy\".<ref name=\":4\" />\n",
      "\n",
      "====ptsd====\n",
      "ptsd is commonly known as a \"war wound\", yet it also affects workers,<ref name=\":5\" /> \"when a worker suffers ptsd, the workplace for that person has become a war zone\".<ref name=\":5\">{{cite web | title = psychological-emotional-mental injuries | url = http://www.workplacebullying.org/individuals/impact/mental-health-harm/ | publisher = workplace bullying institute rss | access-date = april 28, 2015 }}</ref> several studies show that many workplace harassment victims experience [[posttraumatic stress disorder]] (ptsd).<ref name=\"mikkelsen\">{{cite journal | last1 = mikkelsen | first1 = eva gemzøe | last2 = einarsen | first2 = ståle | title = basic assumptions and symptoms of post-traumatic stress among victims of bullying at work | journal = [[european journal of work and organizational psychology]] | volume = 11 | issue = 1 | pages = 87–111 | doi = 10.1080/13594320143000861 | date = march 2002 }}</ref> for example, a study that interviewed about 100 victims of workplace harassment shows that \"a majority of the respondents exceed recommended threshold-values indicating ptsd\".<ref name=\"matthiesen\">{{cite journal | last1 = matthiesen | first1 = stig berge | last2 = einarsen | first2 = ståle | title = psychiatric distress and symptoms of ptsd among victims of bullying at work | journal = british journal of guidance & counselling| volume = 32 | issue = 3 | pages = 335–356 | doi = 10.1080/03069880410001723558 | date = august 2004 }} [http://folk.uib.no/pspsm/documents/bullying-ptsd-2004-matthiesen-einarsen.pdf pdf.]</ref> the study also demonstrate that based on the duration and persistency of the workplace harassment, the levels of ptsd differ.<ref name=\"matthiesen\" /> the more recent and frequent the workplace harassment occurred, the more severe their symptoms of ptsd were.<ref name=\"matthiesen\" />\n",
      "\n",
      "a study by mikklesen and einarsen also reports that 76 percent of its respondents experienced ptsd.<ref name=\"mikkelsen\" /> nevertheless, mikklesen and einarsen qualify the idea that workplace harassment directly leads to ptsd.<ref name=\"mikkelsen\" /> they argue that the causes of ptsd symptoms of the victims are primarily attributed to other traumatic events rather than the workplace harassment itself.<ref name=\"mikkelsen\" /> therefore, the study concludes the \"exposure to other traumatic life events may increase victims' vulnerability\" to their sensitivity to workplace harassment.<ref name=\"mikkelsen\" />\n",
      "\n",
      "==== other psychological effects ====\n",
      "other than alcoholism and ptsd, victims of workplace harassment also experience other negative psychological effects.<ref name=\":0\">{{cite journal | last1 = lewis | first1 = jacqueline | last2 = coursol | first2 = diane | last3 = wahl | first3 = kay herting | title = addressing issues of workplace harassment: counseling the targets | journal = [[journal of employment counseling]] | volume = 39 | issue = 3 | pages = 109–116 | doi = 10.1002/j.2161-1920.2002.tb00842.x | date = march 2001 }} [http://www.workplaceviolence911.com/sites/workplaceviolence911.com/files/20021202-04_1.htm text.]</ref> an analysis of self-reported health symptoms, and physiological stress reactivity of 437 employees shows that compared to the employees who have not experienced workplace harassment, employees who have experienced exhibited higher level of anxiety and nervousness.<ref>{{cite journal | last1 = hansen | first1 = åse marie | last2 = hogh | first2 = annie | last3 = persson | first3 = roger | last4 = karlson | first4 = björn | last5 = garde | first5 = anne helene | last6 = ørbæk | first6 = palle | title = bullying at work, health outcomes, and physiological stress response | journal = [[journal of psychosomatic research]] | volume = 60 | issue = 1 | pages = 63–72 | doi = 10.1016/j.jpsychores.2005.06.078 | pmid = 16380312 | date = january 2006 }}</ref> another study's survey of 156 victims of workplace harassment shows that 79.4 percent of respondents suffer from stress, 64.7 percent from depressive symptoms, 64 percent from tiredness, 59 percent from lack of confidence, 58 percent from humiliation and guilt, and 58 percent from nightmares.<ref name=\":0\" />\n",
      "\n",
      "=== preventions ===\n",
      "\n",
      "==== title vii ====\n",
      "[[civil rights act of 1964|title vii of the civil rights act of 1964]] is used as a tool to eradicate workplace harassment.<ref>{{cite journal | last = anderson | first = katherine s. | title = employer liability under title vii for sexual harassment after ''meritor savings bank v. vinson'' | journal = [[columbia law review]] | volume = 87 | issue = 6 | pages = 1258–1279 | doi = 10.2307/1122590 | jstor = 1122590 | date = october 1987 }}</ref> title vii lists the following actions of employers unlawful:<blockquote>\"(1) to fail or refuse to hire or to discharge any individual, or otherwise to discriminate against any individual with respect to [her or] his compensation, terms, conditions, or privileges of employment, because of such individual's race, color, religion, sex, or national origin; or (2) to limit, segregate, or classify [her or] his employees discrimination based on race, color, religion, sex and national origin … in any way which would deprive... any individual of employment opportunities or otherwise adversely affect [her or] his status as an employee, because of such individual's race, color, religion, sex, or national origin.\"<ref>{{cite journal | last = u.s. code | author-link = united states code | title = title 42 chapter 21 subchapter vi u.s. code § 2000e–2 - unlawful employment practices | journal = [[legal information institute]] | url = https://www.law.cornell.edu/uscode/text/42/2000e-2 }}</ref></blockquote>\"most courts consider it consistent with the intent of congress to interpret the act liberally, and therefore, coverage under title vii is very broad\".<ref name=\":1\">{{cite journal | last = faley | first = robert h. | title = sexual harassment: critical review of legal cases with general principles and preventive measures | journal = personnel psychology | volume = 35 | issue = 3 | pages = 583–600 | doi = 10.1111/j.1744-6570.1982.tb02211.x | date = september 1982 }}</ref> this allows victims of workplace harassment primarily use title vii to assert their legal actions.<ref name=\":1\" /> in addition, the [[equal employment opportunity commission]] (eeoc), a governmental committee that prohibits discrimination in workplace, administers the practices and violations of title vii.<ref name=\":1\" /> it issued and amended the \"guidelines on discrimination of sex\", a more specified interpretation of title vii.<ref name=\":1\" />\n",
      "\n",
      "==== court cases ====\n",
      "\n",
      "===== ''meritor savings bank vs. vinson'' =====\n",
      "while an employee with meritor savings bank, mechelle vinson claimed that she had been sexually harassed and raped by the vice president of the bank, sidney taylor, for four years starting her first day of employment  .<ref name=\":2\">{{cite journal | last = westman | first = bonnie | title = the reasonable woman standard: preventing sexual harassment in the workplace | journal = [[william mitchell college of law|william mitchell law review]] | volume = 18 | issue = 3 | pages = 795–827 | date = summer 1992 | url = http://heinonline.org/hol/landingpage?handle=hein.journals/wmitch18&div=45&id=&page= }} [http://open.wmitchell.edu/cgi/viewcontent.cgi?article=2295&context=wmlr pdf.]</ref> however, she did not address to taylor or higher authority, because she was afraid of dismissal.<ref name=\":2\" /> ''[[meritor savings bank v. vinson|meritor savings bank vs. vinson]]'' case ruled that hostile environment is considered a violation of title vii.<ref name=\":2\" /> this decision \"legitimized this area of the law for complainants and, for the first time, put employers on notice that unwelcome sexual conduct will not be tolerated in the workplace.\"<ref name=\":2\" /> this court case also added that violation of title vii does not have to be \"tangible\" and \"economic\".<ref name=\":2\" />\n",
      "\n",
      "===== ''robinson v. jacksonville shipyards, inc.'' =====\n",
      "[[file:moodyshipyardfl.jpg|thumb|shipyard in jacksonville]]\n",
      "robinson, as one of the few female employees at the jacksonville shipyard, filed a sexual harassment report against jacksonville shipyard.<ref name=\":3\">{{cite journal | last = strossen | first = nadine | title = regulating workplace sexual harassment and upholding the first amendment - avoiding a collision | journal = [[villanova university school of law#publications|villanova law review]] | volume = 37 | issue = 4 | pages = 757–785 | date = 1992 | url = http://digitalcommons.law.villanova.edu/vlr/vol37/iss4/3/ }} [http://digitalcommons.law.villanova.edu/cgi/viewcontent.cgi?article=2783&context=vlr pdf.]</ref> she attested that all of the pornographic images and remarks objectified her.<ref name=\":3\" /> this case received high media attention, as the [[american civil liberties union|aclu]] of florida and aclu of women's rights project defended different parties.<ref name=\":3\" /> aclu of florida primarily held the free speech principles, while in contrast, aclu women's rights project addressed the equality principle.<ref name=\":3\" /> they openly disagreed and showed \"disagreement among civil libertarians on how to apply free speech- and equality principles to the facts at issue in a workplace sexual harassment case.\"<ref name=\":3\" /> the district court upheld the aclu women's rights project's side, as \"the district court did not undertake the proper inquiry in determining liability.<ref name=\":3\" /> instead, the district court proceeded from the erroneous assumption that expression can constitute harassment merely because an employee finds it offensive.\"<ref name=\":3\" />\n",
      "==quotes==\n",
      "“beauty provokes harassment, the law says, but it looks through men's eyes when deciding what provokes it.”\n",
      "“the liberal idea of tolerance is more and more a kind of intolerance. what it means is 'leave me alone; don't harass me; i'm intolerant towards your over-proximity.”\n",
      "? slavoj žižek\n",
      "“when a storm of harassment disturbs our thinking and brings us down to our knees, the umbrella of our imagination can shield us against destructive aggression. it is offering shelter and is teaching us how to conquer ourselves, train our resilience, and grit our teeth. we better learn to adopt the virtue of endurance, as life consists of both ‘passion’ and ‘patience.’ (\"the umbrella\")”\n",
      "? erik pevernagie\n",
      "== in singapore ==\n",
      "in an informal survey among 50 employees in singapore, 82% said they had experienced toxicity from their direct superior or colleagues in their careers, with some 33.3% experiencing it on a daily basis. some of the other reports was failing to agree with the boss was considered being a trouble maker, always having to give praise to the superior, the senior colleague has a tendency to shout at people. many respondents reported that they had to quit because of the toxic environment. in some cases they were made to feel they were at fault, which is why they quit <ref>{{cite web|date=2020-01-21|title=toxic workplace cultures in singapore: are they more common than we realise?|url=https://www.ricemedia.co/current-affairs-opinion-toxic-workplace-culture-singapore/|access-date=2020-10-19|website=rice|language=en-gb}}</ref> in other surveys, it is clear that the company is aware but does nothing, such as where a singapore economist at a us bank is involved.<ref>{{cite web|last=chan|first=melissa|date=2018-04-30|title=5 s'poreans on working for bosses from hell - \"he cut my salary by $1,000 because he felt like it\"|url=https://vulcanpost.com/638932/singapore-workplace-bullying-experiences/|access-date=2020-10-19|website=vulcan post|language=en-us}}</ref> a kantar survey in 2019 suggested that employees in singapore were the most likely to be made to \"feel uncomfortable\" by their employers, compared with those in the other countries that the company polled.<ref>{{cite web|title=is workplace bullying the norm in singapore?|url=https://theaseanpost.com/article/workplace-bullying-norm-singapore|access-date=2020-10-19|website=the asean post|language=en}}</ref>\n",
      "\n",
      "==see also==\n",
      "{{columns-list|colwidth=30em|\n",
      "* [[harassment in the united kingdom]]\n",
      "* [[hostile work environment]]\n",
      "* [[industrial and organizational psychology]]\n",
      "* ''[[majrowski v guy's and st thomas' nhs trust]]''\n",
      "* [[meritor savings bank v. vinson]]\n",
      "* [[protection from harassment act 1997]]\n",
      "* [[reeves v. c.h. robinson worldwide, inc.]]\n",
      "* [[workplace incivility]]\n",
      "* [[workplace aggression]]\n",
      "* [[workplace bullying]]\n",
      "}}\n",
      "\n",
      "== further reading ==\n",
      "* {{cite book | last1 = boland | first1 = mary l. | title = sexual harassment in the workplace | publisher = sphinxlegal | isbn = 9781572485273 | date = 2005 | url-access = registration | url = https://archive.org/details/sexualharassment00bola }} [https://books.google.com/books?id=6gutul81yc8c&printsec=frontcover preview.]\n",
      "* {{cite book | last1 = einarsen | first1 = ståle | last2 = hoel | first2 = helge | last3 = zapf | first3 = dieter | last4 = cooper | first4 = cary  |title=bullying and harassment in the workplace: developments in theory, research, and practice | edition = 2nd | publisher = [[crc press]] | isbn = 9781439804902 |date=2010}} [https://books.google.com/books?id=h8qyxahmhuac&printsec=frontcover preview.]\n",
      "* {{cite journal | last1 = nielsen | first1 = morten birkeland | last2 = tangen | first2 = tone | last3 = idsoe | first3 = thormod | last4 = matthiesen | first4 = stig berge | last5 = magerøy | first5 = nils | title = post-traumatic stress disorder as a consequence of bullying at work and at school. a literature review and meta-analysis | journal = [[aggression and violent behavior]] | volume = 21 | pages = 17–24 | doi = 10.1016/j.avb.2015.01.001 | date = march–april 2015 | doi-access = free }}\n",
      "\n",
      "== references ==\n",
      "{{reflist|30em}}\n",
      "\n",
      "{{employment}}\n",
      "{{workplace}}\n",
      "\n",
      "[[category:workplace]]\n",
      "[[category:harassment]]\n",
      "[[category:workplace bullying]]\n",
      "\n"
     ]
    }
   ],
   "source": [
    "raw_data=raw_data.lower()# converts to lowercase\n",
    "print (raw_data)"
   ]
  },
  {
   "cell_type": "code",
   "execution_count": 19,
   "metadata": {},
   "outputs": [
    {
     "name": "stdout",
     "output_type": "stream",
     "text": [
      "['\\'\\'\\'workplace harassment\\'\\'\\' is the belittling or threatening behavior directed at an individual worker or a group of workers<ref name=\"williams_helen\">{{cite web | last = williams | first = helen  | title = maintaining a harassment-free workplace: apc  | url = http://www.apsc.gov.au/publications01/harassment.htm | archive-url = https://web.archive.org/web/20120328034350/http://apsc.gov.au/publications01/harassment.htm | website = apsc.gov.au | publisher = [[australian public service commission]] | date = 8 february 2001 | archive-date = 28 march 2012 }}</ref>\\n\\nrecently, matters of [[workplace]] [[harassment]] have gained interest among practitioners and researchers as it is becoming one of the most sensitive areas of effective workplace management, because a significant source of work [[stress (psychological)|stress]] is associated with aggressive behaviors at workplace.<ref>{{cite journal|last=tehrani|first=noreen|date=august 2004|title=bullying: a source of chronic post traumatic stress?|journal=british journal of guidance & counselling|volume=32|issue=3|pages=357–366|doi=10.1080/03069880410001727567}}</ref> in asian countries, workplace harassment is one of the poorly attended issues by managers in organizations.<ref name=rokon>{{cite journal | last1 = rokonuzzaman | first1 = md.', '| last2 = rahman | first2 = m m | title = workplace harassment and productivity: a comprehensive role of strategic leadership | journal = journal of general education | volume = 1 | issue = dec | pages = 41–50 | date = 2011 }} issn: 2223-4543.', '[https://www.researchgate.net/publication/299594576 pdf]</ref> however, it attracted much attention from researchers and governments since the 1980s.', 'under [[occupational health and safety]] laws around the world,<ref>concha-barrientos, m., imel, n.d., driscoll, t., steenland, n.k., punnett, l., fingerhut, m.a., prüss-üstün, a., leigh, j., tak, s.w., corvalàn, c. (2004).', 'selected occupational risk factors.', 'in m. ezzati, a.d. lopez, a. rodgers & c.j.l.', 'murray (eds.', '), comparative quantification of health risks.', \"geneva: world health organization.</ref> workplace harassment and [[workplace bullying]] are identified as being core psychosocial hazards.<ref>{{citation|last=productivity commission |author-link=productivity commission |contribution=psychosocial hazards |editor-last=productivity commission |editor-link=productivity commission |title=performance benchmarking of australian business regulation: occupational health and safety |publisher=[[government of australia]] |url=http://www.pc.gov.au/__data/assets/pdf_file/0003/96177/13-chapter11.pdf |url-status=dead |archive-url=https://web.archive.org/web/20140307073447/http://www.pc.gov.au/__data/assets/pdf_file/0003/96177/13-chapter11.pdf |archive-date=march 7, 2014 }}</ref> '''overbearing supervision''', '''constant criticism''', and blocking promotions are all considered workplace harassment.<ref>{{cite news|url=https://www.theguardian.com/careers/2017/mar/29/bullying-at-work-your-legal-rights|title=bullying at work: your legal rights|last=landau|first=philip|date=2017-03-29|newspaper=the guardian|language=en|access-date=2018-10-08}}</ref>\\n\\n==definition==\\nworkplace harassment is also known by many other names.\", '\"mobbing\", \"[[workplace bullying]]\", \"workplace mistreatment\", \"[[workplace aggression]]\", \"workplace molestation\" and \"workplace abuse\" are all either synonymous or belong to the category of workplace harassment.<ref>{{cite journal | last1 = lewis | first1 = jacqueline | last2 = coursol | first2 = diane | last3 = wahl | first3 = kay herting | title = addressing issues of workplace harassment: counseling the targets | journal = [[journal of employment counseling]] | volume = 39 | issue = 3 | pages = 109–116 | doi = 10.1002/j.2161-1920.2002.tb00842.x | date = september 2002 }} [http://www.workplaceviolence911.com/sites/workplaceviolence911.com/files/20021202-04_1.htm text.', ']</ref> workplace harassment includes different types of discrimination and acts of violation that are not confined to one specific group.', 'the wide-ranging types of workplace harassment can be loosely categorized into emotional and physical abuse.', 'all of these forms of workplace harassment target various groups, including women, racial minorities, homosexuals, people with disabilities and immigrants.', 'in essence, workplace harassment requires a pluralistic understanding, because it cannot be delineated in one coherent and concrete definition.<ref name=\"brooks\">{{cite journal | last = brooks | first = rosa ehrenreich | title = dignity and discrimination: toward a pluralistic understanding of workplace harassment | journal = [[georgetown law journal]] | volume = 88 | issue = 1 | pages = 14–20 | date = 1999 | url = http://scholarship.law.georgetown.edu/facpub/1134/ }} [http://scholarship.law.georgetown.edu/cgi/viewcontent.cgi?article=2143&context=facpub pdf.', ']</ref>\\n\\nacknowledging the difficulty of formulating a universal definition of workplace harassment, ezer broadly defines workplace harassment as \"irrational repeated behavior towards an employee or group of employees, which represents a health and security risk.<ref name=\"ezer\">{{cite journal | last1 = ezer | first1 = marius | last2 = ezer | first2 = oana florentina | title = workplace harassment, mobbing phenomenon | journal = perspectives of business law journal | volume = 1 | issue = 1 | pages = 298–304 | date = november 2012 | url = http://www.businesslawconference.ro/revista/anul1nr1.html }} [http://www.businesslawconference.ro/revista/articole/an1nr1/33%20marius%20ezer%20si%20oana%20ezer%20eng.pdf pdf.', ']</ref> any act of discrimination or assault that systematically disadvantage the employees is considered workplace harassment.<ref name=\"ezer\" /> workplace harassment can contribute to deterioration of physical and emotional health.<ref name=\"ezer\" />\\n\\naccording to rosa brook, the concept of workplace harassment is based on two premises.<ref name=\"brooks\" /> firstly, regardless of gender, race, sexuality or any other defining characteristic, every person should be given the right to be \"free from abusive treatment in the workplace\".<ref name=\"brooks\" /> with freedom from abuse given as a basic human right, any form of discomfort or discrimination in workplace becomes labeled as an act of harassment.<ref name=\"brooks\" /> secondly, the issues caused by workplace harassment affect the victims in harmful ways.', 'discrimination in the workplace hinders victims from successful advancement in their careers, limiting the capabilities of the victim.<ref name=\"brooks\" />\\n\\na common misconception about workplace harassment is that workplace harassment is simply [[sexual harassment]] in the context of a workplace.<ref name=\"dol\">{{cite web | last = u.s. department of labor | author-link = united states department of labor | title = what do i need to know about – workplace harassment | url = http://www.dol.gov/oasam/programs/crc/2011-workplace-harassment.htm | website = dol.gov | publisher = [[federal government of the united states|u.s.', 'federal government]] | access-date = march 17, 2015 }}</ref> while sexual harassment is a prominent form of workplace harassment, the united states department of labor defines workplace harassment as being more than just sexual harassment.<ref name=dol /> \"it may entail \\'[[quid pro quo|quid pro quo\\']] harassment, which occurs in cases in which employment decisions or treatment are based on submission to or rejection of unwelcome conduct, typically conduct of a sexual nature.', 'workplace harassment may also consist of offensive conduct based on one or more of the protected groups above that is so severe or pervasive that it creates a hostile or offensive work environment or when it results in an adverse employment decision (such as being fired or demoted/reducing salary).', '\"<ref name=\"dol\" /> thus, workplace harassment is a bigger category that encompasses sexual harassment.', '==in the united states==\\n\\n===types===\\nthe varying harassment imposed on the victims can be categorized into two different types, physical abuse and emotional abuse.', 'physical abuse refers to sexual assault and violence on body, while emotional abuse refers to imposing stress and bullying.', 'anderson and militello found that often managers exhibiting [[abusive supervision|harassing behavior]] were allowed to maintain their jobs because their behavior was seen to increase productivity in the short term.', \"a study done by kathleen d. ryan and daniel k oestereich, ''driving fear out of the workplace'', found that many of these behaviors can range from subtle emotional cues to outward physical threats and can include; silence, direct insults and even angry outbursts.\", 'whether these actions are intentional or brought on by stress, the result can cause the employee to feel humiliated, isolated and may cause them to lash out at others.<ref>{{citation | last = layden | first = dianne r. | contribution = violence, the emotionally enraged employee, and the workplace: managerial considerations | editor-last1 = curry | editor-first1 = renée r. | editor-last2 = allison | editor-first2 = terry l. | title = states of rage: emotional eruption, violence and social change | pages = 48–49 | publisher = new york university press | location = new york, new york | year = 1996 | isbn = 9780814715307 | postscript = .', '}}</ref>\\n\\n====physical harassment====\\n[[file:anita hill at harvard law school sep 2014.jpg|thumb|anita hill testified her charge against clarence thomas for sexually harassing her at the department of education and the eeoc.]]', 'physical harassment in the workplace takes many forms.', 'sexual assault is one form of widely known physical harassment.', 'sexual assault in the workplace has gained media and academic attention mainly in the 1990s after a series of famous sex scandals.<ref name=\"williams\">{{cite journal | last1 = williams | first1 = christine l. | last2 = giuffre | first2 = patti a.', '| last3 = dellinger | first3 = kirsten | title = sexuality in the workplace: organizational control, sexual harassment, and the pursuit of pleasure | journal = [[annual review of sociology]] | volume = 25 | pages = 73–93 | jstor = 223498 | doi = 10.1146/annurev.soc.25.1.73 | date = 1999 }}</ref> \"among the most notorious are the 1991 congressional hearings on the alleged sexual harassment of [[anita hill]] by clarence thomas, nominee to the supreme court; the sexual assault on female officers at a party during the 1991 annual convention of navy fighter pilots; the dismissal of air force pilot kelly flinn for adultery in 1997; the 1998 trial and acquittal of the top ranking army enlisted man on charges of sexual harassment; and the independent counsel investigations of president clinton\\'s sexual affairs with subordinates.', '\"<ref name=\"williams\" /> with this cascade of sex scandals, the media and scholars have focused on developing more studies on sexual harassment in workplaces.', 'sexual assault becomes difficult to define, as the distinction between sexual harassment and consensual sexual behaviors is not finely delineated.<ref name=\"williams\" /> some occupations require a higher tolerance to sexual behaviors, such as waitresses and tour guides.<ref name=\"williams\" /> more specifically, the employers for these occupations expect the workers to comply with the level of sexual interactions the workers would have with the customers.<ref name=\"williams\" /> this unquestioned expectation from the employers then pushes the workers to see only two options.', 'the workers would have to accept the sexual harassment from customers as \"part of the job\", or report the sexual harassment to the manager and get fired.<ref name=\"williams\" /> adding onto the pressure, reporting sexual assault comes with criticism from co-workers, as they see the sexual assault as part of the job requirement.<ref name=\"williams\" />\\n\\n{{see also|sexual harassment in the workplace in the united states}}\\nthe prevalence of sexual harassment at work is high.', 'for example, a study by the [[u.s. merit systems protection board]] in 1981 shows that among the female government employees, 33 percent experienced sexual comments, 26 percent had unwanted physical touching, and 15 percent was pressured for dates.<ref name=\"fitzgerald\">{{cite journal | last = fitzgerald | first = louise f. | title = sexual harassment: violence against women in the workplace | journal = [[american psychologist]] | volume = 48 | issue = 10 | pages = 1070–1076 | doi = 10.1037/0003-066x.48.10.1070 | date = october 1993 }}</ref> moreover, \"nearly 10% had been directly pressured for sexual cooperation, and a similar percentage described repeated telephone calls and unwelcome letters or notes.', '\"<ref name=\"fitzgerald\" /> other than this example, fitzgerald states that \"the enormity of such figures is difficult to grasp, indicating as they do that virtually millions of women are subjected to experiences ranging from insults to assault—many on an ongoing or recurrent basis— as the price of earning a living.', '\"<ref name=\"fitzgerald\" />\\n\\nanother form of physical harassment at work is workplace violence.', '[[workplace violence]] is defined as physical threats and assaults targeted at employees.', 'there are two main perpetrators for workplace violence: criminals who approached as clients, and co-workers.<ref name=\"leblanc\">{{cite journal | last1 = leblanc | first1 = manon mireille | last2 = kelloway | first2 = e. kevin | title = predictors and outcomes of workplace violence and aggression | journal = [[journal of applied psychology]] | volume = 87 | issue = 3 | pages = 444–453 | doi = 10.1037/0021-9010.87.3.444 | pmid = 12090602 | date = june 2002 }}</ref> the criminals assert violence through the forms of robberies and homicides, and the rate of homicides in the workplace has risen significantly over the past 20 years.<ref name=\"leblanc\" />  according to the [[national institute for occupational safety and health]] (niosh), 9,937 workplace homicides happened in the time period of 1980 to 1992, which averages out to about 800 homicides per year.<ref name=\"leblanc\" /> \"in 1989, homicide was the third leading cause of death in the workplace for all employees.<ref name=\"neuman\">{{cite journal | last1 = neuman | first1 = joel h. | last2 = baron | first2 = robert a.', '| title = workplace violence and workplace aggression: evidence concerning specific forms, potential causes, and preferred targets | journal = [[journal of management]] | volume = 24 | issue = 3 | pages = 391–419 | doi = 10.1177/014920639802400305 | date = june 1998 }} [https://lms.manhattan.edu/pluginfile.php/150282/mod_resource/content/2/workplace%20violence%20and%20workplace%20aggression.pdf pdf.', ']</ref> by 1993, homicide had become the second-leading cause of death on-the-job for all employees and had become the leading cause of death for women.', '\"<ref name=\"neuman\" /> most of these homicides are by criminals, as the [[bureau of labor statistics]] found that only 59 of the 1,063 were co-worker-related homicides, and the rest were made by criminals.<ref name=\"neuman\" />\\n\\nthe workplace violence perpetrated by co-workers tends to be less obvious.<ref name=\"neuman\" /> the northwestern national life (1993) study showed 15 percent of respondents experienced physical attack at work, and 14 percent of respondents reported being physically attacked in the past 12 months.<ref name=\"neuman\" /> the acts of violence in workplace consist of pushing or shoving, fistfights, and rape.<ref name=\"neuman\" /> the shrm study that interviewed 1,016 human resource professionals, \"22% reported incidents of pushing or shoving, 13% reported fist fights, and 1% reported rape or sexual assault.', '\"<ref name=\"neuman\" /> much of the physical violence on workers is preceded by physiological aggression, hinting that emotional harassment may be the cause for workplace violence.<ref>{{cite journal | last1 = schat | first1 = aaron c.h.', '| last2 = kelloway | first2 = e. kevin | title = reducing the adverse consequences of workplace aggression and violence: the buffering effects of organizational support | journal = [[journal of occupational health psychology]] | volume = 8 | issue = 2 | pages = 110–122 | doi = 10.1037/1076-8998.8.2.110 | pmid = 12703877 | date = april 2003 }} [http://workplaceviolence.ca/sites/default/files/schat%20%26%20kelloway%20%282003%29-reducing%20the%20adverse%20consequences....pdf pdf.', ']</ref>\\n\\n====emotional harassment====\\n\\nunlike physical harassment, emotional harassment is unnoticeable and also viewed as being more socially acceptable.<ref name=\"keashly\">{{cite journal | last = keashly  | first = loraleigh | title = emotional abuse in the workplace: conceptual and empirical issues | journal = [[journal of aggression, maltreatment & trauma|journal of emotional abuse]] | volume = 1 | issue = 1 | pages = 85–117 | doi = 10.1300/j135v01n01_05 | date = july 1997 }}</ref> naturally, emotional harassment in the workplace gets less attention than physical harassment in the workplace, which perpetuates the issue of emotional harassment in the workplace.<ref name=\"keashly\" /> according to keashly, emotional harassment can be defined as \"the hostile verbal and nonverbal behaviors that are not explicitly tied to sexual or racial content yet are directed at gaining compliance from others.', '\"<ref name=\"keashly\" /> in short, emotional harassment is manipulation of people\\'s actions through social behaviors.', 'one common form of emotional abuse in workplace is [[bullying]].', 'also known as [[mobbing]], workplace bullying \"is a long lasting, escalated conflict with frequent harassing actions systematically aimed at a target person.', '\"<ref name=\"zapf\">{{cite journal | last = zapf | first = dieter | title = organisational, work group related and personal causes of mobbing/bullying at work | journal = [[international journal of manpower]] | volume = 20 | issue = 1–2 | pages = 70–85 | doi = 10.1108/01437729910268669 | date = 1999 }}</ref> specific actions of workplace bullying include the following: false accusations of mistakes and errors, hostile glares and other intimidating non-verbal behaviors, yelling, shouting, and screaming, exclusion and the \"silent treatment,\" withholding resources and information necessary to the job, behind-the-back sabotage and defamation, use of put-downs, insults, and excessively harsh criticism, and unreasonably heavy work demands designed to ensure failure.<ref name=\"yamada\">{{cite book | last = yamada | first = david | title = promoting healthy, productive, and socially responsible workplaces | publisher = 2014 warns-render institute university of louisville, louis d. brandeis school of law }} new workplace institute: promoting healthy, productive, and socially responsible workplaces.', '[https://web.archive.org/web/20150402153422/http://uofllawclinic.com/sites/www.law.louisville.edu/files/materials_yamada.pdf pdf.', ']</ref> the 2014 workplace bullying institute/zogby national survey shows that 27 percent of the total amount of human beings on the planet earth have experienced workplace bullying in the past, and 70-seven percent of employees are currently suffering with workplace bullying.<ref name=\"yamada\" /> in addition, \"[[nursing shortage|more than 97% of nurse managers]] reported experiencing abuse, whereas [[retail industry leaders association|60% of retail industry workers]], 23% of faculty and university staff, and 53% of business school students reported abuse at work.', '\"<ref name=\"lutgen\">{{cite journal | last = lutgen-sandvik | first = pamela | title = the communicative cycle of employee emotional abuse: generation and regeneration of workplace mistreatment | journal = [[management communication quarterly]] | volume = 16 | issue = 4 | pages = 471–501 | doi = 10.1177/0893318903251627 | date = may 2003 }} [https://www.natcom.org/uploadedfiles/public_engagement/nca_anti-bullying_digital_repository/workplace_bullying/lutgen-sandvik-%20the%20communicative%20cycle%20of%20employee%20emotional%20abuse%20generation%20and%20regeneration%20of%20workplace%20mistreatment.pdf pdf.', ']</ref> the areas of industry in which emotional abuse happens are not limited to one, but rather they range from hospitals, universities, manufacturing plants, research industries, and social service agencies.<ref name=\"lutgen\" />\\n\\nwith such frequency of workplace bullying to various groups of people, many theories exist in discussing the causes of workplace bullying.', 'one side argues that the bullying targets are in fact responsible for the bullying.<ref name=\"zapf\" /> more specifically, some physicians and psychologists attribute the cause of workplace bullying to the target employee\\'s mental disorders, such as [[general anxiety disorder]], instead of the working situation.<ref name=\"zapf\" /> the opposite argument contends that the cause of workplace bullying lies in the organizational problems and poor leadership skills.', 'another argument states that workplace bullying is a multi-causal phenomenon, as different factors can play their respective roles in building the tension.<ref>{{cite journal | last = salin | first = denise | title = ways of explaining workplace bullying: a review of enabling, motivating and precipitating structures and processes in the work environment | journal = [[human relations (journal)|human relations]] | volume = 56 | issue = 10 | pages = 1213–1232 | doi = 10.1177/00187267035610003 | date = october 2003 | hdl = 10227/283 | hdl-access = free }}</ref> despite this plethora of arguments, zapf addresses that academic analysis of the cause is difficult.<ref name=\"zapf\" /> getting the perspective of perpetrators and potential bystanders is unrealistic, and therefore the studies are primarily focused on victims\\' interviews.<ref name=\"zapf\" />\\n\\n===victims===\\nthe victims of workplace harassment can be separated into three categories, based on gender, sexuality, and race.', 'while one group experiences workplace harassment more frequently than others, workplace harassment still affects wide range of population.', '====gender====\\nboth men and women are victims of workplace harassment.', \"workplace harassment for women dates back to women's first foray into the workforce, as early as colonial times.\", 'the most common form of workplace harassment that women face is sexual harassment.<ref name=\"fitzgerald\" /> according to fitzgerald, one of every two women experiences workplace harassment in their working or academic lives.<ref name=\"fitzgerald\" /> the most common form of sexual harassment is the unwanted and unavoidable sexual attention from co-workers.<ref name=\"fitzgerald\" /> a study of government employees shows the inescapable, uncomfortable sexual attention takes varying forms.<ref name=\"fitzgerald\" /> 33% of respondents had been called by sexual remarks, 26% of respondents faced physical touching, and 15% respondents were pressured to go on a date.<ref name=\"fitzgerald\" /> the more explicit forms of sexual harassment are shown by court cases, such as [[meritor savings bank v. vinson|meritor v. vinson]] (1986), robinson v. jacksonville shipyards (1991), and others.<ref name=\"fitzgerald\" /> in meritor v. vinson, \"michele vinson, an employee of meritor savings bank, was forced to have sex with her boss between 40 and 50 times.', '\"<ref name=\"fitzgerald\" /> the boss harassed her by fondling her in public, following her to the bathroom, and frequently raping her.<ref name=\"fitzgerald\" /> in robinson v. jacksonville shipyards, robinson requested to put down the pornographic materials in jacksonville shipyard workplace.', 'the pornographic material included \"a pinup showing a meat spatula pressed against a woman\\'s pubic area and another featuring a nude woman holding a whip.', '\"<ref name=\"fitzgerald\" />\\n\\nwhile workplace harassment against women has been a frequent subject of study for more than 20 years, workplace harassment against men rarely receives attention and is not subjected to many studies.<ref name=\"lee\">{{cite journal | last = lee | first = deborah | title = hegemonic masculinity and male feminisation: the sexual harassment of men at work | journal = [[journal of gender studies]] | volume = 9 | issue = 2 | pages = 141–155 | doi = 10.1080/713677986 | date = july 2000 }}</ref> however, the bureau of justice statistics shows that \"among people victimized while working or on duty, male victims outnumbered females by about 2 to 1.', '\"<ref name=\"warchol\">{{citation | last = warchol | first = greg | contribution = victim characteristics | editor-last = warchol | editor-first = greg | title = special report: national crime victimization survey: workplace violence, 1992-96 | page = 2 | url = http://www.bjs.gov/content/pub/pdf/wv96.pdf | publisher = [[bureau of justice statistics]] | date = july 1998 | id = ncj 168634 | postscript = .', '}}</ref>  men experience less workplace sexual harassment than women, as only 16.7% of men reported rape/sexual assault, but men face more workplace violence.<ref name=\"warchol\" /> 72% of men were robbed in their workplace, 74.4% of men experienced aggravated assault, and 66.1% of men experienced simple assault.<ref name=\"warchol\" />\\n\\n====sexuality====\\nthe williams institute 2011 study shows that \"in the american workforce, more than eight million people (or 4 percent of the u.s. workforce) identify as [[lgbt|lesbian, gay, bisexual, or transgender]] (lgbt).', '\"<ref name=\"pizer\">{{cite journal | last1 = pizer | first1 = jennifer c. | last2 = sears | first2 = brad | last3 = mallory | first3 = christy | last4 = hunter | first4 = nan d. | title = evidence of persistent and pervasive workplace discrimination against lgbt people: the need for federal legislation prohibiting discrimination and providing for equal employment benefits | journal = [[loyola of los angeles law review]] | volume = 45 | issue = 3 | pages = 715–779 | date = spring 2012 | url = http://digitalcommons.lmu.edu/llr/vol45/iss3/3/ }} [http://digitalcommons.lmu.edu/cgi/viewcontent.cgi?article=2796&context=llr pdf.', ']</ref> even so, the lgbt group has faced constant discrimination and harassment in workplaces, as shown by court cases and historical events.<ref name=\"pizer\" /> one common form of workplace harassment for lgbt community is the psychological and physical strain in hiding their sexuality in a heterosexist workplace environment.<ref name=\"probst\">{{citation | last1 = probst | first1 = tahira m. | last2 = estrada | first2 = armando x.', '| last3 = brown |first3=jeremiah w. | contribution = harassment, violence and hate crimes in the workplace | editor-last = thomas | editor-first = kecia m. | title = diversity resistance in organizations | pages = 93–125 | publisher = lawrence erlbaum associates | year = 2008 | series = series in applied psychology | isbn = 9780805859638 | postscript = .', '}}</ref> other form of workplace harassment is direct harassment from the public after disclosing one\\'s sexuality.<ref name=\"probst\" /> because an lgbt individual experiences explicit verbal assault, physical violence, and hate crimes after disclosing sexuality, the lgbt community more often than not conceals its sexuality in workplaces.<ref name=\"probst\" />\\n\\n====race====\\nmany studies show that culturally stigmatized groups face more workplace harassments.<ref name=\"deitch\">{{cite journal | last1 = deitch | first1 = elizabeth a.', '| last2 = barsky | first2 = adam | last3 = butz | first3 = rebecca m. | last4 = chan | first4 = suzanne | last5 = brief | first5 = arthur p. | last6 = bradley | first6 = jill c. | title = subtle yet significant: the existence and impact of everyday racial discrimination in the workplace | journal = [[human relations (journal)|human relations]] | volume = 56 | issue = 11 | pages = 1299–1324 | doi = 10.1177/00187267035611002 | date = november 2003 }}</ref> with changes in the political and social scenes in america, subtle and daily harassment is more common than blatant and explicit harassment today.<ref name=\"deitch\" /> a study by deitch, barsky, butz and et al.', 'shows that black americans face more mistreatment in workplaces than white americans.<ref name=\"deitch\" /> the mistreatments and harassments do not explicitly \"reference race or discrimination as the cause of the treatment\", because overt racism is prohibited in workplaces.<ref name=\"deitch\" /> however, the statistics show race is \"significantly associated with mistreatment\" and that black americans in general report significantly more \"minor, pervasive mistreatment and unfairness on the job.', '\"<ref name=\"deitch\" /> the study suggests the discrimination and harassments may intensify for black americans in a job with fewer people of the same race, such as \"token\" black employee or \"solo\" employees.<ref name=\"deitch\" /> in addition, not only blacks but also asian americans, and other minority races all face \"a higher rate of homicide than their proportion of the work force would suggest.', '\"<ref name=\"toscano\">{{citation | last1 = toscano | first1 = guy | last2 = weber | first2 = william | contribution = homicides at work | editor-last1 = toscano | editor-first1 = guy | editor-last2 = weber | editor-first2 = william | title = violence in the workplace | page = 45 | url = http://www.bls.gov/iif/oshwc/cfar0005.txt | publisher = [[bureau of labor statistics]], [[united states department of labor|u.s.', 'dept.', 'of labor]] | date = 1995 | postscript = .}}', '[http://www.bls.gov/iif/oshwc/cfar0005.pdf pdf.', ']</ref> of the eighth of the workforce experiencing homicide, more than a fourth of the population is an ethnic minority.<ref name=\"toscano\" />\\n\\n===impacts===\\n\\n====[[alcoholism]]====\\nthe intensity of workplace harassment is positively correlated with the level of alcohol use.<ref name=\"richman\">{{cite journal | last1 = richman | first1 = judith a.', '| last2 = rospenda | first2 = kathleen m. | last3 = flaherty | first3 = joseph a.', '| last4 = freels | first4 = sally | title = workplace harassment, active coping, and alcohol-related outcomes | journal = journal of substance abuse | volume = 13 | issue = 3 | pages = 347–366 | doi = 10.1016/s0899-3289(01)00079-7 | pmid = 11693457 | date = october 2001 }}</ref> one of the motives that people drink is \"to self-medicate distressful feelings resulting from problematic social conditions\".<ref name=\"richman\" /> thus, the negative social distress faced in workplaces is linked with increased consumption of alcohol.<ref name=\"richman\" /> moreover, because workplace harassment cannot be clearly delineated like sexual or racial harassment, victims do not counteract by legal and institution responses.<ref name=\"richman\" /> rather, they rely on drinking to cope with the emotional distress.<ref name=\"richman\" />\\n\\nnolen-hoeksema and harrell\\'s 2002 study shows that while both women and men are at risk of alcoholism under workplace harassment, men are more likely to cope by drinking than women do, as women use their relatively wider social connections to attain the emotional support.<ref name=\"rospenda\">{{cite journal | last1 = rospenda | first1 = kathleen m. | last2 = fujishiro | first2 = kaori | last3 = shannon | first3 = candice a.', '| last4 = richman | first4 = judith a.', '| title = workplace harassment, stress, and drinking behavior over time: gender differences in a national sample | journal = [[addictive behaviors]] | volume = 33 | issue = 7 | pages = 964–967 | doi = 10.1016/j.addbeh.2008.02.009 | pmc = 2442899 | date = july 2008 | pmid=18384975}}</ref> however, a 2004 survey of a random sample of employees at a heavy machinery assembly plant shows that women are more sensitive and receptive of workplace harassment, and therefore women have \"a greater propensity to drink\".<ref name=\"svare\">{{cite journal | last1 = messick svare | first1 = gloria | last2 = miller | first2 = leonard | last3 = ames | first3 = genevieve | title = social climate and workplace drinking among women in a male-dominated occupation | journal = [[addictive behaviors]] | volume = 29 | issue = 8 | pages = 1691–1698 | doi = 10.1016/j.addbeh.2004.03.033 | pmid = 15451139 | date = november 2004 }}</ref> the negative drinking effects are more severe for women than they are for men.<ref name=\"rospenda\" />\\n\\none mail survey that was completed at four points in time by a cohort of 1654 employees has shown that the positive correlation between consumption of drinking and levels of workplace harassment continues after retirement.<ref name=\":4\">{{cite journal | last1 = richman | first1 = judith a.', '| last2 = zlatoper | first2 = kenneth w. | last3 = zackula ehmke | first3 = jennifer l. | last4 = rospenda | first4 = kathleen m. | title = retirement and drinking outcomes: lingering effects of workplace stress?', '| journal = [[addictive behaviors]] | volume = 31 | issue = 5 | pages = 767–776 | doi = 10.1016/j.addbeh.2005.06.001 | pmid = 15994026 | date = may 2006 }}</ref> even when the immediate stressors are not present, the victims still retain the increased use of alcohol.<ref name=\":4\" /> the study attributes the reason for the lasting effect is that \"appropriate alcohol consumption may have functioned to somewhat inhibit the self-medication of stress-induced distress during work role occupancy\".<ref name=\":4\" />\\n\\n====ptsd====\\nptsd is commonly known as a \"war wound\", yet it also affects workers,<ref name=\":5\" /> \"when a worker suffers ptsd, the workplace for that person has become a war zone\".<ref name=\":5\">{{cite web | title = psychological-emotional-mental injuries | url = http://www.workplacebullying.org/individuals/impact/mental-health-harm/ | publisher = workplace bullying institute rss | access-date = april 28, 2015 }}</ref> several studies show that many workplace harassment victims experience [[posttraumatic stress disorder]] (ptsd).<ref name=\"mikkelsen\">{{cite journal | last1 = mikkelsen | first1 = eva gemzøe | last2 = einarsen | first2 = ståle | title = basic assumptions and symptoms of post-traumatic stress among victims of bullying at work | journal = [[european journal of work and organizational psychology]] | volume = 11 | issue = 1 | pages = 87–111 | doi = 10.1080/13594320143000861 | date = march 2002 }}</ref> for example, a study that interviewed about 100 victims of workplace harassment shows that \"a majority of the respondents exceed recommended threshold-values indicating ptsd\".<ref name=\"matthiesen\">{{cite journal | last1 = matthiesen | first1 = stig berge | last2 = einarsen | first2 = ståle | title = psychiatric distress and symptoms of ptsd among victims of bullying at work | journal = british journal of guidance & counselling| volume = 32 | issue = 3 | pages = 335–356 | doi = 10.1080/03069880410001723558 | date = august 2004 }} [http://folk.uib.no/pspsm/documents/bullying-ptsd-2004-matthiesen-einarsen.pdf pdf.', ']</ref> the study also demonstrate that based on the duration and persistency of the workplace harassment, the levels of ptsd differ.<ref name=\"matthiesen\" /> the more recent and frequent the workplace harassment occurred, the more severe their symptoms of ptsd were.<ref name=\"matthiesen\" />\\n\\na study by mikklesen and einarsen also reports that 76 percent of its respondents experienced ptsd.<ref name=\"mikkelsen\" /> nevertheless, mikklesen and einarsen qualify the idea that workplace harassment directly leads to ptsd.<ref name=\"mikkelsen\" /> they argue that the causes of ptsd symptoms of the victims are primarily attributed to other traumatic events rather than the workplace harassment itself.<ref name=\"mikkelsen\" /> therefore, the study concludes the \"exposure to other traumatic life events may increase victims\\' vulnerability\" to their sensitivity to workplace harassment.<ref name=\"mikkelsen\" />\\n\\n==== other psychological effects ====\\nother than alcoholism and ptsd, victims of workplace harassment also experience other negative psychological effects.<ref name=\":0\">{{cite journal | last1 = lewis | first1 = jacqueline | last2 = coursol | first2 = diane | last3 = wahl | first3 = kay herting | title = addressing issues of workplace harassment: counseling the targets | journal = [[journal of employment counseling]] | volume = 39 | issue = 3 | pages = 109–116 | doi = 10.1002/j.2161-1920.2002.tb00842.x | date = march 2001 }} [http://www.workplaceviolence911.com/sites/workplaceviolence911.com/files/20021202-04_1.htm text.', ']</ref> an analysis of self-reported health symptoms, and physiological stress reactivity of 437 employees shows that compared to the employees who have not experienced workplace harassment, employees who have experienced exhibited higher level of anxiety and nervousness.<ref>{{cite journal | last1 = hansen | first1 = åse marie | last2 = hogh | first2 = annie | last3 = persson | first3 = roger | last4 = karlson | first4 = björn | last5 = garde | first5 = anne helene | last6 = ørbæk | first6 = palle | title = bullying at work, health outcomes, and physiological stress response | journal = [[journal of psychosomatic research]] | volume = 60 | issue = 1 | pages = 63–72 | doi = 10.1016/j.jpsychores.2005.06.078 | pmid = 16380312 | date = january 2006 }}</ref> another study\\'s survey of 156 victims of workplace harassment shows that 79.4 percent of respondents suffer from stress, 64.7 percent from depressive symptoms, 64 percent from tiredness, 59 percent from lack of confidence, 58 percent from humiliation and guilt, and 58 percent from nightmares.<ref name=\":0\" />\\n\\n=== preventions ===\\n\\n==== title vii ====\\n[[civil rights act of 1964|title vii of the civil rights act of 1964]] is used as a tool to eradicate workplace harassment.<ref>{{cite journal | last = anderson | first = katherine s. | title = employer liability under title vii for sexual harassment after \\'\\'meritor savings bank v. vinson\\'\\' | journal = [[columbia law review]] | volume = 87 | issue = 6 | pages = 1258–1279 | doi = 10.2307/1122590 | jstor = 1122590 | date = october 1987 }}</ref> title vii lists the following actions of employers unlawful:<blockquote>\"(1) to fail or refuse to hire or to discharge any individual, or otherwise to discriminate against any individual with respect to [her or] his compensation, terms, conditions, or privileges of employment, because of such individual\\'s race, color, religion, sex, or national origin; or (2) to limit, segregate, or classify [her or] his employees discrimination based on race, color, religion, sex and national origin … in any way which would deprive... any individual of employment opportunities or otherwise adversely affect [her or] his status as an employee, because of such individual\\'s race, color, religion, sex, or national origin.', '\"<ref>{{cite journal | last = u.s. code | author-link = united states code | title = title 42 chapter 21 subchapter vi u.s. code § 2000e–2 - unlawful employment practices | journal = [[legal information institute]] | url = https://www.law.cornell.edu/uscode/text/42/2000e-2 }}</ref></blockquote>\"most courts consider it consistent with the intent of congress to interpret the act liberally, and therefore, coverage under title vii is very broad\".<ref name=\":1\">{{cite journal | last = faley | first = robert h. | title = sexual harassment: critical review of legal cases with general principles and preventive measures | journal = personnel psychology | volume = 35 | issue = 3 | pages = 583–600 | doi = 10.1111/j.1744-6570.1982.tb02211.x | date = september 1982 }}</ref> this allows victims of workplace harassment primarily use title vii to assert their legal actions.<ref name=\":1\" /> in addition, the [[equal employment opportunity commission]] (eeoc), a governmental committee that prohibits discrimination in workplace, administers the practices and violations of title vii.<ref name=\":1\" /> it issued and amended the \"guidelines on discrimination of sex\", a more specified interpretation of title vii.<ref name=\":1\" />\\n\\n==== court cases ====\\n\\n===== \\'\\'meritor savings bank vs. vinson\\'\\' =====\\nwhile an employee with meritor savings bank, mechelle vinson claimed that she had been sexually harassed and raped by the vice president of the bank, sidney taylor, for four years starting her first day of employment  .<ref name=\":2\">{{cite journal | last = westman | first = bonnie | title = the reasonable woman standard: preventing sexual harassment in the workplace | journal = [[william mitchell college of law|william mitchell law review]] | volume = 18 | issue = 3 | pages = 795–827 | date = summer 1992 | url = http://heinonline.org/hol/landingpage?handle=hein.journals/wmitch18&div=45&id=&page= }} [http://open.wmitchell.edu/cgi/viewcontent.cgi?article=2295&context=wmlr pdf.', ']</ref> however, she did not address to taylor or higher authority, because she was afraid of dismissal.<ref name=\":2\" /> \\'\\'[[meritor savings bank v. vinson|meritor savings bank vs. vinson]]\\'\\' case ruled that hostile environment is considered a violation of title vii.<ref name=\":2\" /> this decision \"legitimized this area of the law for complainants and, for the first time, put employers on notice that unwelcome sexual conduct will not be tolerated in the workplace.', '\"<ref name=\":2\" /> this court case also added that violation of title vii does not have to be \"tangible\" and \"economic\".<ref name=\":2\" />\\n\\n===== \\'\\'robinson v. jacksonville shipyards, inc.\\'\\' =====\\n[[file:moodyshipyardfl.jpg|thumb|shipyard in jacksonville]]\\nrobinson, as one of the few female employees at the jacksonville shipyard, filed a sexual harassment report against jacksonville shipyard.<ref name=\":3\">{{cite journal | last = strossen | first = nadine | title = regulating workplace sexual harassment and upholding the first amendment - avoiding a collision | journal = [[villanova university school of law#publications|villanova law review]] | volume = 37 | issue = 4 | pages = 757–785 | date = 1992 | url = http://digitalcommons.law.villanova.edu/vlr/vol37/iss4/3/ }} [http://digitalcommons.law.villanova.edu/cgi/viewcontent.cgi?article=2783&context=vlr pdf.', ']</ref> she attested that all of the pornographic images and remarks objectified her.<ref name=\":3\" /> this case received high media attention, as the [[american civil liberties union|aclu]] of florida and aclu of women\\'s rights project defended different parties.<ref name=\":3\" /> aclu of florida primarily held the free speech principles, while in contrast, aclu women\\'s rights project addressed the equality principle.<ref name=\":3\" /> they openly disagreed and showed \"disagreement among civil libertarians on how to apply free speech- and equality principles to the facts at issue in a workplace sexual harassment case.', '\"<ref name=\":3\" /> the district court upheld the aclu women\\'s rights project\\'s side, as \"the district court did not undertake the proper inquiry in determining liability.<ref name=\":3\" /> instead, the district court proceeded from the erroneous assumption that expression can constitute harassment merely because an employee finds it offensive.', '\"<ref name=\":3\" />\\n==quotes==\\n“beauty provokes harassment, the law says, but it looks through men\\'s eyes when deciding what provokes it.”\\n“the liberal idea of tolerance is more and more a kind of intolerance.', \"what it means is 'leave me alone; don't harass me; i'm intolerant towards your over-proximity.”\\n?\", 'slavoj žižek\\n“when a storm of harassment disturbs our thinking and brings us down to our knees, the umbrella of our imagination can shield us against destructive aggression.', 'it is offering shelter and is teaching us how to conquer ourselves, train our resilience, and grit our teeth.', 'we better learn to adopt the virtue of endurance, as life consists of both ‘passion’ and ‘patience.’ (\"the umbrella\")”\\n?', 'erik pevernagie\\n== in singapore ==\\nin an informal survey among 50 employees in singapore, 82% said they had experienced toxicity from their direct superior or colleagues in their careers, with some 33.3% experiencing it on a daily basis.', 'some of the other reports was failing to agree with the boss was considered being a trouble maker, always having to give praise to the superior, the senior colleague has a tendency to shout at people.', 'many respondents reported that they had to quit because of the toxic environment.', 'in some cases they were made to feel they were at fault, which is why they quit <ref>{{cite web|date=2020-01-21|title=toxic workplace cultures in singapore: are they more common than we realise?|url=https://www.ricemedia.co/current-affairs-opinion-toxic-workplace-culture-singapore/|access-date=2020-10-19|website=rice|language=en-gb}}</ref> in other surveys, it is clear that the company is aware but does nothing, such as where a singapore economist at a us bank is involved.<ref>{{cite web|last=chan|first=melissa|date=2018-04-30|title=5 s\\'poreans on working for bosses from hell - \"he cut my salary by $1,000 because he felt like it\"|url=https://vulcanpost.com/638932/singapore-workplace-bullying-experiences/|access-date=2020-10-19|website=vulcan post|language=en-us}}</ref> a kantar survey in 2019 suggested that employees in singapore were the most likely to be made to \"feel uncomfortable\" by their employers, compared with those in the other countries that the company polled.<ref>{{cite web|title=is workplace bullying the norm in singapore?|url=https://theaseanpost.com/article/workplace-bullying-norm-singapore|access-date=2020-10-19|website=the asean post|language=en}}</ref>\\n\\n==see also==\\n{{columns-list|colwidth=30em|\\n* [[harassment in the united kingdom]]\\n* [[hostile work environment]]\\n* [[industrial and organizational psychology]]\\n* \\'\\'[[majrowski v guy\\'s and st thomas\\' nhs trust]]\\'\\'\\n* [[meritor savings bank v. vinson]]\\n* [[protection from harassment act 1997]]\\n* [[reeves v. c.h.', 'robinson worldwide, inc.]]\\n* [[workplace incivility]]\\n* [[workplace aggression]]\\n* [[workplace bullying]]\\n}}\\n\\n== further reading ==\\n* {{cite book | last1 = boland | first1 = mary l. | title = sexual harassment in the workplace | publisher = sphinxlegal | isbn = 9781572485273 | date = 2005 | url-access = registration | url = https://archive.org/details/sexualharassment00bola }} [https://books.google.com/books?id=6gutul81yc8c&printsec=frontcover preview.]', '* {{cite book | last1 = einarsen | first1 = ståle | last2 = hoel | first2 = helge | last3 = zapf | first3 = dieter | last4 = cooper | first4 = cary  |title=bullying and harassment in the workplace: developments in theory, research, and practice | edition = 2nd | publisher = [[crc press]] | isbn = 9781439804902 |date=2010}} [https://books.google.com/books?id=h8qyxahmhuac&printsec=frontcover preview.]', '* {{cite journal | last1 = nielsen | first1 = morten birkeland | last2 = tangen | first2 = tone | last3 = idsoe | first3 = thormod | last4 = matthiesen | first4 = stig berge | last5 = magerøy | first5 = nils | title = post-traumatic stress disorder as a consequence of bullying at work and at school.', 'a literature review and meta-analysis | journal = [[aggression and violent behavior]] | volume = 21 | pages = 17–24 | doi = 10.1016/j.avb.2015.01.001 | date = march–april 2015 | doi-access = free }}\\n\\n== references ==\\n{{reflist|30em}}\\n\\n{{employment}}\\n{{workplace}}\\n\\n[[category:workplace]]\\n[[category:harassment]]\\n[[category:workplace bullying]]']\n"
     ]
    }
   ],
   "source": [
    "sent_tokens = nltk.sent_tokenize(raw_data)# converts documents to list of sentences \n",
    "print(sent_tokens)"
   ]
  },
  {
   "cell_type": "code",
   "execution_count": 20,
   "metadata": {},
   "outputs": [
    {
     "name": "stdout",
     "output_type": "stream",
     "text": [
      "printing lists in new line\n",
      "'''workplace harassment''' is the belittling or threatening behavior directed at an individual worker or a group of workers<ref name=\"williams_helen\">{{cite web | last = williams | first = helen  | title = maintaining a harassment-free workplace: apc  | url = http://www.apsc.gov.au/publications01/harassment.htm | archive-url = https://web.archive.org/web/20120328034350/http://apsc.gov.au/publications01/harassment.htm | website = apsc.gov.au | publisher = [[australian public service commission]] | date = 8 february 2001 | archive-date = 28 march 2012 }}</ref>\n",
      "\n",
      "recently, matters of [[workplace]] [[harassment]] have gained interest among practitioners and researchers as it is becoming one of the most sensitive areas of effective workplace management, because a significant source of work [[stress (psychological)|stress]] is associated with aggressive behaviors at workplace.<ref>{{cite journal|last=tehrani|first=noreen|date=august 2004|title=bullying: a source of chronic post traumatic stress?|journal=british journal of guidance & counselling|volume=32|issue=3|pages=357–366|doi=10.1080/03069880410001727567}}</ref> in asian countries, workplace harassment is one of the poorly attended issues by managers in organizations.<ref name=rokon>{{cite journal | last1 = rokonuzzaman | first1 = md.\n",
      "| last2 = rahman | first2 = m m | title = workplace harassment and productivity: a comprehensive role of strategic leadership | journal = journal of general education | volume = 1 | issue = dec | pages = 41–50 | date = 2011 }} issn: 2223-4543.\n",
      "[https://www.researchgate.net/publication/299594576 pdf]</ref> however, it attracted much attention from researchers and governments since the 1980s.\n",
      "under [[occupational health and safety]] laws around the world,<ref>concha-barrientos, m., imel, n.d., driscoll, t., steenland, n.k., punnett, l., fingerhut, m.a., prüss-üstün, a., leigh, j., tak, s.w., corvalàn, c. (2004).\n",
      "selected occupational risk factors.\n",
      "in m. ezzati, a.d. lopez, a. rodgers & c.j.l.\n",
      "murray (eds.\n",
      "), comparative quantification of health risks.\n",
      "geneva: world health organization.</ref> workplace harassment and [[workplace bullying]] are identified as being core psychosocial hazards.<ref>{{citation|last=productivity commission |author-link=productivity commission |contribution=psychosocial hazards |editor-last=productivity commission |editor-link=productivity commission |title=performance benchmarking of australian business regulation: occupational health and safety |publisher=[[government of australia]] |url=http://www.pc.gov.au/__data/assets/pdf_file/0003/96177/13-chapter11.pdf |url-status=dead |archive-url=https://web.archive.org/web/20140307073447/http://www.pc.gov.au/__data/assets/pdf_file/0003/96177/13-chapter11.pdf |archive-date=march 7, 2014 }}</ref> '''overbearing supervision''', '''constant criticism''', and blocking promotions are all considered workplace harassment.<ref>{{cite news|url=https://www.theguardian.com/careers/2017/mar/29/bullying-at-work-your-legal-rights|title=bullying at work: your legal rights|last=landau|first=philip|date=2017-03-29|newspaper=the guardian|language=en|access-date=2018-10-08}}</ref>\n",
      "\n",
      "==definition==\n",
      "workplace harassment is also known by many other names.\n",
      "\"mobbing\", \"[[workplace bullying]]\", \"workplace mistreatment\", \"[[workplace aggression]]\", \"workplace molestation\" and \"workplace abuse\" are all either synonymous or belong to the category of workplace harassment.<ref>{{cite journal | last1 = lewis | first1 = jacqueline | last2 = coursol | first2 = diane | last3 = wahl | first3 = kay herting | title = addressing issues of workplace harassment: counseling the targets | journal = [[journal of employment counseling]] | volume = 39 | issue = 3 | pages = 109–116 | doi = 10.1002/j.2161-1920.2002.tb00842.x | date = september 2002 }} [http://www.workplaceviolence911.com/sites/workplaceviolence911.com/files/20021202-04_1.htm text.\n",
      "]</ref> workplace harassment includes different types of discrimination and acts of violation that are not confined to one specific group.\n",
      "the wide-ranging types of workplace harassment can be loosely categorized into emotional and physical abuse.\n",
      "all of these forms of workplace harassment target various groups, including women, racial minorities, homosexuals, people with disabilities and immigrants.\n",
      "in essence, workplace harassment requires a pluralistic understanding, because it cannot be delineated in one coherent and concrete definition.<ref name=\"brooks\">{{cite journal | last = brooks | first = rosa ehrenreich | title = dignity and discrimination: toward a pluralistic understanding of workplace harassment | journal = [[georgetown law journal]] | volume = 88 | issue = 1 | pages = 14–20 | date = 1999 | url = http://scholarship.law.georgetown.edu/facpub/1134/ }} [http://scholarship.law.georgetown.edu/cgi/viewcontent.cgi?article=2143&context=facpub pdf.\n",
      "]</ref>\n",
      "\n",
      "acknowledging the difficulty of formulating a universal definition of workplace harassment, ezer broadly defines workplace harassment as \"irrational repeated behavior towards an employee or group of employees, which represents a health and security risk.<ref name=\"ezer\">{{cite journal | last1 = ezer | first1 = marius | last2 = ezer | first2 = oana florentina | title = workplace harassment, mobbing phenomenon | journal = perspectives of business law journal | volume = 1 | issue = 1 | pages = 298–304 | date = november 2012 | url = http://www.businesslawconference.ro/revista/anul1nr1.html }} [http://www.businesslawconference.ro/revista/articole/an1nr1/33%20marius%20ezer%20si%20oana%20ezer%20eng.pdf pdf.\n",
      "]</ref> any act of discrimination or assault that systematically disadvantage the employees is considered workplace harassment.<ref name=\"ezer\" /> workplace harassment can contribute to deterioration of physical and emotional health.<ref name=\"ezer\" />\n",
      "\n",
      "according to rosa brook, the concept of workplace harassment is based on two premises.<ref name=\"brooks\" /> firstly, regardless of gender, race, sexuality or any other defining characteristic, every person should be given the right to be \"free from abusive treatment in the workplace\".<ref name=\"brooks\" /> with freedom from abuse given as a basic human right, any form of discomfort or discrimination in workplace becomes labeled as an act of harassment.<ref name=\"brooks\" /> secondly, the issues caused by workplace harassment affect the victims in harmful ways.\n",
      "discrimination in the workplace hinders victims from successful advancement in their careers, limiting the capabilities of the victim.<ref name=\"brooks\" />\n",
      "\n",
      "a common misconception about workplace harassment is that workplace harassment is simply [[sexual harassment]] in the context of a workplace.<ref name=\"dol\">{{cite web | last = u.s. department of labor | author-link = united states department of labor | title = what do i need to know about – workplace harassment | url = http://www.dol.gov/oasam/programs/crc/2011-workplace-harassment.htm | website = dol.gov | publisher = [[federal government of the united states|u.s.\n",
      "federal government]] | access-date = march 17, 2015 }}</ref> while sexual harassment is a prominent form of workplace harassment, the united states department of labor defines workplace harassment as being more than just sexual harassment.<ref name=dol /> \"it may entail '[[quid pro quo|quid pro quo']] harassment, which occurs in cases in which employment decisions or treatment are based on submission to or rejection of unwelcome conduct, typically conduct of a sexual nature.\n",
      "workplace harassment may also consist of offensive conduct based on one or more of the protected groups above that is so severe or pervasive that it creates a hostile or offensive work environment or when it results in an adverse employment decision (such as being fired or demoted/reducing salary).\n",
      "\"<ref name=\"dol\" /> thus, workplace harassment is a bigger category that encompasses sexual harassment.\n",
      "==in the united states==\n",
      "\n",
      "===types===\n",
      "the varying harassment imposed on the victims can be categorized into two different types, physical abuse and emotional abuse.\n",
      "physical abuse refers to sexual assault and violence on body, while emotional abuse refers to imposing stress and bullying.\n",
      "anderson and militello found that often managers exhibiting [[abusive supervision|harassing behavior]] were allowed to maintain their jobs because their behavior was seen to increase productivity in the short term.\n",
      "a study done by kathleen d. ryan and daniel k oestereich, ''driving fear out of the workplace'', found that many of these behaviors can range from subtle emotional cues to outward physical threats and can include; silence, direct insults and even angry outbursts.\n",
      "whether these actions are intentional or brought on by stress, the result can cause the employee to feel humiliated, isolated and may cause them to lash out at others.<ref>{{citation | last = layden | first = dianne r. | contribution = violence, the emotionally enraged employee, and the workplace: managerial considerations | editor-last1 = curry | editor-first1 = renée r. | editor-last2 = allison | editor-first2 = terry l. | title = states of rage: emotional eruption, violence and social change | pages = 48–49 | publisher = new york university press | location = new york, new york | year = 1996 | isbn = 9780814715307 | postscript = .\n",
      "}}</ref>\n",
      "\n",
      "====physical harassment====\n",
      "[[file:anita hill at harvard law school sep 2014.jpg|thumb|anita hill testified her charge against clarence thomas for sexually harassing her at the department of education and the eeoc.]]\n",
      "physical harassment in the workplace takes many forms.\n",
      "sexual assault is one form of widely known physical harassment.\n",
      "sexual assault in the workplace has gained media and academic attention mainly in the 1990s after a series of famous sex scandals.<ref name=\"williams\">{{cite journal | last1 = williams | first1 = christine l. | last2 = giuffre | first2 = patti a.\n",
      "| last3 = dellinger | first3 = kirsten | title = sexuality in the workplace: organizational control, sexual harassment, and the pursuit of pleasure | journal = [[annual review of sociology]] | volume = 25 | pages = 73–93 | jstor = 223498 | doi = 10.1146/annurev.soc.25.1.73 | date = 1999 }}</ref> \"among the most notorious are the 1991 congressional hearings on the alleged sexual harassment of [[anita hill]] by clarence thomas, nominee to the supreme court; the sexual assault on female officers at a party during the 1991 annual convention of navy fighter pilots; the dismissal of air force pilot kelly flinn for adultery in 1997; the 1998 trial and acquittal of the top ranking army enlisted man on charges of sexual harassment; and the independent counsel investigations of president clinton's sexual affairs with subordinates.\n",
      "\"<ref name=\"williams\" /> with this cascade of sex scandals, the media and scholars have focused on developing more studies on sexual harassment in workplaces.\n",
      "sexual assault becomes difficult to define, as the distinction between sexual harassment and consensual sexual behaviors is not finely delineated.<ref name=\"williams\" /> some occupations require a higher tolerance to sexual behaviors, such as waitresses and tour guides.<ref name=\"williams\" /> more specifically, the employers for these occupations expect the workers to comply with the level of sexual interactions the workers would have with the customers.<ref name=\"williams\" /> this unquestioned expectation from the employers then pushes the workers to see only two options.\n",
      "the workers would have to accept the sexual harassment from customers as \"part of the job\", or report the sexual harassment to the manager and get fired.<ref name=\"williams\" /> adding onto the pressure, reporting sexual assault comes with criticism from co-workers, as they see the sexual assault as part of the job requirement.<ref name=\"williams\" />\n",
      "\n",
      "{{see also|sexual harassment in the workplace in the united states}}\n",
      "the prevalence of sexual harassment at work is high.\n",
      "for example, a study by the [[u.s. merit systems protection board]] in 1981 shows that among the female government employees, 33 percent experienced sexual comments, 26 percent had unwanted physical touching, and 15 percent was pressured for dates.<ref name=\"fitzgerald\">{{cite journal | last = fitzgerald | first = louise f. | title = sexual harassment: violence against women in the workplace | journal = [[american psychologist]] | volume = 48 | issue = 10 | pages = 1070–1076 | doi = 10.1037/0003-066x.48.10.1070 | date = october 1993 }}</ref> moreover, \"nearly 10% had been directly pressured for sexual cooperation, and a similar percentage described repeated telephone calls and unwelcome letters or notes.\n",
      "\"<ref name=\"fitzgerald\" /> other than this example, fitzgerald states that \"the enormity of such figures is difficult to grasp, indicating as they do that virtually millions of women are subjected to experiences ranging from insults to assault—many on an ongoing or recurrent basis— as the price of earning a living.\n",
      "\"<ref name=\"fitzgerald\" />\n",
      "\n",
      "another form of physical harassment at work is workplace violence.\n",
      "[[workplace violence]] is defined as physical threats and assaults targeted at employees.\n",
      "there are two main perpetrators for workplace violence: criminals who approached as clients, and co-workers.<ref name=\"leblanc\">{{cite journal | last1 = leblanc | first1 = manon mireille | last2 = kelloway | first2 = e. kevin | title = predictors and outcomes of workplace violence and aggression | journal = [[journal of applied psychology]] | volume = 87 | issue = 3 | pages = 444–453 | doi = 10.1037/0021-9010.87.3.444 | pmid = 12090602 | date = june 2002 }}</ref> the criminals assert violence through the forms of robberies and homicides, and the rate of homicides in the workplace has risen significantly over the past 20 years.<ref name=\"leblanc\" />  according to the [[national institute for occupational safety and health]] (niosh), 9,937 workplace homicides happened in the time period of 1980 to 1992, which averages out to about 800 homicides per year.<ref name=\"leblanc\" /> \"in 1989, homicide was the third leading cause of death in the workplace for all employees.<ref name=\"neuman\">{{cite journal | last1 = neuman | first1 = joel h. | last2 = baron | first2 = robert a.\n",
      "| title = workplace violence and workplace aggression: evidence concerning specific forms, potential causes, and preferred targets | journal = [[journal of management]] | volume = 24 | issue = 3 | pages = 391–419 | doi = 10.1177/014920639802400305 | date = june 1998 }} [https://lms.manhattan.edu/pluginfile.php/150282/mod_resource/content/2/workplace%20violence%20and%20workplace%20aggression.pdf pdf.\n",
      "]</ref> by 1993, homicide had become the second-leading cause of death on-the-job for all employees and had become the leading cause of death for women.\n",
      "\"<ref name=\"neuman\" /> most of these homicides are by criminals, as the [[bureau of labor statistics]] found that only 59 of the 1,063 were co-worker-related homicides, and the rest were made by criminals.<ref name=\"neuman\" />\n",
      "\n",
      "the workplace violence perpetrated by co-workers tends to be less obvious.<ref name=\"neuman\" /> the northwestern national life (1993) study showed 15 percent of respondents experienced physical attack at work, and 14 percent of respondents reported being physically attacked in the past 12 months.<ref name=\"neuman\" /> the acts of violence in workplace consist of pushing or shoving, fistfights, and rape.<ref name=\"neuman\" /> the shrm study that interviewed 1,016 human resource professionals, \"22% reported incidents of pushing or shoving, 13% reported fist fights, and 1% reported rape or sexual assault.\n",
      "\"<ref name=\"neuman\" /> much of the physical violence on workers is preceded by physiological aggression, hinting that emotional harassment may be the cause for workplace violence.<ref>{{cite journal | last1 = schat | first1 = aaron c.h.\n",
      "| last2 = kelloway | first2 = e. kevin | title = reducing the adverse consequences of workplace aggression and violence: the buffering effects of organizational support | journal = [[journal of occupational health psychology]] | volume = 8 | issue = 2 | pages = 110–122 | doi = 10.1037/1076-8998.8.2.110 | pmid = 12703877 | date = april 2003 }} [http://workplaceviolence.ca/sites/default/files/schat%20%26%20kelloway%20%282003%29-reducing%20the%20adverse%20consequences....pdf pdf.\n",
      "]</ref>\n",
      "\n",
      "====emotional harassment====\n",
      "\n",
      "unlike physical harassment, emotional harassment is unnoticeable and also viewed as being more socially acceptable.<ref name=\"keashly\">{{cite journal | last = keashly  | first = loraleigh | title = emotional abuse in the workplace: conceptual and empirical issues | journal = [[journal of aggression, maltreatment & trauma|journal of emotional abuse]] | volume = 1 | issue = 1 | pages = 85–117 | doi = 10.1300/j135v01n01_05 | date = july 1997 }}</ref> naturally, emotional harassment in the workplace gets less attention than physical harassment in the workplace, which perpetuates the issue of emotional harassment in the workplace.<ref name=\"keashly\" /> according to keashly, emotional harassment can be defined as \"the hostile verbal and nonverbal behaviors that are not explicitly tied to sexual or racial content yet are directed at gaining compliance from others.\n",
      "\"<ref name=\"keashly\" /> in short, emotional harassment is manipulation of people's actions through social behaviors.\n",
      "one common form of emotional abuse in workplace is [[bullying]].\n",
      "also known as [[mobbing]], workplace bullying \"is a long lasting, escalated conflict with frequent harassing actions systematically aimed at a target person.\n",
      "\"<ref name=\"zapf\">{{cite journal | last = zapf | first = dieter | title = organisational, work group related and personal causes of mobbing/bullying at work | journal = [[international journal of manpower]] | volume = 20 | issue = 1–2 | pages = 70–85 | doi = 10.1108/01437729910268669 | date = 1999 }}</ref> specific actions of workplace bullying include the following: false accusations of mistakes and errors, hostile glares and other intimidating non-verbal behaviors, yelling, shouting, and screaming, exclusion and the \"silent treatment,\" withholding resources and information necessary to the job, behind-the-back sabotage and defamation, use of put-downs, insults, and excessively harsh criticism, and unreasonably heavy work demands designed to ensure failure.<ref name=\"yamada\">{{cite book | last = yamada | first = david | title = promoting healthy, productive, and socially responsible workplaces | publisher = 2014 warns-render institute university of louisville, louis d. brandeis school of law }} new workplace institute: promoting healthy, productive, and socially responsible workplaces.\n",
      "[https://web.archive.org/web/20150402153422/http://uofllawclinic.com/sites/www.law.louisville.edu/files/materials_yamada.pdf pdf.\n",
      "]</ref> the 2014 workplace bullying institute/zogby national survey shows that 27 percent of the total amount of human beings on the planet earth have experienced workplace bullying in the past, and 70-seven percent of employees are currently suffering with workplace bullying.<ref name=\"yamada\" /> in addition, \"[[nursing shortage|more than 97% of nurse managers]] reported experiencing abuse, whereas [[retail industry leaders association|60% of retail industry workers]], 23% of faculty and university staff, and 53% of business school students reported abuse at work.\n",
      "\"<ref name=\"lutgen\">{{cite journal | last = lutgen-sandvik | first = pamela | title = the communicative cycle of employee emotional abuse: generation and regeneration of workplace mistreatment | journal = [[management communication quarterly]] | volume = 16 | issue = 4 | pages = 471–501 | doi = 10.1177/0893318903251627 | date = may 2003 }} [https://www.natcom.org/uploadedfiles/public_engagement/nca_anti-bullying_digital_repository/workplace_bullying/lutgen-sandvik-%20the%20communicative%20cycle%20of%20employee%20emotional%20abuse%20generation%20and%20regeneration%20of%20workplace%20mistreatment.pdf pdf.\n",
      "]</ref> the areas of industry in which emotional abuse happens are not limited to one, but rather they range from hospitals, universities, manufacturing plants, research industries, and social service agencies.<ref name=\"lutgen\" />\n",
      "\n",
      "with such frequency of workplace bullying to various groups of people, many theories exist in discussing the causes of workplace bullying.\n",
      "one side argues that the bullying targets are in fact responsible for the bullying.<ref name=\"zapf\" /> more specifically, some physicians and psychologists attribute the cause of workplace bullying to the target employee's mental disorders, such as [[general anxiety disorder]], instead of the working situation.<ref name=\"zapf\" /> the opposite argument contends that the cause of workplace bullying lies in the organizational problems and poor leadership skills.\n",
      "another argument states that workplace bullying is a multi-causal phenomenon, as different factors can play their respective roles in building the tension.<ref>{{cite journal | last = salin | first = denise | title = ways of explaining workplace bullying: a review of enabling, motivating and precipitating structures and processes in the work environment | journal = [[human relations (journal)|human relations]] | volume = 56 | issue = 10 | pages = 1213–1232 | doi = 10.1177/00187267035610003 | date = october 2003 | hdl = 10227/283 | hdl-access = free }}</ref> despite this plethora of arguments, zapf addresses that academic analysis of the cause is difficult.<ref name=\"zapf\" /> getting the perspective of perpetrators and potential bystanders is unrealistic, and therefore the studies are primarily focused on victims' interviews.<ref name=\"zapf\" />\n",
      "\n",
      "===victims===\n",
      "the victims of workplace harassment can be separated into three categories, based on gender, sexuality, and race.\n",
      "while one group experiences workplace harassment more frequently than others, workplace harassment still affects wide range of population.\n",
      "====gender====\n",
      "both men and women are victims of workplace harassment.\n",
      "workplace harassment for women dates back to women's first foray into the workforce, as early as colonial times.\n",
      "the most common form of workplace harassment that women face is sexual harassment.<ref name=\"fitzgerald\" /> according to fitzgerald, one of every two women experiences workplace harassment in their working or academic lives.<ref name=\"fitzgerald\" /> the most common form of sexual harassment is the unwanted and unavoidable sexual attention from co-workers.<ref name=\"fitzgerald\" /> a study of government employees shows the inescapable, uncomfortable sexual attention takes varying forms.<ref name=\"fitzgerald\" /> 33% of respondents had been called by sexual remarks, 26% of respondents faced physical touching, and 15% respondents were pressured to go on a date.<ref name=\"fitzgerald\" /> the more explicit forms of sexual harassment are shown by court cases, such as [[meritor savings bank v. vinson|meritor v. vinson]] (1986), robinson v. jacksonville shipyards (1991), and others.<ref name=\"fitzgerald\" /> in meritor v. vinson, \"michele vinson, an employee of meritor savings bank, was forced to have sex with her boss between 40 and 50 times.\n",
      "\"<ref name=\"fitzgerald\" /> the boss harassed her by fondling her in public, following her to the bathroom, and frequently raping her.<ref name=\"fitzgerald\" /> in robinson v. jacksonville shipyards, robinson requested to put down the pornographic materials in jacksonville shipyard workplace.\n",
      "the pornographic material included \"a pinup showing a meat spatula pressed against a woman's pubic area and another featuring a nude woman holding a whip.\n",
      "\"<ref name=\"fitzgerald\" />\n",
      "\n",
      "while workplace harassment against women has been a frequent subject of study for more than 20 years, workplace harassment against men rarely receives attention and is not subjected to many studies.<ref name=\"lee\">{{cite journal | last = lee | first = deborah | title = hegemonic masculinity and male feminisation: the sexual harassment of men at work | journal = [[journal of gender studies]] | volume = 9 | issue = 2 | pages = 141–155 | doi = 10.1080/713677986 | date = july 2000 }}</ref> however, the bureau of justice statistics shows that \"among people victimized while working or on duty, male victims outnumbered females by about 2 to 1.\n",
      "\"<ref name=\"warchol\">{{citation | last = warchol | first = greg | contribution = victim characteristics | editor-last = warchol | editor-first = greg | title = special report: national crime victimization survey: workplace violence, 1992-96 | page = 2 | url = http://www.bjs.gov/content/pub/pdf/wv96.pdf | publisher = [[bureau of justice statistics]] | date = july 1998 | id = ncj 168634 | postscript = .\n",
      "}}</ref>  men experience less workplace sexual harassment than women, as only 16.7% of men reported rape/sexual assault, but men face more workplace violence.<ref name=\"warchol\" /> 72% of men were robbed in their workplace, 74.4% of men experienced aggravated assault, and 66.1% of men experienced simple assault.<ref name=\"warchol\" />\n",
      "\n",
      "====sexuality====\n",
      "the williams institute 2011 study shows that \"in the american workforce, more than eight million people (or 4 percent of the u.s. workforce) identify as [[lgbt|lesbian, gay, bisexual, or transgender]] (lgbt).\n",
      "\"<ref name=\"pizer\">{{cite journal | last1 = pizer | first1 = jennifer c. | last2 = sears | first2 = brad | last3 = mallory | first3 = christy | last4 = hunter | first4 = nan d. | title = evidence of persistent and pervasive workplace discrimination against lgbt people: the need for federal legislation prohibiting discrimination and providing for equal employment benefits | journal = [[loyola of los angeles law review]] | volume = 45 | issue = 3 | pages = 715–779 | date = spring 2012 | url = http://digitalcommons.lmu.edu/llr/vol45/iss3/3/ }} [http://digitalcommons.lmu.edu/cgi/viewcontent.cgi?article=2796&context=llr pdf.\n",
      "]</ref> even so, the lgbt group has faced constant discrimination and harassment in workplaces, as shown by court cases and historical events.<ref name=\"pizer\" /> one common form of workplace harassment for lgbt community is the psychological and physical strain in hiding their sexuality in a heterosexist workplace environment.<ref name=\"probst\">{{citation | last1 = probst | first1 = tahira m. | last2 = estrada | first2 = armando x.\n",
      "| last3 = brown |first3=jeremiah w. | contribution = harassment, violence and hate crimes in the workplace | editor-last = thomas | editor-first = kecia m. | title = diversity resistance in organizations | pages = 93–125 | publisher = lawrence erlbaum associates | year = 2008 | series = series in applied psychology | isbn = 9780805859638 | postscript = .\n",
      "}}</ref> other form of workplace harassment is direct harassment from the public after disclosing one's sexuality.<ref name=\"probst\" /> because an lgbt individual experiences explicit verbal assault, physical violence, and hate crimes after disclosing sexuality, the lgbt community more often than not conceals its sexuality in workplaces.<ref name=\"probst\" />\n",
      "\n",
      "====race====\n",
      "many studies show that culturally stigmatized groups face more workplace harassments.<ref name=\"deitch\">{{cite journal | last1 = deitch | first1 = elizabeth a.\n",
      "| last2 = barsky | first2 = adam | last3 = butz | first3 = rebecca m. | last4 = chan | first4 = suzanne | last5 = brief | first5 = arthur p. | last6 = bradley | first6 = jill c. | title = subtle yet significant: the existence and impact of everyday racial discrimination in the workplace | journal = [[human relations (journal)|human relations]] | volume = 56 | issue = 11 | pages = 1299–1324 | doi = 10.1177/00187267035611002 | date = november 2003 }}</ref> with changes in the political and social scenes in america, subtle and daily harassment is more common than blatant and explicit harassment today.<ref name=\"deitch\" /> a study by deitch, barsky, butz and et al.\n",
      "shows that black americans face more mistreatment in workplaces than white americans.<ref name=\"deitch\" /> the mistreatments and harassments do not explicitly \"reference race or discrimination as the cause of the treatment\", because overt racism is prohibited in workplaces.<ref name=\"deitch\" /> however, the statistics show race is \"significantly associated with mistreatment\" and that black americans in general report significantly more \"minor, pervasive mistreatment and unfairness on the job.\n",
      "\"<ref name=\"deitch\" /> the study suggests the discrimination and harassments may intensify for black americans in a job with fewer people of the same race, such as \"token\" black employee or \"solo\" employees.<ref name=\"deitch\" /> in addition, not only blacks but also asian americans, and other minority races all face \"a higher rate of homicide than their proportion of the work force would suggest.\n",
      "\"<ref name=\"toscano\">{{citation | last1 = toscano | first1 = guy | last2 = weber | first2 = william | contribution = homicides at work | editor-last1 = toscano | editor-first1 = guy | editor-last2 = weber | editor-first2 = william | title = violence in the workplace | page = 45 | url = http://www.bls.gov/iif/oshwc/cfar0005.txt | publisher = [[bureau of labor statistics]], [[united states department of labor|u.s.\n",
      "dept.\n",
      "of labor]] | date = 1995 | postscript = .}}\n",
      "[http://www.bls.gov/iif/oshwc/cfar0005.pdf pdf.\n",
      "]</ref> of the eighth of the workforce experiencing homicide, more than a fourth of the population is an ethnic minority.<ref name=\"toscano\" />\n",
      "\n",
      "===impacts===\n",
      "\n",
      "====[[alcoholism]]====\n",
      "the intensity of workplace harassment is positively correlated with the level of alcohol use.<ref name=\"richman\">{{cite journal | last1 = richman | first1 = judith a.\n",
      "| last2 = rospenda | first2 = kathleen m. | last3 = flaherty | first3 = joseph a.\n",
      "| last4 = freels | first4 = sally | title = workplace harassment, active coping, and alcohol-related outcomes | journal = journal of substance abuse | volume = 13 | issue = 3 | pages = 347–366 | doi = 10.1016/s0899-3289(01)00079-7 | pmid = 11693457 | date = october 2001 }}</ref> one of the motives that people drink is \"to self-medicate distressful feelings resulting from problematic social conditions\".<ref name=\"richman\" /> thus, the negative social distress faced in workplaces is linked with increased consumption of alcohol.<ref name=\"richman\" /> moreover, because workplace harassment cannot be clearly delineated like sexual or racial harassment, victims do not counteract by legal and institution responses.<ref name=\"richman\" /> rather, they rely on drinking to cope with the emotional distress.<ref name=\"richman\" />\n",
      "\n",
      "nolen-hoeksema and harrell's 2002 study shows that while both women and men are at risk of alcoholism under workplace harassment, men are more likely to cope by drinking than women do, as women use their relatively wider social connections to attain the emotional support.<ref name=\"rospenda\">{{cite journal | last1 = rospenda | first1 = kathleen m. | last2 = fujishiro | first2 = kaori | last3 = shannon | first3 = candice a.\n",
      "| last4 = richman | first4 = judith a.\n",
      "| title = workplace harassment, stress, and drinking behavior over time: gender differences in a national sample | journal = [[addictive behaviors]] | volume = 33 | issue = 7 | pages = 964–967 | doi = 10.1016/j.addbeh.2008.02.009 | pmc = 2442899 | date = july 2008 | pmid=18384975}}</ref> however, a 2004 survey of a random sample of employees at a heavy machinery assembly plant shows that women are more sensitive and receptive of workplace harassment, and therefore women have \"a greater propensity to drink\".<ref name=\"svare\">{{cite journal | last1 = messick svare | first1 = gloria | last2 = miller | first2 = leonard | last3 = ames | first3 = genevieve | title = social climate and workplace drinking among women in a male-dominated occupation | journal = [[addictive behaviors]] | volume = 29 | issue = 8 | pages = 1691–1698 | doi = 10.1016/j.addbeh.2004.03.033 | pmid = 15451139 | date = november 2004 }}</ref> the negative drinking effects are more severe for women than they are for men.<ref name=\"rospenda\" />\n",
      "\n",
      "one mail survey that was completed at four points in time by a cohort of 1654 employees has shown that the positive correlation between consumption of drinking and levels of workplace harassment continues after retirement.<ref name=\":4\">{{cite journal | last1 = richman | first1 = judith a.\n",
      "| last2 = zlatoper | first2 = kenneth w. | last3 = zackula ehmke | first3 = jennifer l. | last4 = rospenda | first4 = kathleen m. | title = retirement and drinking outcomes: lingering effects of workplace stress?\n",
      "| journal = [[addictive behaviors]] | volume = 31 | issue = 5 | pages = 767–776 | doi = 10.1016/j.addbeh.2005.06.001 | pmid = 15994026 | date = may 2006 }}</ref> even when the immediate stressors are not present, the victims still retain the increased use of alcohol.<ref name=\":4\" /> the study attributes the reason for the lasting effect is that \"appropriate alcohol consumption may have functioned to somewhat inhibit the self-medication of stress-induced distress during work role occupancy\".<ref name=\":4\" />\n",
      "\n",
      "====ptsd====\n",
      "ptsd is commonly known as a \"war wound\", yet it also affects workers,<ref name=\":5\" /> \"when a worker suffers ptsd, the workplace for that person has become a war zone\".<ref name=\":5\">{{cite web | title = psychological-emotional-mental injuries | url = http://www.workplacebullying.org/individuals/impact/mental-health-harm/ | publisher = workplace bullying institute rss | access-date = april 28, 2015 }}</ref> several studies show that many workplace harassment victims experience [[posttraumatic stress disorder]] (ptsd).<ref name=\"mikkelsen\">{{cite journal | last1 = mikkelsen | first1 = eva gemzøe | last2 = einarsen | first2 = ståle | title = basic assumptions and symptoms of post-traumatic stress among victims of bullying at work | journal = [[european journal of work and organizational psychology]] | volume = 11 | issue = 1 | pages = 87–111 | doi = 10.1080/13594320143000861 | date = march 2002 }}</ref> for example, a study that interviewed about 100 victims of workplace harassment shows that \"a majority of the respondents exceed recommended threshold-values indicating ptsd\".<ref name=\"matthiesen\">{{cite journal | last1 = matthiesen | first1 = stig berge | last2 = einarsen | first2 = ståle | title = psychiatric distress and symptoms of ptsd among victims of bullying at work | journal = british journal of guidance & counselling| volume = 32 | issue = 3 | pages = 335–356 | doi = 10.1080/03069880410001723558 | date = august 2004 }} [http://folk.uib.no/pspsm/documents/bullying-ptsd-2004-matthiesen-einarsen.pdf pdf.\n",
      "]</ref> the study also demonstrate that based on the duration and persistency of the workplace harassment, the levels of ptsd differ.<ref name=\"matthiesen\" /> the more recent and frequent the workplace harassment occurred, the more severe their symptoms of ptsd were.<ref name=\"matthiesen\" />\n",
      "\n",
      "a study by mikklesen and einarsen also reports that 76 percent of its respondents experienced ptsd.<ref name=\"mikkelsen\" /> nevertheless, mikklesen and einarsen qualify the idea that workplace harassment directly leads to ptsd.<ref name=\"mikkelsen\" /> they argue that the causes of ptsd symptoms of the victims are primarily attributed to other traumatic events rather than the workplace harassment itself.<ref name=\"mikkelsen\" /> therefore, the study concludes the \"exposure to other traumatic life events may increase victims' vulnerability\" to their sensitivity to workplace harassment.<ref name=\"mikkelsen\" />\n",
      "\n",
      "==== other psychological effects ====\n",
      "other than alcoholism and ptsd, victims of workplace harassment also experience other negative psychological effects.<ref name=\":0\">{{cite journal | last1 = lewis | first1 = jacqueline | last2 = coursol | first2 = diane | last3 = wahl | first3 = kay herting | title = addressing issues of workplace harassment: counseling the targets | journal = [[journal of employment counseling]] | volume = 39 | issue = 3 | pages = 109–116 | doi = 10.1002/j.2161-1920.2002.tb00842.x | date = march 2001 }} [http://www.workplaceviolence911.com/sites/workplaceviolence911.com/files/20021202-04_1.htm text.\n",
      "]</ref> an analysis of self-reported health symptoms, and physiological stress reactivity of 437 employees shows that compared to the employees who have not experienced workplace harassment, employees who have experienced exhibited higher level of anxiety and nervousness.<ref>{{cite journal | last1 = hansen | first1 = åse marie | last2 = hogh | first2 = annie | last3 = persson | first3 = roger | last4 = karlson | first4 = björn | last5 = garde | first5 = anne helene | last6 = ørbæk | first6 = palle | title = bullying at work, health outcomes, and physiological stress response | journal = [[journal of psychosomatic research]] | volume = 60 | issue = 1 | pages = 63–72 | doi = 10.1016/j.jpsychores.2005.06.078 | pmid = 16380312 | date = january 2006 }}</ref> another study's survey of 156 victims of workplace harassment shows that 79.4 percent of respondents suffer from stress, 64.7 percent from depressive symptoms, 64 percent from tiredness, 59 percent from lack of confidence, 58 percent from humiliation and guilt, and 58 percent from nightmares.<ref name=\":0\" />\n",
      "\n",
      "=== preventions ===\n",
      "\n",
      "==== title vii ====\n",
      "[[civil rights act of 1964|title vii of the civil rights act of 1964]] is used as a tool to eradicate workplace harassment.<ref>{{cite journal | last = anderson | first = katherine s. | title = employer liability under title vii for sexual harassment after ''meritor savings bank v. vinson'' | journal = [[columbia law review]] | volume = 87 | issue = 6 | pages = 1258–1279 | doi = 10.2307/1122590 | jstor = 1122590 | date = october 1987 }}</ref> title vii lists the following actions of employers unlawful:<blockquote>\"(1) to fail or refuse to hire or to discharge any individual, or otherwise to discriminate against any individual with respect to [her or] his compensation, terms, conditions, or privileges of employment, because of such individual's race, color, religion, sex, or national origin; or (2) to limit, segregate, or classify [her or] his employees discrimination based on race, color, religion, sex and national origin … in any way which would deprive... any individual of employment opportunities or otherwise adversely affect [her or] his status as an employee, because of such individual's race, color, religion, sex, or national origin.\n",
      "\"<ref>{{cite journal | last = u.s. code | author-link = united states code | title = title 42 chapter 21 subchapter vi u.s. code § 2000e–2 - unlawful employment practices | journal = [[legal information institute]] | url = https://www.law.cornell.edu/uscode/text/42/2000e-2 }}</ref></blockquote>\"most courts consider it consistent with the intent of congress to interpret the act liberally, and therefore, coverage under title vii is very broad\".<ref name=\":1\">{{cite journal | last = faley | first = robert h. | title = sexual harassment: critical review of legal cases with general principles and preventive measures | journal = personnel psychology | volume = 35 | issue = 3 | pages = 583–600 | doi = 10.1111/j.1744-6570.1982.tb02211.x | date = september 1982 }}</ref> this allows victims of workplace harassment primarily use title vii to assert their legal actions.<ref name=\":1\" /> in addition, the [[equal employment opportunity commission]] (eeoc), a governmental committee that prohibits discrimination in workplace, administers the practices and violations of title vii.<ref name=\":1\" /> it issued and amended the \"guidelines on discrimination of sex\", a more specified interpretation of title vii.<ref name=\":1\" />\n",
      "\n",
      "==== court cases ====\n",
      "\n",
      "===== ''meritor savings bank vs. vinson'' =====\n",
      "while an employee with meritor savings bank, mechelle vinson claimed that she had been sexually harassed and raped by the vice president of the bank, sidney taylor, for four years starting her first day of employment  .<ref name=\":2\">{{cite journal | last = westman | first = bonnie | title = the reasonable woman standard: preventing sexual harassment in the workplace | journal = [[william mitchell college of law|william mitchell law review]] | volume = 18 | issue = 3 | pages = 795–827 | date = summer 1992 | url = http://heinonline.org/hol/landingpage?handle=hein.journals/wmitch18&div=45&id=&page= }} [http://open.wmitchell.edu/cgi/viewcontent.cgi?article=2295&context=wmlr pdf.\n",
      "]</ref> however, she did not address to taylor or higher authority, because she was afraid of dismissal.<ref name=\":2\" /> ''[[meritor savings bank v. vinson|meritor savings bank vs. vinson]]'' case ruled that hostile environment is considered a violation of title vii.<ref name=\":2\" /> this decision \"legitimized this area of the law for complainants and, for the first time, put employers on notice that unwelcome sexual conduct will not be tolerated in the workplace.\n",
      "\"<ref name=\":2\" /> this court case also added that violation of title vii does not have to be \"tangible\" and \"economic\".<ref name=\":2\" />\n",
      "\n",
      "===== ''robinson v. jacksonville shipyards, inc.'' =====\n",
      "[[file:moodyshipyardfl.jpg|thumb|shipyard in jacksonville]]\n",
      "robinson, as one of the few female employees at the jacksonville shipyard, filed a sexual harassment report against jacksonville shipyard.<ref name=\":3\">{{cite journal | last = strossen | first = nadine | title = regulating workplace sexual harassment and upholding the first amendment - avoiding a collision | journal = [[villanova university school of law#publications|villanova law review]] | volume = 37 | issue = 4 | pages = 757–785 | date = 1992 | url = http://digitalcommons.law.villanova.edu/vlr/vol37/iss4/3/ }} [http://digitalcommons.law.villanova.edu/cgi/viewcontent.cgi?article=2783&context=vlr pdf.\n",
      "]</ref> she attested that all of the pornographic images and remarks objectified her.<ref name=\":3\" /> this case received high media attention, as the [[american civil liberties union|aclu]] of florida and aclu of women's rights project defended different parties.<ref name=\":3\" /> aclu of florida primarily held the free speech principles, while in contrast, aclu women's rights project addressed the equality principle.<ref name=\":3\" /> they openly disagreed and showed \"disagreement among civil libertarians on how to apply free speech- and equality principles to the facts at issue in a workplace sexual harassment case.\n",
      "\"<ref name=\":3\" /> the district court upheld the aclu women's rights project's side, as \"the district court did not undertake the proper inquiry in determining liability.<ref name=\":3\" /> instead, the district court proceeded from the erroneous assumption that expression can constitute harassment merely because an employee finds it offensive.\n",
      "\"<ref name=\":3\" />\n",
      "==quotes==\n",
      "“beauty provokes harassment, the law says, but it looks through men's eyes when deciding what provokes it.”\n",
      "“the liberal idea of tolerance is more and more a kind of intolerance.\n",
      "what it means is 'leave me alone; don't harass me; i'm intolerant towards your over-proximity.”\n",
      "?\n",
      "slavoj žižek\n",
      "“when a storm of harassment disturbs our thinking and brings us down to our knees, the umbrella of our imagination can shield us against destructive aggression.\n",
      "it is offering shelter and is teaching us how to conquer ourselves, train our resilience, and grit our teeth.\n",
      "we better learn to adopt the virtue of endurance, as life consists of both ‘passion’ and ‘patience.’ (\"the umbrella\")”\n",
      "?\n",
      "erik pevernagie\n",
      "== in singapore ==\n",
      "in an informal survey among 50 employees in singapore, 82% said they had experienced toxicity from their direct superior or colleagues in their careers, with some 33.3% experiencing it on a daily basis.\n",
      "some of the other reports was failing to agree with the boss was considered being a trouble maker, always having to give praise to the superior, the senior colleague has a tendency to shout at people.\n",
      "many respondents reported that they had to quit because of the toxic environment.\n",
      "in some cases they were made to feel they were at fault, which is why they quit <ref>{{cite web|date=2020-01-21|title=toxic workplace cultures in singapore: are they more common than we realise?|url=https://www.ricemedia.co/current-affairs-opinion-toxic-workplace-culture-singapore/|access-date=2020-10-19|website=rice|language=en-gb}}</ref> in other surveys, it is clear that the company is aware but does nothing, such as where a singapore economist at a us bank is involved.<ref>{{cite web|last=chan|first=melissa|date=2018-04-30|title=5 s'poreans on working for bosses from hell - \"he cut my salary by $1,000 because he felt like it\"|url=https://vulcanpost.com/638932/singapore-workplace-bullying-experiences/|access-date=2020-10-19|website=vulcan post|language=en-us}}</ref> a kantar survey in 2019 suggested that employees in singapore were the most likely to be made to \"feel uncomfortable\" by their employers, compared with those in the other countries that the company polled.<ref>{{cite web|title=is workplace bullying the norm in singapore?|url=https://theaseanpost.com/article/workplace-bullying-norm-singapore|access-date=2020-10-19|website=the asean post|language=en}}</ref>\n",
      "\n",
      "==see also==\n",
      "{{columns-list|colwidth=30em|\n",
      "* [[harassment in the united kingdom]]\n",
      "* [[hostile work environment]]\n",
      "* [[industrial and organizational psychology]]\n",
      "* ''[[majrowski v guy's and st thomas' nhs trust]]''\n",
      "* [[meritor savings bank v. vinson]]\n",
      "* [[protection from harassment act 1997]]\n",
      "* [[reeves v. c.h.\n",
      "robinson worldwide, inc.]]\n",
      "* [[workplace incivility]]\n",
      "* [[workplace aggression]]\n",
      "* [[workplace bullying]]\n",
      "}}\n",
      "\n",
      "== further reading ==\n",
      "* {{cite book | last1 = boland | first1 = mary l. | title = sexual harassment in the workplace | publisher = sphinxlegal | isbn = 9781572485273 | date = 2005 | url-access = registration | url = https://archive.org/details/sexualharassment00bola }} [https://books.google.com/books?id=6gutul81yc8c&printsec=frontcover preview.]\n",
      "* {{cite book | last1 = einarsen | first1 = ståle | last2 = hoel | first2 = helge | last3 = zapf | first3 = dieter | last4 = cooper | first4 = cary  |title=bullying and harassment in the workplace: developments in theory, research, and practice | edition = 2nd | publisher = [[crc press]] | isbn = 9781439804902 |date=2010}} [https://books.google.com/books?id=h8qyxahmhuac&printsec=frontcover preview.]\n",
      "* {{cite journal | last1 = nielsen | first1 = morten birkeland | last2 = tangen | first2 = tone | last3 = idsoe | first3 = thormod | last4 = matthiesen | first4 = stig berge | last5 = magerøy | first5 = nils | title = post-traumatic stress disorder as a consequence of bullying at work and at school.\n",
      "a literature review and meta-analysis | journal = [[aggression and violent behavior]] | volume = 21 | pages = 17–24 | doi = 10.1016/j.avb.2015.01.001 | date = march–april 2015 | doi-access = free }}\n",
      "\n",
      "== references ==\n",
      "{{reflist|30em}}\n",
      "\n",
      "{{employment}}\n",
      "{{workplace}}\n",
      "\n",
      "[[category:workplace]]\n",
      "[[category:harassment]]\n",
      "[[category:workplace bullying]]\n"
     ]
    }
   ],
   "source": [
    "print(\"printing lists in new line\") \n",
    "  \n",
    "print(*sent_tokens, sep = \"\\n\")"
   ]
  },
  {
   "cell_type": "code",
   "execution_count": 21,
   "metadata": {},
   "outputs": [
    {
     "name": "stdout",
     "output_type": "stream",
     "text": [
      "[\"'\", \"''\", 'workplace', 'harassment', \"''\", \"'\", 'is', 'the', 'belittling', 'or', 'threatening', 'behavior', 'directed', 'at', 'an', 'individual', 'worker', 'or', 'a', 'group', 'of', 'workers', '<', 'ref', 'name=', \"''\", 'williams_helen', \"''\", '>', '{', '{', 'cite', 'web', '|', 'last', '=', 'williams', '|', 'first', '=', 'helen', '|', 'title', '=', 'maintaining', 'a', 'harassment-free', 'workplace', ':', 'apc', '|', 'url', '=', 'http', ':', '//www.apsc.gov.au/publications01/harassment.htm', '|', 'archive-url', '=', 'https', ':', '//web.archive.org/web/20120328034350/http', ':', '//apsc.gov.au/publications01/harassment.htm', '|', 'website', '=', 'apsc.gov.au', '|', 'publisher', '=', '[', '[', 'australian', 'public', 'service', 'commission', ']', ']', '|', 'date', '=', '8', 'february', '2001', '|', 'archive-date', '=', '28', 'march', '2012', '}', '}', '<', '/ref', '>', 'recently', ',', 'matters', 'of', '[', '[', 'workplace', ']', ']', '[', '[', 'harassment', ']', ']', 'have', 'gained', 'interest', 'among', 'practitioners', 'and', 'researchers', 'as', 'it', 'is', 'becoming', 'one', 'of', 'the', 'most', 'sensitive', 'areas', 'of', 'effective', 'workplace', 'management', ',', 'because', 'a', 'significant', 'source', 'of', 'work', '[', '[', 'stress', '(', 'psychological', ')', '|stress', ']', ']', 'is', 'associated', 'with', 'aggressive', 'behaviors', 'at', 'workplace.', '<', 'ref', '>', '{', '{', 'cite', 'journal|last=tehrani|first=noreen|date=august', '2004|title=bullying', ':', 'a', 'source', 'of', 'chronic', 'post', 'traumatic', 'stress', '?', '|journal=british', 'journal', 'of', 'guidance', '&', 'counselling|volume=32|issue=3|pages=357–366|doi=10.1080/03069880410001727567', '}', '}', '<', '/ref', '>', 'in', 'asian', 'countries', ',', 'workplace', 'harassment', 'is', 'one', 'of', 'the', 'poorly', 'attended', 'issues', 'by', 'managers', 'in', 'organizations.', '<', 'ref', 'name=rokon', '>', '{', '{', 'cite', 'journal', '|', 'last1', '=', 'rokonuzzaman', '|', 'first1', '=', 'md', '.', '|', 'last2', '=', 'rahman', '|', 'first2', '=', 'm', 'm', '|', 'title', '=', 'workplace', 'harassment', 'and', 'productivity', ':', 'a', 'comprehensive', 'role', 'of', 'strategic', 'leadership', '|', 'journal', '=', 'journal', 'of', 'general', 'education', '|', 'volume', '=', '1', '|', 'issue', '=', 'dec', '|', 'pages', '=', '41–50', '|', 'date', '=', '2011', '}', '}', 'issn', ':', '2223-4543', '.', '[', 'https', ':', '//www.researchgate.net/publication/299594576', 'pdf', ']', '<', '/ref', '>', 'however', ',', 'it', 'attracted', 'much', 'attention', 'from', 'researchers', 'and', 'governments', 'since', 'the', '1980s', '.', 'under', '[', '[', 'occupational', 'health', 'and', 'safety', ']', ']', 'laws', 'around', 'the', 'world', ',', '<', 'ref', '>', 'concha-barrientos', ',', 'm.', ',', 'imel', ',', 'n.d.', ',', 'driscoll', ',', 't.', ',', 'steenland', ',', 'n.k.', ',', 'punnett', ',', 'l.', ',', 'fingerhut', ',', 'm.a.', ',', 'prüss-üstün', ',', 'a.', ',', 'leigh', ',', 'j.', ',', 'tak', ',', 's.w.', ',', 'corvalàn', ',', 'c.', '(', '2004', ')', '.', 'selected', 'occupational', 'risk', 'factors', '.', 'in', 'm.', 'ezzati', ',', 'a.d.', 'lopez', ',', 'a.', 'rodgers', '&', 'c.j.l', '.', 'murray', '(', 'eds', '.', ')', ',', 'comparative', 'quantification', 'of', 'health', 'risks', '.', 'geneva', ':', 'world', 'health', 'organization.', '<', '/ref', '>', 'workplace', 'harassment', 'and', '[', '[', 'workplace', 'bullying', ']', ']', 'are', 'identified', 'as', 'being', 'core', 'psychosocial', 'hazards.', '<', 'ref', '>', '{', '{', 'citation|last=productivity', 'commission', '|author-link=productivity', 'commission', '|contribution=psychosocial', 'hazards', '|editor-last=productivity', 'commission', '|editor-link=productivity', 'commission', '|title=performance', 'benchmarking', 'of', 'australian', 'business', 'regulation', ':', 'occupational', 'health', 'and', 'safety', '|publisher=', '[', '[', 'government', 'of', 'australia', ']', ']', '|url=http', ':', '//www.pc.gov.au/__data/assets/pdf_file/0003/96177/13-chapter11.pdf', '|url-status=dead', '|archive-url=https', ':', '//web.archive.org/web/20140307073447/http', ':', '//www.pc.gov.au/__data/assets/pdf_file/0003/96177/13-chapter11.pdf', '|archive-date=march', '7', ',', '2014', '}', '}', '<', '/ref', '>', '``', \"'overbearing\", 'supervision', \"''\", \"'\", ',', '``', \"'constant\", 'criticism', \"''\", \"'\", ',', 'and', 'blocking', 'promotions', 'are', 'all', 'considered', 'workplace', 'harassment.', '<', 'ref', '>', '{', '{', 'cite', 'news|url=https', ':', '//www.theguardian.com/careers/2017/mar/29/bullying-at-work-your-legal-rights|title=bullying', 'at', 'work', ':', 'your', 'legal', 'rights|last=landau|first=philip|date=2017-03-29|newspaper=the', 'guardian|language=en|access-date=2018-10-08', '}', '}', '<', '/ref', '>', '==definition==', 'workplace', 'harassment', 'is', 'also', 'known', 'by', 'many', 'other', 'names', '.', '``', 'mobbing', \"''\", ',', '``', '[', '[', 'workplace', 'bullying', ']', ']', \"''\", ',', '``', 'workplace', 'mistreatment', \"''\", ',', '``', '[', '[', 'workplace', 'aggression', ']', ']', \"''\", ',', '``', 'workplace', 'molestation', \"''\", 'and', '``', 'workplace', 'abuse', \"''\", 'are', 'all', 'either', 'synonymous', 'or', 'belong', 'to', 'the', 'category', 'of', 'workplace', 'harassment.', '<', 'ref', '>', '{', '{', 'cite', 'journal', '|', 'last1', '=', 'lewis', '|', 'first1', '=', 'jacqueline', '|', 'last2', '=', 'coursol', '|', 'first2', '=', 'diane', '|', 'last3', '=', 'wahl', '|', 'first3', '=', 'kay', 'herting', '|', 'title', '=', 'addressing', 'issues', 'of', 'workplace', 'harassment', ':', 'counseling', 'the', 'targets', '|', 'journal', '=', '[', '[', 'journal', 'of', 'employment', 'counseling', ']', ']', '|', 'volume', '=', '39', '|', 'issue', '=', '3', '|', 'pages', '=', '109–116', '|', 'doi', '=', '10.1002/j.2161-1920.2002.tb00842.x', '|', 'date', '=', 'september', '2002', '}', '}', '[', 'http', ':', '//www.workplaceviolence911.com/sites/workplaceviolence911.com/files/20021202-04_1.htm', 'text', '.', ']', '<', '/ref', '>', 'workplace', 'harassment', 'includes', 'different', 'types', 'of', 'discrimination', 'and', 'acts', 'of', 'violation', 'that', 'are', 'not', 'confined', 'to', 'one', 'specific', 'group', '.', 'the', 'wide-ranging', 'types', 'of', 'workplace', 'harassment', 'can', 'be', 'loosely', 'categorized', 'into', 'emotional', 'and', 'physical', 'abuse', '.', 'all', 'of', 'these', 'forms', 'of', 'workplace', 'harassment', 'target', 'various', 'groups', ',', 'including', 'women', ',', 'racial', 'minorities', ',', 'homosexuals', ',', 'people', 'with', 'disabilities', 'and', 'immigrants', '.', 'in', 'essence', ',', 'workplace', 'harassment', 'requires', 'a', 'pluralistic', 'understanding', ',', 'because', 'it', 'can', 'not', 'be', 'delineated', 'in', 'one', 'coherent', 'and', 'concrete', 'definition.', '<', 'ref', 'name=', \"''\", 'brooks', \"''\", '>', '{', '{', 'cite', 'journal', '|', 'last', '=', 'brooks', '|', 'first', '=', 'rosa', 'ehrenreich', '|', 'title', '=', 'dignity', 'and', 'discrimination', ':', 'toward', 'a', 'pluralistic', 'understanding', 'of', 'workplace', 'harassment', '|', 'journal', '=', '[', '[', 'georgetown', 'law', 'journal', ']', ']', '|', 'volume', '=', '88', '|', 'issue', '=', '1', '|', 'pages', '=', '14–20', '|', 'date', '=', '1999', '|', 'url', '=', 'http', ':', '//scholarship.law.georgetown.edu/facpub/1134/', '}', '}', '[', 'http', ':', '//scholarship.law.georgetown.edu/cgi/viewcontent.cgi', '?', 'article=2143', '&', 'context=facpub', 'pdf', '.', ']', '<', '/ref', '>', 'acknowledging', 'the', 'difficulty', 'of', 'formulating', 'a', 'universal', 'definition', 'of', 'workplace', 'harassment', ',', 'ezer', 'broadly', 'defines', 'workplace', 'harassment', 'as', '``', 'irrational', 'repeated', 'behavior', 'towards', 'an', 'employee', 'or', 'group', 'of', 'employees', ',', 'which', 'represents', 'a', 'health', 'and', 'security', 'risk.', '<', 'ref', 'name=', \"''\", 'ezer', \"''\", '>', '{', '{', 'cite', 'journal', '|', 'last1', '=', 'ezer', '|', 'first1', '=', 'marius', '|', 'last2', '=', 'ezer', '|', 'first2', '=', 'oana', 'florentina', '|', 'title', '=', 'workplace', 'harassment', ',', 'mobbing', 'phenomenon', '|', 'journal', '=', 'perspectives', 'of', 'business', 'law', 'journal', '|', 'volume', '=', '1', '|', 'issue', '=', '1', '|', 'pages', '=', '298–304', '|', 'date', '=', 'november', '2012', '|', 'url', '=', 'http', ':', '//www.businesslawconference.ro/revista/anul1nr1.html', '}', '}', '[', 'http', ':', '//www.businesslawconference.ro/revista/articole/an1nr1/33', '%', '20marius', '%', '20ezer', '%', '20si', '%', '20oana', '%', '20ezer', '%', '20eng.pdf', 'pdf', '.', ']', '<', '/ref', '>', 'any', 'act', 'of', 'discrimination', 'or', 'assault', 'that', 'systematically', 'disadvantage', 'the', 'employees', 'is', 'considered', 'workplace', 'harassment.', '<', 'ref', 'name=', \"''\", 'ezer', \"''\", '/', '>', 'workplace', 'harassment', 'can', 'contribute', 'to', 'deterioration', 'of', 'physical', 'and', 'emotional', 'health.', '<', 'ref', 'name=', \"''\", 'ezer', \"''\", '/', '>', 'according', 'to', 'rosa', 'brook', ',', 'the', 'concept', 'of', 'workplace', 'harassment', 'is', 'based', 'on', 'two', 'premises.', '<', 'ref', 'name=', \"''\", 'brooks', \"''\", '/', '>', 'firstly', ',', 'regardless', 'of', 'gender', ',', 'race', ',', 'sexuality', 'or', 'any', 'other', 'defining', 'characteristic', ',', 'every', 'person', 'should', 'be', 'given', 'the', 'right', 'to', 'be', '``', 'free', 'from', 'abusive', 'treatment', 'in', 'the', 'workplace', \"''\", '.', '<', 'ref', 'name=', \"''\", 'brooks', \"''\", '/', '>', 'with', 'freedom', 'from', 'abuse', 'given', 'as', 'a', 'basic', 'human', 'right', ',', 'any', 'form', 'of', 'discomfort', 'or', 'discrimination', 'in', 'workplace', 'becomes', 'labeled', 'as', 'an', 'act', 'of', 'harassment.', '<', 'ref', 'name=', \"''\", 'brooks', \"''\", '/', '>', 'secondly', ',', 'the', 'issues', 'caused', 'by', 'workplace', 'harassment', 'affect', 'the', 'victims', 'in', 'harmful', 'ways', '.', 'discrimination', 'in', 'the', 'workplace', 'hinders', 'victims', 'from', 'successful', 'advancement', 'in', 'their', 'careers', ',', 'limiting', 'the', 'capabilities', 'of', 'the', 'victim.', '<', 'ref', 'name=', \"''\", 'brooks', \"''\", '/', '>', 'a', 'common', 'misconception', 'about', 'workplace', 'harassment', 'is', 'that', 'workplace', 'harassment', 'is', 'simply', '[', '[', 'sexual', 'harassment', ']', ']', 'in', 'the', 'context', 'of', 'a', 'workplace.', '<', 'ref', 'name=', \"''\", 'dol', \"''\", '>', '{', '{', 'cite', 'web', '|', 'last', '=', 'u.s.', 'department', 'of', 'labor', '|', 'author-link', '=', 'united', 'states', 'department', 'of', 'labor', '|', 'title', '=', 'what', 'do', 'i', 'need', 'to', 'know', 'about', '–', 'workplace', 'harassment', '|', 'url', '=', 'http', ':', '//www.dol.gov/oasam/programs/crc/2011-workplace-harassment.htm', '|', 'website', '=', 'dol.gov', '|', 'publisher', '=', '[', '[', 'federal', 'government', 'of', 'the', 'united', 'states|u.s', '.', 'federal', 'government', ']', ']', '|', 'access-date', '=', 'march', '17', ',', '2015', '}', '}', '<', '/ref', '>', 'while', 'sexual', 'harassment', 'is', 'a', 'prominent', 'form', 'of', 'workplace', 'harassment', ',', 'the', 'united', 'states', 'department', 'of', 'labor', 'defines', 'workplace', 'harassment', 'as', 'being', 'more', 'than', 'just', 'sexual', 'harassment.', '<', 'ref', 'name=dol', '/', '>', '``', 'it', 'may', 'entail', \"'\", '[', '[', 'quid', 'pro', 'quo|quid', 'pro', 'quo', \"'\", ']', ']', 'harassment', ',', 'which', 'occurs', 'in', 'cases', 'in', 'which', 'employment', 'decisions', 'or', 'treatment', 'are', 'based', 'on', 'submission', 'to', 'or', 'rejection', 'of', 'unwelcome', 'conduct', ',', 'typically', 'conduct', 'of', 'a', 'sexual', 'nature', '.', 'workplace', 'harassment', 'may', 'also', 'consist', 'of', 'offensive', 'conduct', 'based', 'on', 'one', 'or', 'more', 'of', 'the', 'protected', 'groups', 'above', 'that', 'is', 'so', 'severe', 'or', 'pervasive', 'that', 'it', 'creates', 'a', 'hostile', 'or', 'offensive', 'work', 'environment', 'or', 'when', 'it', 'results', 'in', 'an', 'adverse', 'employment', 'decision', '(', 'such', 'as', 'being', 'fired', 'or', 'demoted/reducing', 'salary', ')', '.', '``', '<', 'ref', 'name=', \"''\", 'dol', \"''\", '/', '>', 'thus', ',', 'workplace', 'harassment', 'is', 'a', 'bigger', 'category', 'that', 'encompasses', 'sexual', 'harassment', '.', '==in', 'the', 'united', 'states==', '===types===', 'the', 'varying', 'harassment', 'imposed', 'on', 'the', 'victims', 'can', 'be', 'categorized', 'into', 'two', 'different', 'types', ',', 'physical', 'abuse', 'and', 'emotional', 'abuse', '.', 'physical', 'abuse', 'refers', 'to', 'sexual', 'assault', 'and', 'violence', 'on', 'body', ',', 'while', 'emotional', 'abuse', 'refers', 'to', 'imposing', 'stress', 'and', 'bullying', '.', 'anderson', 'and', 'militello', 'found', 'that', 'often', 'managers', 'exhibiting', '[', '[', 'abusive', 'supervision|harassing', 'behavior', ']', ']', 'were', 'allowed', 'to', 'maintain', 'their', 'jobs', 'because', 'their', 'behavior', 'was', 'seen', 'to', 'increase', 'productivity', 'in', 'the', 'short', 'term', '.', 'a', 'study', 'done', 'by', 'kathleen', 'd.', 'ryan', 'and', 'daniel', 'k', 'oestereich', ',', '``', 'driving', 'fear', 'out', 'of', 'the', 'workplace', \"''\", ',', 'found', 'that', 'many', 'of', 'these', 'behaviors', 'can', 'range', 'from', 'subtle', 'emotional', 'cues', 'to', 'outward', 'physical', 'threats', 'and', 'can', 'include', ';', 'silence', ',', 'direct', 'insults', 'and', 'even', 'angry', 'outbursts', '.', 'whether', 'these', 'actions', 'are', 'intentional', 'or', 'brought', 'on', 'by', 'stress', ',', 'the', 'result', 'can', 'cause', 'the', 'employee', 'to', 'feel', 'humiliated', ',', 'isolated', 'and', 'may', 'cause', 'them', 'to', 'lash', 'out', 'at', 'others.', '<', 'ref', '>', '{', '{', 'citation', '|', 'last', '=', 'layden', '|', 'first', '=', 'dianne', 'r.', '|', 'contribution', '=', 'violence', ',', 'the', 'emotionally', 'enraged', 'employee', ',', 'and', 'the', 'workplace', ':', 'managerial', 'considerations', '|', 'editor-last1', '=', 'curry', '|', 'editor-first1', '=', 'renée', 'r.', '|', 'editor-last2', '=', 'allison', '|', 'editor-first2', '=', 'terry', 'l.', '|', 'title', '=', 'states', 'of', 'rage', ':', 'emotional', 'eruption', ',', 'violence', 'and', 'social', 'change', '|', 'pages', '=', '48–49', '|', 'publisher', '=', 'new', 'york', 'university', 'press', '|', 'location', '=', 'new', 'york', ',', 'new', 'york', '|', 'year', '=', '1996', '|', 'isbn', '=', '9780814715307', '|', 'postscript', '=', '.', '}', '}', '<', '/ref', '>', '====physical', 'harassment====', '[', '[', 'file', ':', 'anita', 'hill', 'at', 'harvard', 'law', 'school', 'sep', '2014.jpg|thumb|anita', 'hill', 'testified', 'her', 'charge', 'against', 'clarence', 'thomas', 'for', 'sexually', 'harassing', 'her', 'at', 'the', 'department', 'of', 'education', 'and', 'the', 'eeoc', '.', ']', ']', 'physical', 'harassment', 'in', 'the', 'workplace', 'takes', 'many', 'forms', '.', 'sexual', 'assault', 'is', 'one', 'form', 'of', 'widely', 'known', 'physical', 'harassment', '.', 'sexual', 'assault', 'in', 'the', 'workplace', 'has', 'gained', 'media', 'and', 'academic', 'attention', 'mainly', 'in', 'the', '1990s', 'after', 'a', 'series', 'of', 'famous', 'sex', 'scandals.', '<', 'ref', 'name=', \"''\", 'williams', \"''\", '>', '{', '{', 'cite', 'journal', '|', 'last1', '=', 'williams', '|', 'first1', '=', 'christine', 'l.', '|', 'last2', '=', 'giuffre', '|', 'first2', '=', 'patti', 'a', '.', '|', 'last3', '=', 'dellinger', '|', 'first3', '=', 'kirsten', '|', 'title', '=', 'sexuality', 'in', 'the', 'workplace', ':', 'organizational', 'control', ',', 'sexual', 'harassment', ',', 'and', 'the', 'pursuit', 'of', 'pleasure', '|', 'journal', '=', '[', '[', 'annual', 'review', 'of', 'sociology', ']', ']', '|', 'volume', '=', '25', '|', 'pages', '=', '73–93', '|', 'jstor', '=', '223498', '|', 'doi', '=', '10.1146/annurev.soc.25.1.73', '|', 'date', '=', '1999', '}', '}', '<', '/ref', '>', '``', 'among', 'the', 'most', 'notorious', 'are', 'the', '1991', 'congressional', 'hearings', 'on', 'the', 'alleged', 'sexual', 'harassment', 'of', '[', '[', 'anita', 'hill', ']', ']', 'by', 'clarence', 'thomas', ',', 'nominee', 'to', 'the', 'supreme', 'court', ';', 'the', 'sexual', 'assault', 'on', 'female', 'officers', 'at', 'a', 'party', 'during', 'the', '1991', 'annual', 'convention', 'of', 'navy', 'fighter', 'pilots', ';', 'the', 'dismissal', 'of', 'air', 'force', 'pilot', 'kelly', 'flinn', 'for', 'adultery', 'in', '1997', ';', 'the', '1998', 'trial', 'and', 'acquittal', 'of', 'the', 'top', 'ranking', 'army', 'enlisted', 'man', 'on', 'charges', 'of', 'sexual', 'harassment', ';', 'and', 'the', 'independent', 'counsel', 'investigations', 'of', 'president', 'clinton', \"'s\", 'sexual', 'affairs', 'with', 'subordinates', '.', '``', '<', 'ref', 'name=', \"''\", 'williams', \"''\", '/', '>', 'with', 'this', 'cascade', 'of', 'sex', 'scandals', ',', 'the', 'media', 'and', 'scholars', 'have', 'focused', 'on', 'developing', 'more', 'studies', 'on', 'sexual', 'harassment', 'in', 'workplaces', '.', 'sexual', 'assault', 'becomes', 'difficult', 'to', 'define', ',', 'as', 'the', 'distinction', 'between', 'sexual', 'harassment', 'and', 'consensual', 'sexual', 'behaviors', 'is', 'not', 'finely', 'delineated.', '<', 'ref', 'name=', \"''\", 'williams', \"''\", '/', '>', 'some', 'occupations', 'require', 'a', 'higher', 'tolerance', 'to', 'sexual', 'behaviors', ',', 'such', 'as', 'waitresses', 'and', 'tour', 'guides.', '<', 'ref', 'name=', \"''\", 'williams', \"''\", '/', '>', 'more', 'specifically', ',', 'the', 'employers', 'for', 'these', 'occupations', 'expect', 'the', 'workers', 'to', 'comply', 'with', 'the', 'level', 'of', 'sexual', 'interactions', 'the', 'workers', 'would', 'have', 'with', 'the', 'customers.', '<', 'ref', 'name=', \"''\", 'williams', \"''\", '/', '>', 'this', 'unquestioned', 'expectation', 'from', 'the', 'employers', 'then', 'pushes', 'the', 'workers', 'to', 'see', 'only', 'two', 'options', '.', 'the', 'workers', 'would', 'have', 'to', 'accept', 'the', 'sexual', 'harassment', 'from', 'customers', 'as', '``', 'part', 'of', 'the', 'job', \"''\", ',', 'or', 'report', 'the', 'sexual', 'harassment', 'to', 'the', 'manager', 'and', 'get', 'fired.', '<', 'ref', 'name=', \"''\", 'williams', \"''\", '/', '>', 'adding', 'onto', 'the', 'pressure', ',', 'reporting', 'sexual', 'assault', 'comes', 'with', 'criticism', 'from', 'co-workers', ',', 'as', 'they', 'see', 'the', 'sexual', 'assault', 'as', 'part', 'of', 'the', 'job', 'requirement.', '<', 'ref', 'name=', \"''\", 'williams', \"''\", '/', '>', '{', '{', 'see', 'also|sexual', 'harassment', 'in', 'the', 'workplace', 'in', 'the', 'united', 'states', '}', '}', 'the', 'prevalence', 'of', 'sexual', 'harassment', 'at', 'work', 'is', 'high', '.', 'for', 'example', ',', 'a', 'study', 'by', 'the', '[', '[', 'u.s.', 'merit', 'systems', 'protection', 'board', ']', ']', 'in', '1981', 'shows', 'that', 'among', 'the', 'female', 'government', 'employees', ',', '33', 'percent', 'experienced', 'sexual', 'comments', ',', '26', 'percent', 'had', 'unwanted', 'physical', 'touching', ',', 'and', '15', 'percent', 'was', 'pressured', 'for', 'dates.', '<', 'ref', 'name=', \"''\", 'fitzgerald', \"''\", '>', '{', '{', 'cite', 'journal', '|', 'last', '=', 'fitzgerald', '|', 'first', '=', 'louise', 'f.', '|', 'title', '=', 'sexual', 'harassment', ':', 'violence', 'against', 'women', 'in', 'the', 'workplace', '|', 'journal', '=', '[', '[', 'american', 'psychologist', ']', ']', '|', 'volume', '=', '48', '|', 'issue', '=', '10', '|', 'pages', '=', '1070–1076', '|', 'doi', '=', '10.1037/0003-066x.48.10.1070', '|', 'date', '=', 'october', '1993', '}', '}', '<', '/ref', '>', 'moreover', ',', '``', 'nearly', '10', '%', 'had', 'been', 'directly', 'pressured', 'for', 'sexual', 'cooperation', ',', 'and', 'a', 'similar', 'percentage', 'described', 'repeated', 'telephone', 'calls', 'and', 'unwelcome', 'letters', 'or', 'notes', '.', '``', '<', 'ref', 'name=', \"''\", 'fitzgerald', \"''\", '/', '>', 'other', 'than', 'this', 'example', ',', 'fitzgerald', 'states', 'that', '``', 'the', 'enormity', 'of', 'such', 'figures', 'is', 'difficult', 'to', 'grasp', ',', 'indicating', 'as', 'they', 'do', 'that', 'virtually', 'millions', 'of', 'women', 'are', 'subjected', 'to', 'experiences', 'ranging', 'from', 'insults', 'to', 'assault—many', 'on', 'an', 'ongoing', 'or', 'recurrent', 'basis—', 'as', 'the', 'price', 'of', 'earning', 'a', 'living', '.', '``', '<', 'ref', 'name=', \"''\", 'fitzgerald', \"''\", '/', '>', 'another', 'form', 'of', 'physical', 'harassment', 'at', 'work', 'is', 'workplace', 'violence', '.', '[', '[', 'workplace', 'violence', ']', ']', 'is', 'defined', 'as', 'physical', 'threats', 'and', 'assaults', 'targeted', 'at', 'employees', '.', 'there', 'are', 'two', 'main', 'perpetrators', 'for', 'workplace', 'violence', ':', 'criminals', 'who', 'approached', 'as', 'clients', ',', 'and', 'co-workers.', '<', 'ref', 'name=', \"''\", 'leblanc', \"''\", '>', '{', '{', 'cite', 'journal', '|', 'last1', '=', 'leblanc', '|', 'first1', '=', 'manon', 'mireille', '|', 'last2', '=', 'kelloway', '|', 'first2', '=', 'e.', 'kevin', '|', 'title', '=', 'predictors', 'and', 'outcomes', 'of', 'workplace', 'violence', 'and', 'aggression', '|', 'journal', '=', '[', '[', 'journal', 'of', 'applied', 'psychology', ']', ']', '|', 'volume', '=', '87', '|', 'issue', '=', '3', '|', 'pages', '=', '444–453', '|', 'doi', '=', '10.1037/0021-9010.87.3.444', '|', 'pmid', '=', '12090602', '|', 'date', '=', 'june', '2002', '}', '}', '<', '/ref', '>', 'the', 'criminals', 'assert', 'violence', 'through', 'the', 'forms', 'of', 'robberies', 'and', 'homicides', ',', 'and', 'the', 'rate', 'of', 'homicides', 'in', 'the', 'workplace', 'has', 'risen', 'significantly', 'over', 'the', 'past', '20', 'years.', '<', 'ref', 'name=', \"''\", 'leblanc', \"''\", '/', '>', 'according', 'to', 'the', '[', '[', 'national', 'institute', 'for', 'occupational', 'safety', 'and', 'health', ']', ']', '(', 'niosh', ')', ',', '9,937', 'workplace', 'homicides', 'happened', 'in', 'the', 'time', 'period', 'of', '1980', 'to', '1992', ',', 'which', 'averages', 'out', 'to', 'about', '800', 'homicides', 'per', 'year.', '<', 'ref', 'name=', \"''\", 'leblanc', \"''\", '/', '>', '``', 'in', '1989', ',', 'homicide', 'was', 'the', 'third', 'leading', 'cause', 'of', 'death', 'in', 'the', 'workplace', 'for', 'all', 'employees.', '<', 'ref', 'name=', \"''\", 'neuman', \"''\", '>', '{', '{', 'cite', 'journal', '|', 'last1', '=', 'neuman', '|', 'first1', '=', 'joel', 'h.', '|', 'last2', '=', 'baron', '|', 'first2', '=', 'robert', 'a', '.', '|', 'title', '=', 'workplace', 'violence', 'and', 'workplace', 'aggression', ':', 'evidence', 'concerning', 'specific', 'forms', ',', 'potential', 'causes', ',', 'and', 'preferred', 'targets', '|', 'journal', '=', '[', '[', 'journal', 'of', 'management', ']', ']', '|', 'volume', '=', '24', '|', 'issue', '=', '3', '|', 'pages', '=', '391–419', '|', 'doi', '=', '10.1177/014920639802400305', '|', 'date', '=', 'june', '1998', '}', '}', '[', 'https', ':', '//lms.manhattan.edu/pluginfile.php/150282/mod_resource/content/2/workplace', '%', '20violence', '%', '20and', '%', '20workplace', '%', '20aggression.pdf', 'pdf', '.', ']', '<', '/ref', '>', 'by', '1993', ',', 'homicide', 'had', 'become', 'the', 'second-leading', 'cause', 'of', 'death', 'on-the-job', 'for', 'all', 'employees', 'and', 'had', 'become', 'the', 'leading', 'cause', 'of', 'death', 'for', 'women', '.', '``', '<', 'ref', 'name=', \"''\", 'neuman', \"''\", '/', '>', 'most', 'of', 'these', 'homicides', 'are', 'by', 'criminals', ',', 'as', 'the', '[', '[', 'bureau', 'of', 'labor', 'statistics', ']', ']', 'found', 'that', 'only', '59', 'of', 'the', '1,063', 'were', 'co-worker-related', 'homicides', ',', 'and', 'the', 'rest', 'were', 'made', 'by', 'criminals.', '<', 'ref', 'name=', \"''\", 'neuman', \"''\", '/', '>', 'the', 'workplace', 'violence', 'perpetrated', 'by', 'co-workers', 'tends', 'to', 'be', 'less', 'obvious.', '<', 'ref', 'name=', \"''\", 'neuman', \"''\", '/', '>', 'the', 'northwestern', 'national', 'life', '(', '1993', ')', 'study', 'showed', '15', 'percent', 'of', 'respondents', 'experienced', 'physical', 'attack', 'at', 'work', ',', 'and', '14', 'percent', 'of', 'respondents', 'reported', 'being', 'physically', 'attacked', 'in', 'the', 'past', '12', 'months.', '<', 'ref', 'name=', \"''\", 'neuman', \"''\", '/', '>', 'the', 'acts', 'of', 'violence', 'in', 'workplace', 'consist', 'of', 'pushing', 'or', 'shoving', ',', 'fistfights', ',', 'and', 'rape.', '<', 'ref', 'name=', \"''\", 'neuman', \"''\", '/', '>', 'the', 'shrm', 'study', 'that', 'interviewed', '1,016', 'human', 'resource', 'professionals', ',', '``', '22', '%', 'reported', 'incidents', 'of', 'pushing', 'or', 'shoving', ',', '13', '%', 'reported', 'fist', 'fights', ',', 'and', '1', '%', 'reported', 'rape', 'or', 'sexual', 'assault', '.', '``', '<', 'ref', 'name=', \"''\", 'neuman', \"''\", '/', '>', 'much', 'of', 'the', 'physical', 'violence', 'on', 'workers', 'is', 'preceded', 'by', 'physiological', 'aggression', ',', 'hinting', 'that', 'emotional', 'harassment', 'may', 'be', 'the', 'cause', 'for', 'workplace', 'violence.', '<', 'ref', '>', '{', '{', 'cite', 'journal', '|', 'last1', '=', 'schat', '|', 'first1', '=', 'aaron', 'c.h', '.', '|', 'last2', '=', 'kelloway', '|', 'first2', '=', 'e.', 'kevin', '|', 'title', '=', 'reducing', 'the', 'adverse', 'consequences', 'of', 'workplace', 'aggression', 'and', 'violence', ':', 'the', 'buffering', 'effects', 'of', 'organizational', 'support', '|', 'journal', '=', '[', '[', 'journal', 'of', 'occupational', 'health', 'psychology', ']', ']', '|', 'volume', '=', '8', '|', 'issue', '=', '2', '|', 'pages', '=', '110–122', '|', 'doi', '=', '10.1037/1076-8998.8.2.110', '|', 'pmid', '=', '12703877', '|', 'date', '=', 'april', '2003', '}', '}', '[', 'http', ':', '//workplaceviolence.ca/sites/default/files/schat', '%', '20', '%', '26', '%', '20kelloway', '%', '20', '%', '282003', '%', '29-reducing', '%', '20the', '%', '20adverse', '%', '20consequences', '....', 'pdf', 'pdf', '.', ']', '<', '/ref', '>', '====emotional', 'harassment====', 'unlike', 'physical', 'harassment', ',', 'emotional', 'harassment', 'is', 'unnoticeable', 'and', 'also', 'viewed', 'as', 'being', 'more', 'socially', 'acceptable.', '<', 'ref', 'name=', \"''\", 'keashly', \"''\", '>', '{', '{', 'cite', 'journal', '|', 'last', '=', 'keashly', '|', 'first', '=', 'loraleigh', '|', 'title', '=', 'emotional', 'abuse', 'in', 'the', 'workplace', ':', 'conceptual', 'and', 'empirical', 'issues', '|', 'journal', '=', '[', '[', 'journal', 'of', 'aggression', ',', 'maltreatment', '&', 'trauma|journal', 'of', 'emotional', 'abuse', ']', ']', '|', 'volume', '=', '1', '|', 'issue', '=', '1', '|', 'pages', '=', '85–117', '|', 'doi', '=', '10.1300/j135v01n01_05', '|', 'date', '=', 'july', '1997', '}', '}', '<', '/ref', '>', 'naturally', ',', 'emotional', 'harassment', 'in', 'the', 'workplace', 'gets', 'less', 'attention', 'than', 'physical', 'harassment', 'in', 'the', 'workplace', ',', 'which', 'perpetuates', 'the', 'issue', 'of', 'emotional', 'harassment', 'in', 'the', 'workplace.', '<', 'ref', 'name=', \"''\", 'keashly', \"''\", '/', '>', 'according', 'to', 'keashly', ',', 'emotional', 'harassment', 'can', 'be', 'defined', 'as', '``', 'the', 'hostile', 'verbal', 'and', 'nonverbal', 'behaviors', 'that', 'are', 'not', 'explicitly', 'tied', 'to', 'sexual', 'or', 'racial', 'content', 'yet', 'are', 'directed', 'at', 'gaining', 'compliance', 'from', 'others', '.', '``', '<', 'ref', 'name=', \"''\", 'keashly', \"''\", '/', '>', 'in', 'short', ',', 'emotional', 'harassment', 'is', 'manipulation', 'of', 'people', \"'s\", 'actions', 'through', 'social', 'behaviors', '.', 'one', 'common', 'form', 'of', 'emotional', 'abuse', 'in', 'workplace', 'is', '[', '[', 'bullying', ']', ']', '.', 'also', 'known', 'as', '[', '[', 'mobbing', ']', ']', ',', 'workplace', 'bullying', '``', 'is', 'a', 'long', 'lasting', ',', 'escalated', 'conflict', 'with', 'frequent', 'harassing', 'actions', 'systematically', 'aimed', 'at', 'a', 'target', 'person', '.', '``', '<', 'ref', 'name=', \"''\", 'zapf', \"''\", '>', '{', '{', 'cite', 'journal', '|', 'last', '=', 'zapf', '|', 'first', '=', 'dieter', '|', 'title', '=', 'organisational', ',', 'work', 'group', 'related', 'and', 'personal', 'causes', 'of', 'mobbing/bullying', 'at', 'work', '|', 'journal', '=', '[', '[', 'international', 'journal', 'of', 'manpower', ']', ']', '|', 'volume', '=', '20', '|', 'issue', '=', '1–2', '|', 'pages', '=', '70–85', '|', 'doi', '=', '10.1108/01437729910268669', '|', 'date', '=', '1999', '}', '}', '<', '/ref', '>', 'specific', 'actions', 'of', 'workplace', 'bullying', 'include', 'the', 'following', ':', 'false', 'accusations', 'of', 'mistakes', 'and', 'errors', ',', 'hostile', 'glares', 'and', 'other', 'intimidating', 'non-verbal', 'behaviors', ',', 'yelling', ',', 'shouting', ',', 'and', 'screaming', ',', 'exclusion', 'and', 'the', '``', 'silent', 'treatment', ',', \"''\", 'withholding', 'resources', 'and', 'information', 'necessary', 'to', 'the', 'job', ',', 'behind-the-back', 'sabotage', 'and', 'defamation', ',', 'use', 'of', 'put-downs', ',', 'insults', ',', 'and', 'excessively', 'harsh', 'criticism', ',', 'and', 'unreasonably', 'heavy', 'work', 'demands', 'designed', 'to', 'ensure', 'failure.', '<', 'ref', 'name=', \"''\", 'yamada', \"''\", '>', '{', '{', 'cite', 'book', '|', 'last', '=', 'yamada', '|', 'first', '=', 'david', '|', 'title', '=', 'promoting', 'healthy', ',', 'productive', ',', 'and', 'socially', 'responsible', 'workplaces', '|', 'publisher', '=', '2014', 'warns-render', 'institute', 'university', 'of', 'louisville', ',', 'louis', 'd.', 'brandeis', 'school', 'of', 'law', '}', '}', 'new', 'workplace', 'institute', ':', 'promoting', 'healthy', ',', 'productive', ',', 'and', 'socially', 'responsible', 'workplaces', '.', '[', 'https', ':', '//web.archive.org/web/20150402153422/http', ':', '//uofllawclinic.com/sites/www.law.louisville.edu/files/materials_yamada.pdf', 'pdf', '.', ']', '<', '/ref', '>', 'the', '2014', 'workplace', 'bullying', 'institute/zogby', 'national', 'survey', 'shows', 'that', '27', 'percent', 'of', 'the', 'total', 'amount', 'of', 'human', 'beings', 'on', 'the', 'planet', 'earth', 'have', 'experienced', 'workplace', 'bullying', 'in', 'the', 'past', ',', 'and', '70-seven', 'percent', 'of', 'employees', 'are', 'currently', 'suffering', 'with', 'workplace', 'bullying.', '<', 'ref', 'name=', \"''\", 'yamada', \"''\", '/', '>', 'in', 'addition', ',', '``', '[', '[', 'nursing', 'shortage|more', 'than', '97', '%', 'of', 'nurse', 'managers', ']', ']', 'reported', 'experiencing', 'abuse', ',', 'whereas', '[', '[', 'retail', 'industry', 'leaders', 'association|60', '%', 'of', 'retail', 'industry', 'workers', ']', ']', ',', '23', '%', 'of', 'faculty', 'and', 'university', 'staff', ',', 'and', '53', '%', 'of', 'business', 'school', 'students', 'reported', 'abuse', 'at', 'work', '.', '``', '<', 'ref', 'name=', \"''\", 'lutgen', \"''\", '>', '{', '{', 'cite', 'journal', '|', 'last', '=', 'lutgen-sandvik', '|', 'first', '=', 'pamela', '|', 'title', '=', 'the', 'communicative', 'cycle', 'of', 'employee', 'emotional', 'abuse', ':', 'generation', 'and', 'regeneration', 'of', 'workplace', 'mistreatment', '|', 'journal', '=', '[', '[', 'management', 'communication', 'quarterly', ']', ']', '|', 'volume', '=', '16', '|', 'issue', '=', '4', '|', 'pages', '=', '471–501', '|', 'doi', '=', '10.1177/0893318903251627', '|', 'date', '=', 'may', '2003', '}', '}', '[', 'https', ':', '//www.natcom.org/uploadedfiles/public_engagement/nca_anti-bullying_digital_repository/workplace_bullying/lutgen-sandvik-', '%', '20the', '%', '20communicative', '%', '20cycle', '%', '20of', '%', '20employee', '%', '20emotional', '%', '20abuse', '%', '20generation', '%', '20and', '%', '20regeneration', '%', '20of', '%', '20workplace', '%', '20mistreatment.pdf', 'pdf', '.', ']', '<', '/ref', '>', 'the', 'areas', 'of', 'industry', 'in', 'which', 'emotional', 'abuse', 'happens', 'are', 'not', 'limited', 'to', 'one', ',', 'but', 'rather', 'they', 'range', 'from', 'hospitals', ',', 'universities', ',', 'manufacturing', 'plants', ',', 'research', 'industries', ',', 'and', 'social', 'service', 'agencies.', '<', 'ref', 'name=', \"''\", 'lutgen', \"''\", '/', '>', 'with', 'such', 'frequency', 'of', 'workplace', 'bullying', 'to', 'various', 'groups', 'of', 'people', ',', 'many', 'theories', 'exist', 'in', 'discussing', 'the', 'causes', 'of', 'workplace', 'bullying', '.', 'one', 'side', 'argues', 'that', 'the', 'bullying', 'targets', 'are', 'in', 'fact', 'responsible', 'for', 'the', 'bullying.', '<', 'ref', 'name=', \"''\", 'zapf', \"''\", '/', '>', 'more', 'specifically', ',', 'some', 'physicians', 'and', 'psychologists', 'attribute', 'the', 'cause', 'of', 'workplace', 'bullying', 'to', 'the', 'target', 'employee', \"'s\", 'mental', 'disorders', ',', 'such', 'as', '[', '[', 'general', 'anxiety', 'disorder', ']', ']', ',', 'instead', 'of', 'the', 'working', 'situation.', '<', 'ref', 'name=', \"''\", 'zapf', \"''\", '/', '>', 'the', 'opposite', 'argument', 'contends', 'that', 'the', 'cause', 'of', 'workplace', 'bullying', 'lies', 'in', 'the', 'organizational', 'problems', 'and', 'poor', 'leadership', 'skills', '.', 'another', 'argument', 'states', 'that', 'workplace', 'bullying', 'is', 'a', 'multi-causal', 'phenomenon', ',', 'as', 'different', 'factors', 'can', 'play', 'their', 'respective', 'roles', 'in', 'building', 'the', 'tension.', '<', 'ref', '>', '{', '{', 'cite', 'journal', '|', 'last', '=', 'salin', '|', 'first', '=', 'denise', '|', 'title', '=', 'ways', 'of', 'explaining', 'workplace', 'bullying', ':', 'a', 'review', 'of', 'enabling', ',', 'motivating', 'and', 'precipitating', 'structures', 'and', 'processes', 'in', 'the', 'work', 'environment', '|', 'journal', '=', '[', '[', 'human', 'relations', '(', 'journal', ')', '|human', 'relations', ']', ']', '|', 'volume', '=', '56', '|', 'issue', '=', '10', '|', 'pages', '=', '1213–1232', '|', 'doi', '=', '10.1177/00187267035610003', '|', 'date', '=', 'october', '2003', '|', 'hdl', '=', '10227/283', '|', 'hdl-access', '=', 'free', '}', '}', '<', '/ref', '>', 'despite', 'this', 'plethora', 'of', 'arguments', ',', 'zapf', 'addresses', 'that', 'academic', 'analysis', 'of', 'the', 'cause', 'is', 'difficult.', '<', 'ref', 'name=', \"''\", 'zapf', \"''\", '/', '>', 'getting', 'the', 'perspective', 'of', 'perpetrators', 'and', 'potential', 'bystanders', 'is', 'unrealistic', ',', 'and', 'therefore', 'the', 'studies', 'are', 'primarily', 'focused', 'on', 'victims', \"'\", 'interviews.', '<', 'ref', 'name=', \"''\", 'zapf', \"''\", '/', '>', '===victims===', 'the', 'victims', 'of', 'workplace', 'harassment', 'can', 'be', 'separated', 'into', 'three', 'categories', ',', 'based', 'on', 'gender', ',', 'sexuality', ',', 'and', 'race', '.', 'while', 'one', 'group', 'experiences', 'workplace', 'harassment', 'more', 'frequently', 'than', 'others', ',', 'workplace', 'harassment', 'still', 'affects', 'wide', 'range', 'of', 'population', '.', '====gender====', 'both', 'men', 'and', 'women', 'are', 'victims', 'of', 'workplace', 'harassment', '.', 'workplace', 'harassment', 'for', 'women', 'dates', 'back', 'to', 'women', \"'s\", 'first', 'foray', 'into', 'the', 'workforce', ',', 'as', 'early', 'as', 'colonial', 'times', '.', 'the', 'most', 'common', 'form', 'of', 'workplace', 'harassment', 'that', 'women', 'face', 'is', 'sexual', 'harassment.', '<', 'ref', 'name=', \"''\", 'fitzgerald', \"''\", '/', '>', 'according', 'to', 'fitzgerald', ',', 'one', 'of', 'every', 'two', 'women', 'experiences', 'workplace', 'harassment', 'in', 'their', 'working', 'or', 'academic', 'lives.', '<', 'ref', 'name=', \"''\", 'fitzgerald', \"''\", '/', '>', 'the', 'most', 'common', 'form', 'of', 'sexual', 'harassment', 'is', 'the', 'unwanted', 'and', 'unavoidable', 'sexual', 'attention', 'from', 'co-workers.', '<', 'ref', 'name=', \"''\", 'fitzgerald', \"''\", '/', '>', 'a', 'study', 'of', 'government', 'employees', 'shows', 'the', 'inescapable', ',', 'uncomfortable', 'sexual', 'attention', 'takes', 'varying', 'forms.', '<', 'ref', 'name=', \"''\", 'fitzgerald', \"''\", '/', '>', '33', '%', 'of', 'respondents', 'had', 'been', 'called', 'by', 'sexual', 'remarks', ',', '26', '%', 'of', 'respondents', 'faced', 'physical', 'touching', ',', 'and', '15', '%', 'respondents', 'were', 'pressured', 'to', 'go', 'on', 'a', 'date.', '<', 'ref', 'name=', \"''\", 'fitzgerald', \"''\", '/', '>', 'the', 'more', 'explicit', 'forms', 'of', 'sexual', 'harassment', 'are', 'shown', 'by', 'court', 'cases', ',', 'such', 'as', '[', '[', 'meritor', 'savings', 'bank', 'v.', 'vinson|meritor', 'v.', 'vinson', ']', ']', '(', '1986', ')', ',', 'robinson', 'v.', 'jacksonville', 'shipyards', '(', '1991', ')', ',', 'and', 'others.', '<', 'ref', 'name=', \"''\", 'fitzgerald', \"''\", '/', '>', 'in', 'meritor', 'v.', 'vinson', ',', '``', 'michele', 'vinson', ',', 'an', 'employee', 'of', 'meritor', 'savings', 'bank', ',', 'was', 'forced', 'to', 'have', 'sex', 'with', 'her', 'boss', 'between', '40', 'and', '50', 'times', '.', '``', '<', 'ref', 'name=', \"''\", 'fitzgerald', \"''\", '/', '>', 'the', 'boss', 'harassed', 'her', 'by', 'fondling', 'her', 'in', 'public', ',', 'following', 'her', 'to', 'the', 'bathroom', ',', 'and', 'frequently', 'raping', 'her.', '<', 'ref', 'name=', \"''\", 'fitzgerald', \"''\", '/', '>', 'in', 'robinson', 'v.', 'jacksonville', 'shipyards', ',', 'robinson', 'requested', 'to', 'put', 'down', 'the', 'pornographic', 'materials', 'in', 'jacksonville', 'shipyard', 'workplace', '.', 'the', 'pornographic', 'material', 'included', '``', 'a', 'pinup', 'showing', 'a', 'meat', 'spatula', 'pressed', 'against', 'a', 'woman', \"'s\", 'pubic', 'area', 'and', 'another', 'featuring', 'a', 'nude', 'woman', 'holding', 'a', 'whip', '.', '``', '<', 'ref', 'name=', \"''\", 'fitzgerald', \"''\", '/', '>', 'while', 'workplace', 'harassment', 'against', 'women', 'has', 'been', 'a', 'frequent', 'subject', 'of', 'study', 'for', 'more', 'than', '20', 'years', ',', 'workplace', 'harassment', 'against', 'men', 'rarely', 'receives', 'attention', 'and', 'is', 'not', 'subjected', 'to', 'many', 'studies.', '<', 'ref', 'name=', \"''\", 'lee', \"''\", '>', '{', '{', 'cite', 'journal', '|', 'last', '=', 'lee', '|', 'first', '=', 'deborah', '|', 'title', '=', 'hegemonic', 'masculinity', 'and', 'male', 'feminisation', ':', 'the', 'sexual', 'harassment', 'of', 'men', 'at', 'work', '|', 'journal', '=', '[', '[', 'journal', 'of', 'gender', 'studies', ']', ']', '|', 'volume', '=', '9', '|', 'issue', '=', '2', '|', 'pages', '=', '141–155', '|', 'doi', '=', '10.1080/713677986', '|', 'date', '=', 'july', '2000', '}', '}', '<', '/ref', '>', 'however', ',', 'the', 'bureau', 'of', 'justice', 'statistics', 'shows', 'that', '``', 'among', 'people', 'victimized', 'while', 'working', 'or', 'on', 'duty', ',', 'male', 'victims', 'outnumbered', 'females', 'by', 'about', '2', 'to', '1', '.', '``', '<', 'ref', 'name=', \"''\", 'warchol', \"''\", '>', '{', '{', 'citation', '|', 'last', '=', 'warchol', '|', 'first', '=', 'greg', '|', 'contribution', '=', 'victim', 'characteristics', '|', 'editor-last', '=', 'warchol', '|', 'editor-first', '=', 'greg', '|', 'title', '=', 'special', 'report', ':', 'national', 'crime', 'victimization', 'survey', ':', 'workplace', 'violence', ',', '1992-96', '|', 'page', '=', '2', '|', 'url', '=', 'http', ':', '//www.bjs.gov/content/pub/pdf/wv96.pdf', '|', 'publisher', '=', '[', '[', 'bureau', 'of', 'justice', 'statistics', ']', ']', '|', 'date', '=', 'july', '1998', '|', 'id', '=', 'ncj', '168634', '|', 'postscript', '=', '.', '}', '}', '<', '/ref', '>', 'men', 'experience', 'less', 'workplace', 'sexual', 'harassment', 'than', 'women', ',', 'as', 'only', '16.7', '%', 'of', 'men', 'reported', 'rape/sexual', 'assault', ',', 'but', 'men', 'face', 'more', 'workplace', 'violence.', '<', 'ref', 'name=', \"''\", 'warchol', \"''\", '/', '>', '72', '%', 'of', 'men', 'were', 'robbed', 'in', 'their', 'workplace', ',', '74.4', '%', 'of', 'men', 'experienced', 'aggravated', 'assault', ',', 'and', '66.1', '%', 'of', 'men', 'experienced', 'simple', 'assault.', '<', 'ref', 'name=', \"''\", 'warchol', \"''\", '/', '>', '====sexuality====', 'the', 'williams', 'institute', '2011', 'study', 'shows', 'that', '``', 'in', 'the', 'american', 'workforce', ',', 'more', 'than', 'eight', 'million', 'people', '(', 'or', '4', 'percent', 'of', 'the', 'u.s.', 'workforce', ')', 'identify', 'as', '[', '[', 'lgbt|lesbian', ',', 'gay', ',', 'bisexual', ',', 'or', 'transgender', ']', ']', '(', 'lgbt', ')', '.', '``', '<', 'ref', 'name=', \"''\", 'pizer', \"''\", '>', '{', '{', 'cite', 'journal', '|', 'last1', '=', 'pizer', '|', 'first1', '=', 'jennifer', 'c.', '|', 'last2', '=', 'sears', '|', 'first2', '=', 'brad', '|', 'last3', '=', 'mallory', '|', 'first3', '=', 'christy', '|', 'last4', '=', 'hunter', '|', 'first4', '=', 'nan', 'd.', '|', 'title', '=', 'evidence', 'of', 'persistent', 'and', 'pervasive', 'workplace', 'discrimination', 'against', 'lgbt', 'people', ':', 'the', 'need', 'for', 'federal', 'legislation', 'prohibiting', 'discrimination', 'and', 'providing', 'for', 'equal', 'employment', 'benefits', '|', 'journal', '=', '[', '[', 'loyola', 'of', 'los', 'angeles', 'law', 'review', ']', ']', '|', 'volume', '=', '45', '|', 'issue', '=', '3', '|', 'pages', '=', '715–779', '|', 'date', '=', 'spring', '2012', '|', 'url', '=', 'http', ':', '//digitalcommons.lmu.edu/llr/vol45/iss3/3/', '}', '}', '[', 'http', ':', '//digitalcommons.lmu.edu/cgi/viewcontent.cgi', '?', 'article=2796', '&', 'context=llr', 'pdf', '.', ']', '<', '/ref', '>', 'even', 'so', ',', 'the', 'lgbt', 'group', 'has', 'faced', 'constant', 'discrimination', 'and', 'harassment', 'in', 'workplaces', ',', 'as', 'shown', 'by', 'court', 'cases', 'and', 'historical', 'events.', '<', 'ref', 'name=', \"''\", 'pizer', \"''\", '/', '>', 'one', 'common', 'form', 'of', 'workplace', 'harassment', 'for', 'lgbt', 'community', 'is', 'the', 'psychological', 'and', 'physical', 'strain', 'in', 'hiding', 'their', 'sexuality', 'in', 'a', 'heterosexist', 'workplace', 'environment.', '<', 'ref', 'name=', \"''\", 'probst', \"''\", '>', '{', '{', 'citation', '|', 'last1', '=', 'probst', '|', 'first1', '=', 'tahira', 'm.', '|', 'last2', '=', 'estrada', '|', 'first2', '=', 'armando', 'x', '.', '|', 'last3', '=', 'brown', '|first3=jeremiah', 'w.', '|', 'contribution', '=', 'harassment', ',', 'violence', 'and', 'hate', 'crimes', 'in', 'the', 'workplace', '|', 'editor-last', '=', 'thomas', '|', 'editor-first', '=', 'kecia', 'm.', '|', 'title', '=', 'diversity', 'resistance', 'in', 'organizations', '|', 'pages', '=', '93–125', '|', 'publisher', '=', 'lawrence', 'erlbaum', 'associates', '|', 'year', '=', '2008', '|', 'series', '=', 'series', 'in', 'applied', 'psychology', '|', 'isbn', '=', '9780805859638', '|', 'postscript', '=', '.', '}', '}', '<', '/ref', '>', 'other', 'form', 'of', 'workplace', 'harassment', 'is', 'direct', 'harassment', 'from', 'the', 'public', 'after', 'disclosing', 'one', \"'s\", 'sexuality.', '<', 'ref', 'name=', \"''\", 'probst', \"''\", '/', '>', 'because', 'an', 'lgbt', 'individual', 'experiences', 'explicit', 'verbal', 'assault', ',', 'physical', 'violence', ',', 'and', 'hate', 'crimes', 'after', 'disclosing', 'sexuality', ',', 'the', 'lgbt', 'community', 'more', 'often', 'than', 'not', 'conceals', 'its', 'sexuality', 'in', 'workplaces.', '<', 'ref', 'name=', \"''\", 'probst', \"''\", '/', '>', '====race====', 'many', 'studies', 'show', 'that', 'culturally', 'stigmatized', 'groups', 'face', 'more', 'workplace', 'harassments.', '<', 'ref', 'name=', \"''\", 'deitch', \"''\", '>', '{', '{', 'cite', 'journal', '|', 'last1', '=', 'deitch', '|', 'first1', '=', 'elizabeth', 'a', '.', '|', 'last2', '=', 'barsky', '|', 'first2', '=', 'adam', '|', 'last3', '=', 'butz', '|', 'first3', '=', 'rebecca', 'm.', '|', 'last4', '=', 'chan', '|', 'first4', '=', 'suzanne', '|', 'last5', '=', 'brief', '|', 'first5', '=', 'arthur', 'p.', '|', 'last6', '=', 'bradley', '|', 'first6', '=', 'jill', 'c.', '|', 'title', '=', 'subtle', 'yet', 'significant', ':', 'the', 'existence', 'and', 'impact', 'of', 'everyday', 'racial', 'discrimination', 'in', 'the', 'workplace', '|', 'journal', '=', '[', '[', 'human', 'relations', '(', 'journal', ')', '|human', 'relations', ']', ']', '|', 'volume', '=', '56', '|', 'issue', '=', '11', '|', 'pages', '=', '1299–1324', '|', 'doi', '=', '10.1177/00187267035611002', '|', 'date', '=', 'november', '2003', '}', '}', '<', '/ref', '>', 'with', 'changes', 'in', 'the', 'political', 'and', 'social', 'scenes', 'in', 'america', ',', 'subtle', 'and', 'daily', 'harassment', 'is', 'more', 'common', 'than', 'blatant', 'and', 'explicit', 'harassment', 'today.', '<', 'ref', 'name=', \"''\", 'deitch', \"''\", '/', '>', 'a', 'study', 'by', 'deitch', ',', 'barsky', ',', 'butz', 'and', 'et', 'al', '.', 'shows', 'that', 'black', 'americans', 'face', 'more', 'mistreatment', 'in', 'workplaces', 'than', 'white', 'americans.', '<', 'ref', 'name=', \"''\", 'deitch', \"''\", '/', '>', 'the', 'mistreatments', 'and', 'harassments', 'do', 'not', 'explicitly', '``', 'reference', 'race', 'or', 'discrimination', 'as', 'the', 'cause', 'of', 'the', 'treatment', \"''\", ',', 'because', 'overt', 'racism', 'is', 'prohibited', 'in', 'workplaces.', '<', 'ref', 'name=', \"''\", 'deitch', \"''\", '/', '>', 'however', ',', 'the', 'statistics', 'show', 'race', 'is', '``', 'significantly', 'associated', 'with', 'mistreatment', \"''\", 'and', 'that', 'black', 'americans', 'in', 'general', 'report', 'significantly', 'more', '``', 'minor', ',', 'pervasive', 'mistreatment', 'and', 'unfairness', 'on', 'the', 'job', '.', '``', '<', 'ref', 'name=', \"''\", 'deitch', \"''\", '/', '>', 'the', 'study', 'suggests', 'the', 'discrimination', 'and', 'harassments', 'may', 'intensify', 'for', 'black', 'americans', 'in', 'a', 'job', 'with', 'fewer', 'people', 'of', 'the', 'same', 'race', ',', 'such', 'as', '``', 'token', \"''\", 'black', 'employee', 'or', '``', 'solo', \"''\", 'employees.', '<', 'ref', 'name=', \"''\", 'deitch', \"''\", '/', '>', 'in', 'addition', ',', 'not', 'only', 'blacks', 'but', 'also', 'asian', 'americans', ',', 'and', 'other', 'minority', 'races', 'all', 'face', '``', 'a', 'higher', 'rate', 'of', 'homicide', 'than', 'their', 'proportion', 'of', 'the', 'work', 'force', 'would', 'suggest', '.', '``', '<', 'ref', 'name=', \"''\", 'toscano', \"''\", '>', '{', '{', 'citation', '|', 'last1', '=', 'toscano', '|', 'first1', '=', 'guy', '|', 'last2', '=', 'weber', '|', 'first2', '=', 'william', '|', 'contribution', '=', 'homicides', 'at', 'work', '|', 'editor-last1', '=', 'toscano', '|', 'editor-first1', '=', 'guy', '|', 'editor-last2', '=', 'weber', '|', 'editor-first2', '=', 'william', '|', 'title', '=', 'violence', 'in', 'the', 'workplace', '|', 'page', '=', '45', '|', 'url', '=', 'http', ':', '//www.bls.gov/iif/oshwc/cfar0005.txt', '|', 'publisher', '=', '[', '[', 'bureau', 'of', 'labor', 'statistics', ']', ']', ',', '[', '[', 'united', 'states', 'department', 'of', 'labor|u.s', '.', 'dept', '.', 'of', 'labor', ']', ']', '|', 'date', '=', '1995', '|', 'postscript', '=', '.', '}', '}', '[', 'http', ':', '//www.bls.gov/iif/oshwc/cfar0005.pdf', 'pdf', '.', ']', '<', '/ref', '>', 'of', 'the', 'eighth', 'of', 'the', 'workforce', 'experiencing', 'homicide', ',', 'more', 'than', 'a', 'fourth', 'of', 'the', 'population', 'is', 'an', 'ethnic', 'minority.', '<', 'ref', 'name=', \"''\", 'toscano', \"''\", '/', '>', '===impacts===', '====', '[', '[', 'alcoholism', ']', ']', '====', 'the', 'intensity', 'of', 'workplace', 'harassment', 'is', 'positively', 'correlated', 'with', 'the', 'level', 'of', 'alcohol', 'use.', '<', 'ref', 'name=', \"''\", 'richman', \"''\", '>', '{', '{', 'cite', 'journal', '|', 'last1', '=', 'richman', '|', 'first1', '=', 'judith', 'a', '.', '|', 'last2', '=', 'rospenda', '|', 'first2', '=', 'kathleen', 'm.', '|', 'last3', '=', 'flaherty', '|', 'first3', '=', 'joseph', 'a', '.', '|', 'last4', '=', 'freels', '|', 'first4', '=', 'sally', '|', 'title', '=', 'workplace', 'harassment', ',', 'active', 'coping', ',', 'and', 'alcohol-related', 'outcomes', '|', 'journal', '=', 'journal', 'of', 'substance', 'abuse', '|', 'volume', '=', '13', '|', 'issue', '=', '3', '|', 'pages', '=', '347–366', '|', 'doi', '=', '10.1016/s0899-3289', '(', '01', ')', '00079-7', '|', 'pmid', '=', '11693457', '|', 'date', '=', 'october', '2001', '}', '}', '<', '/ref', '>', 'one', 'of', 'the', 'motives', 'that', 'people', 'drink', 'is', '``', 'to', 'self-medicate', 'distressful', 'feelings', 'resulting', 'from', 'problematic', 'social', 'conditions', \"''\", '.', '<', 'ref', 'name=', \"''\", 'richman', \"''\", '/', '>', 'thus', ',', 'the', 'negative', 'social', 'distress', 'faced', 'in', 'workplaces', 'is', 'linked', 'with', 'increased', 'consumption', 'of', 'alcohol.', '<', 'ref', 'name=', \"''\", 'richman', \"''\", '/', '>', 'moreover', ',', 'because', 'workplace', 'harassment', 'can', 'not', 'be', 'clearly', 'delineated', 'like', 'sexual', 'or', 'racial', 'harassment', ',', 'victims', 'do', 'not', 'counteract', 'by', 'legal', 'and', 'institution', 'responses.', '<', 'ref', 'name=', \"''\", 'richman', \"''\", '/', '>', 'rather', ',', 'they', 'rely', 'on', 'drinking', 'to', 'cope', 'with', 'the', 'emotional', 'distress.', '<', 'ref', 'name=', \"''\", 'richman', \"''\", '/', '>', 'nolen-hoeksema', 'and', 'harrell', \"'s\", '2002', 'study', 'shows', 'that', 'while', 'both', 'women', 'and', 'men', 'are', 'at', 'risk', 'of', 'alcoholism', 'under', 'workplace', 'harassment', ',', 'men', 'are', 'more', 'likely', 'to', 'cope', 'by', 'drinking', 'than', 'women', 'do', ',', 'as', 'women', 'use', 'their', 'relatively', 'wider', 'social', 'connections', 'to', 'attain', 'the', 'emotional', 'support.', '<', 'ref', 'name=', \"''\", 'rospenda', \"''\", '>', '{', '{', 'cite', 'journal', '|', 'last1', '=', 'rospenda', '|', 'first1', '=', 'kathleen', 'm.', '|', 'last2', '=', 'fujishiro', '|', 'first2', '=', 'kaori', '|', 'last3', '=', 'shannon', '|', 'first3', '=', 'candice', 'a', '.', '|', 'last4', '=', 'richman', '|', 'first4', '=', 'judith', 'a', '.', '|', 'title', '=', 'workplace', 'harassment', ',', 'stress', ',', 'and', 'drinking', 'behavior', 'over', 'time', ':', 'gender', 'differences', 'in', 'a', 'national', 'sample', '|', 'journal', '=', '[', '[', 'addictive', 'behaviors', ']', ']', '|', 'volume', '=', '33', '|', 'issue', '=', '7', '|', 'pages', '=', '964–967', '|', 'doi', '=', '10.1016/j.addbeh.2008.02.009', '|', 'pmc', '=', '2442899', '|', 'date', '=', 'july', '2008', '|', 'pmid=18384975', '}', '}', '<', '/ref', '>', 'however', ',', 'a', '2004', 'survey', 'of', 'a', 'random', 'sample', 'of', 'employees', 'at', 'a', 'heavy', 'machinery', 'assembly', 'plant', 'shows', 'that', 'women', 'are', 'more', 'sensitive', 'and', 'receptive', 'of', 'workplace', 'harassment', ',', 'and', 'therefore', 'women', 'have', '``', 'a', 'greater', 'propensity', 'to', 'drink', \"''\", '.', '<', 'ref', 'name=', \"''\", 'svare', \"''\", '>', '{', '{', 'cite', 'journal', '|', 'last1', '=', 'messick', 'svare', '|', 'first1', '=', 'gloria', '|', 'last2', '=', 'miller', '|', 'first2', '=', 'leonard', '|', 'last3', '=', 'ames', '|', 'first3', '=', 'genevieve', '|', 'title', '=', 'social', 'climate', 'and', 'workplace', 'drinking', 'among', 'women', 'in', 'a', 'male-dominated', 'occupation', '|', 'journal', '=', '[', '[', 'addictive', 'behaviors', ']', ']', '|', 'volume', '=', '29', '|', 'issue', '=', '8', '|', 'pages', '=', '1691–1698', '|', 'doi', '=', '10.1016/j.addbeh.2004.03.033', '|', 'pmid', '=', '15451139', '|', 'date', '=', 'november', '2004', '}', '}', '<', '/ref', '>', 'the', 'negative', 'drinking', 'effects', 'are', 'more', 'severe', 'for', 'women', 'than', 'they', 'are', 'for', 'men.', '<', 'ref', 'name=', \"''\", 'rospenda', \"''\", '/', '>', 'one', 'mail', 'survey', 'that', 'was', 'completed', 'at', 'four', 'points', 'in', 'time', 'by', 'a', 'cohort', 'of', '1654', 'employees', 'has', 'shown', 'that', 'the', 'positive', 'correlation', 'between', 'consumption', 'of', 'drinking', 'and', 'levels', 'of', 'workplace', 'harassment', 'continues', 'after', 'retirement.', '<', 'ref', 'name=', \"''\", ':4', \"''\", '>', '{', '{', 'cite', 'journal', '|', 'last1', '=', 'richman', '|', 'first1', '=', 'judith', 'a', '.', '|', 'last2', '=', 'zlatoper', '|', 'first2', '=', 'kenneth', 'w.', '|', 'last3', '=', 'zackula', 'ehmke', '|', 'first3', '=', 'jennifer', 'l.', '|', 'last4', '=', 'rospenda', '|', 'first4', '=', 'kathleen', 'm.', '|', 'title', '=', 'retirement', 'and', 'drinking', 'outcomes', ':', 'lingering', 'effects', 'of', 'workplace', 'stress', '?', '|', 'journal', '=', '[', '[', 'addictive', 'behaviors', ']', ']', '|', 'volume', '=', '31', '|', 'issue', '=', '5', '|', 'pages', '=', '767–776', '|', 'doi', '=', '10.1016/j.addbeh.2005.06.001', '|', 'pmid', '=', '15994026', '|', 'date', '=', 'may', '2006', '}', '}', '<', '/ref', '>', 'even', 'when', 'the', 'immediate', 'stressors', 'are', 'not', 'present', ',', 'the', 'victims', 'still', 'retain', 'the', 'increased', 'use', 'of', 'alcohol.', '<', 'ref', 'name=', \"''\", ':4', \"''\", '/', '>', 'the', 'study', 'attributes', 'the', 'reason', 'for', 'the', 'lasting', 'effect', 'is', 'that', '``', 'appropriate', 'alcohol', 'consumption', 'may', 'have', 'functioned', 'to', 'somewhat', 'inhibit', 'the', 'self-medication', 'of', 'stress-induced', 'distress', 'during', 'work', 'role', 'occupancy', \"''\", '.', '<', 'ref', 'name=', \"''\", ':4', \"''\", '/', '>', '====ptsd====', 'ptsd', 'is', 'commonly', 'known', 'as', 'a', '``', 'war', 'wound', \"''\", ',', 'yet', 'it', 'also', 'affects', 'workers', ',', '<', 'ref', 'name=', \"''\", ':5', \"''\", '/', '>', '``', 'when', 'a', 'worker', 'suffers', 'ptsd', ',', 'the', 'workplace', 'for', 'that', 'person', 'has', 'become', 'a', 'war', 'zone', \"''\", '.', '<', 'ref', 'name=', \"''\", ':5', \"''\", '>', '{', '{', 'cite', 'web', '|', 'title', '=', 'psychological-emotional-mental', 'injuries', '|', 'url', '=', 'http', ':', '//www.workplacebullying.org/individuals/impact/mental-health-harm/', '|', 'publisher', '=', 'workplace', 'bullying', 'institute', 'rss', '|', 'access-date', '=', 'april', '28', ',', '2015', '}', '}', '<', '/ref', '>', 'several', 'studies', 'show', 'that', 'many', 'workplace', 'harassment', 'victims', 'experience', '[', '[', 'posttraumatic', 'stress', 'disorder', ']', ']', '(', 'ptsd', ')', '.', '<', 'ref', 'name=', \"''\", 'mikkelsen', \"''\", '>', '{', '{', 'cite', 'journal', '|', 'last1', '=', 'mikkelsen', '|', 'first1', '=', 'eva', 'gemzøe', '|', 'last2', '=', 'einarsen', '|', 'first2', '=', 'ståle', '|', 'title', '=', 'basic', 'assumptions', 'and', 'symptoms', 'of', 'post-traumatic', 'stress', 'among', 'victims', 'of', 'bullying', 'at', 'work', '|', 'journal', '=', '[', '[', 'european', 'journal', 'of', 'work', 'and', 'organizational', 'psychology', ']', ']', '|', 'volume', '=', '11', '|', 'issue', '=', '1', '|', 'pages', '=', '87–111', '|', 'doi', '=', '10.1080/13594320143000861', '|', 'date', '=', 'march', '2002', '}', '}', '<', '/ref', '>', 'for', 'example', ',', 'a', 'study', 'that', 'interviewed', 'about', '100', 'victims', 'of', 'workplace', 'harassment', 'shows', 'that', '``', 'a', 'majority', 'of', 'the', 'respondents', 'exceed', 'recommended', 'threshold-values', 'indicating', 'ptsd', \"''\", '.', '<', 'ref', 'name=', \"''\", 'matthiesen', \"''\", '>', '{', '{', 'cite', 'journal', '|', 'last1', '=', 'matthiesen', '|', 'first1', '=', 'stig', 'berge', '|', 'last2', '=', 'einarsen', '|', 'first2', '=', 'ståle', '|', 'title', '=', 'psychiatric', 'distress', 'and', 'symptoms', 'of', 'ptsd', 'among', 'victims', 'of', 'bullying', 'at', 'work', '|', 'journal', '=', 'british', 'journal', 'of', 'guidance', '&', 'counselling|', 'volume', '=', '32', '|', 'issue', '=', '3', '|', 'pages', '=', '335–356', '|', 'doi', '=', '10.1080/03069880410001723558', '|', 'date', '=', 'august', '2004', '}', '}', '[', 'http', ':', '//folk.uib.no/pspsm/documents/bullying-ptsd-2004-matthiesen-einarsen.pdf', 'pdf', '.', ']', '<', '/ref', '>', 'the', 'study', 'also', 'demonstrate', 'that', 'based', 'on', 'the', 'duration', 'and', 'persistency', 'of', 'the', 'workplace', 'harassment', ',', 'the', 'levels', 'of', 'ptsd', 'differ.', '<', 'ref', 'name=', \"''\", 'matthiesen', \"''\", '/', '>', 'the', 'more', 'recent', 'and', 'frequent', 'the', 'workplace', 'harassment', 'occurred', ',', 'the', 'more', 'severe', 'their', 'symptoms', 'of', 'ptsd', 'were.', '<', 'ref', 'name=', \"''\", 'matthiesen', \"''\", '/', '>', 'a', 'study', 'by', 'mikklesen', 'and', 'einarsen', 'also', 'reports', 'that', '76', 'percent', 'of', 'its', 'respondents', 'experienced', 'ptsd.', '<', 'ref', 'name=', \"''\", 'mikkelsen', \"''\", '/', '>', 'nevertheless', ',', 'mikklesen', 'and', 'einarsen', 'qualify', 'the', 'idea', 'that', 'workplace', 'harassment', 'directly', 'leads', 'to', 'ptsd.', '<', 'ref', 'name=', \"''\", 'mikkelsen', \"''\", '/', '>', 'they', 'argue', 'that', 'the', 'causes', 'of', 'ptsd', 'symptoms', 'of', 'the', 'victims', 'are', 'primarily', 'attributed', 'to', 'other', 'traumatic', 'events', 'rather', 'than', 'the', 'workplace', 'harassment', 'itself.', '<', 'ref', 'name=', \"''\", 'mikkelsen', \"''\", '/', '>', 'therefore', ',', 'the', 'study', 'concludes', 'the', '``', 'exposure', 'to', 'other', 'traumatic', 'life', 'events', 'may', 'increase', 'victims', \"'\", 'vulnerability', \"''\", 'to', 'their', 'sensitivity', 'to', 'workplace', 'harassment.', '<', 'ref', 'name=', \"''\", 'mikkelsen', \"''\", '/', '>', '====', 'other', 'psychological', 'effects', '====', 'other', 'than', 'alcoholism', 'and', 'ptsd', ',', 'victims', 'of', 'workplace', 'harassment', 'also', 'experience', 'other', 'negative', 'psychological', 'effects.', '<', 'ref', 'name=', \"''\", ':0', \"''\", '>', '{', '{', 'cite', 'journal', '|', 'last1', '=', 'lewis', '|', 'first1', '=', 'jacqueline', '|', 'last2', '=', 'coursol', '|', 'first2', '=', 'diane', '|', 'last3', '=', 'wahl', '|', 'first3', '=', 'kay', 'herting', '|', 'title', '=', 'addressing', 'issues', 'of', 'workplace', 'harassment', ':', 'counseling', 'the', 'targets', '|', 'journal', '=', '[', '[', 'journal', 'of', 'employment', 'counseling', ']', ']', '|', 'volume', '=', '39', '|', 'issue', '=', '3', '|', 'pages', '=', '109–116', '|', 'doi', '=', '10.1002/j.2161-1920.2002.tb00842.x', '|', 'date', '=', 'march', '2001', '}', '}', '[', 'http', ':', '//www.workplaceviolence911.com/sites/workplaceviolence911.com/files/20021202-04_1.htm', 'text', '.', ']', '<', '/ref', '>', 'an', 'analysis', 'of', 'self-reported', 'health', 'symptoms', ',', 'and', 'physiological', 'stress', 'reactivity', 'of', '437', 'employees', 'shows', 'that', 'compared', 'to', 'the', 'employees', 'who', 'have', 'not', 'experienced', 'workplace', 'harassment', ',', 'employees', 'who', 'have', 'experienced', 'exhibited', 'higher', 'level', 'of', 'anxiety', 'and', 'nervousness.', '<', 'ref', '>', '{', '{', 'cite', 'journal', '|', 'last1', '=', 'hansen', '|', 'first1', '=', 'åse', 'marie', '|', 'last2', '=', 'hogh', '|', 'first2', '=', 'annie', '|', 'last3', '=', 'persson', '|', 'first3', '=', 'roger', '|', 'last4', '=', 'karlson', '|', 'first4', '=', 'björn', '|', 'last5', '=', 'garde', '|', 'first5', '=', 'anne', 'helene', '|', 'last6', '=', 'ørbæk', '|', 'first6', '=', 'palle', '|', 'title', '=', 'bullying', 'at', 'work', ',', 'health', 'outcomes', ',', 'and', 'physiological', 'stress', 'response', '|', 'journal', '=', '[', '[', 'journal', 'of', 'psychosomatic', 'research', ']', ']', '|', 'volume', '=', '60', '|', 'issue', '=', '1', '|', 'pages', '=', '63–72', '|', 'doi', '=', '10.1016/j.jpsychores.2005.06.078', '|', 'pmid', '=', '16380312', '|', 'date', '=', 'january', '2006', '}', '}', '<', '/ref', '>', 'another', 'study', \"'s\", 'survey', 'of', '156', 'victims', 'of', 'workplace', 'harassment', 'shows', 'that', '79.4', 'percent', 'of', 'respondents', 'suffer', 'from', 'stress', ',', '64.7', 'percent', 'from', 'depressive', 'symptoms', ',', '64', 'percent', 'from', 'tiredness', ',', '59', 'percent', 'from', 'lack', 'of', 'confidence', ',', '58', 'percent', 'from', 'humiliation', 'and', 'guilt', ',', 'and', '58', 'percent', 'from', 'nightmares.', '<', 'ref', 'name=', \"''\", ':0', \"''\", '/', '>', '===', 'preventions', '===', '====', 'title', 'vii', '====', '[', '[', 'civil', 'rights', 'act', 'of', '1964|title', 'vii', 'of', 'the', 'civil', 'rights', 'act', 'of', '1964', ']', ']', 'is', 'used', 'as', 'a', 'tool', 'to', 'eradicate', 'workplace', 'harassment.', '<', 'ref', '>', '{', '{', 'cite', 'journal', '|', 'last', '=', 'anderson', '|', 'first', '=', 'katherine', 's.', '|', 'title', '=', 'employer', 'liability', 'under', 'title', 'vii', 'for', 'sexual', 'harassment', 'after', '``', 'meritor', 'savings', 'bank', 'v.', 'vinson', \"''\", '|', 'journal', '=', '[', '[', 'columbia', 'law', 'review', ']', ']', '|', 'volume', '=', '87', '|', 'issue', '=', '6', '|', 'pages', '=', '1258–1279', '|', 'doi', '=', '10.2307/1122590', '|', 'jstor', '=', '1122590', '|', 'date', '=', 'october', '1987', '}', '}', '<', '/ref', '>', 'title', 'vii', 'lists', 'the', 'following', 'actions', 'of', 'employers', 'unlawful', ':', '<', 'blockquote', '>', \"''\", '(', '1', ')', 'to', 'fail', 'or', 'refuse', 'to', 'hire', 'or', 'to', 'discharge', 'any', 'individual', ',', 'or', 'otherwise', 'to', 'discriminate', 'against', 'any', 'individual', 'with', 'respect', 'to', '[', 'her', 'or', ']', 'his', 'compensation', ',', 'terms', ',', 'conditions', ',', 'or', 'privileges', 'of', 'employment', ',', 'because', 'of', 'such', 'individual', \"'s\", 'race', ',', 'color', ',', 'religion', ',', 'sex', ',', 'or', 'national', 'origin', ';', 'or', '(', '2', ')', 'to', 'limit', ',', 'segregate', ',', 'or', 'classify', '[', 'her', 'or', ']', 'his', 'employees', 'discrimination', 'based', 'on', 'race', ',', 'color', ',', 'religion', ',', 'sex', 'and', 'national', 'origin', '…', 'in', 'any', 'way', 'which', 'would', 'deprive', '...', 'any', 'individual', 'of', 'employment', 'opportunities', 'or', 'otherwise', 'adversely', 'affect', '[', 'her', 'or', ']', 'his', 'status', 'as', 'an', 'employee', ',', 'because', 'of', 'such', 'individual', \"'s\", 'race', ',', 'color', ',', 'religion', ',', 'sex', ',', 'or', 'national', 'origin', '.', '``', '<', 'ref', '>', '{', '{', 'cite', 'journal', '|', 'last', '=', 'u.s.', 'code', '|', 'author-link', '=', 'united', 'states', 'code', '|', 'title', '=', 'title', '42', 'chapter', '21', 'subchapter', 'vi', 'u.s.', 'code', '§', '2000e–2', '-', 'unlawful', 'employment', 'practices', '|', 'journal', '=', '[', '[', 'legal', 'information', 'institute', ']', ']', '|', 'url', '=', 'https', ':', '//www.law.cornell.edu/uscode/text/42/2000e-2', '}', '}', '<', '/ref', '>', '<', '/blockquote', '>', \"''\", 'most', 'courts', 'consider', 'it', 'consistent', 'with', 'the', 'intent', 'of', 'congress', 'to', 'interpret', 'the', 'act', 'liberally', ',', 'and', 'therefore', ',', 'coverage', 'under', 'title', 'vii', 'is', 'very', 'broad', \"''\", '.', '<', 'ref', 'name=', \"''\", ':1', \"''\", '>', '{', '{', 'cite', 'journal', '|', 'last', '=', 'faley', '|', 'first', '=', 'robert', 'h.', '|', 'title', '=', 'sexual', 'harassment', ':', 'critical', 'review', 'of', 'legal', 'cases', 'with', 'general', 'principles', 'and', 'preventive', 'measures', '|', 'journal', '=', 'personnel', 'psychology', '|', 'volume', '=', '35', '|', 'issue', '=', '3', '|', 'pages', '=', '583–600', '|', 'doi', '=', '10.1111/j.1744-6570.1982.tb02211.x', '|', 'date', '=', 'september', '1982', '}', '}', '<', '/ref', '>', 'this', 'allows', 'victims', 'of', 'workplace', 'harassment', 'primarily', 'use', 'title', 'vii', 'to', 'assert', 'their', 'legal', 'actions.', '<', 'ref', 'name=', \"''\", ':1', \"''\", '/', '>', 'in', 'addition', ',', 'the', '[', '[', 'equal', 'employment', 'opportunity', 'commission', ']', ']', '(', 'eeoc', ')', ',', 'a', 'governmental', 'committee', 'that', 'prohibits', 'discrimination', 'in', 'workplace', ',', 'administers', 'the', 'practices', 'and', 'violations', 'of', 'title', 'vii.', '<', 'ref', 'name=', \"''\", ':1', \"''\", '/', '>', 'it', 'issued', 'and', 'amended', 'the', '``', 'guidelines', 'on', 'discrimination', 'of', 'sex', \"''\", ',', 'a', 'more', 'specified', 'interpretation', 'of', 'title', 'vii.', '<', 'ref', 'name=', \"''\", ':1', \"''\", '/', '>', '====', 'court', 'cases', '====', '=====', '``', 'meritor', 'savings', 'bank', 'vs.', 'vinson', \"''\", '=====', 'while', 'an', 'employee', 'with', 'meritor', 'savings', 'bank', ',', 'mechelle', 'vinson', 'claimed', 'that', 'she', 'had', 'been', 'sexually', 'harassed', 'and', 'raped', 'by', 'the', 'vice', 'president', 'of', 'the', 'bank', ',', 'sidney', 'taylor', ',', 'for', 'four', 'years', 'starting', 'her', 'first', 'day', 'of', 'employment', '.', '<', 'ref', 'name=', \"''\", ':2', \"''\", '>', '{', '{', 'cite', 'journal', '|', 'last', '=', 'westman', '|', 'first', '=', 'bonnie', '|', 'title', '=', 'the', 'reasonable', 'woman', 'standard', ':', 'preventing', 'sexual', 'harassment', 'in', 'the', 'workplace', '|', 'journal', '=', '[', '[', 'william', 'mitchell', 'college', 'of', 'law|william', 'mitchell', 'law', 'review', ']', ']', '|', 'volume', '=', '18', '|', 'issue', '=', '3', '|', 'pages', '=', '795–827', '|', 'date', '=', 'summer', '1992', '|', 'url', '=', 'http', ':', '//heinonline.org/hol/landingpage', '?', 'handle=hein.journals/wmitch18', '&', 'div=45', '&', 'id=', '&', 'page=', '}', '}', '[', 'http', ':', '//open.wmitchell.edu/cgi/viewcontent.cgi', '?', 'article=2295', '&', 'context=wmlr', 'pdf', '.', ']', '<', '/ref', '>', 'however', ',', 'she', 'did', 'not', 'address', 'to', 'taylor', 'or', 'higher', 'authority', ',', 'because', 'she', 'was', 'afraid', 'of', 'dismissal.', '<', 'ref', 'name=', \"''\", ':2', \"''\", '/', '>', '``', '[', '[', 'meritor', 'savings', 'bank', 'v.', 'vinson|meritor', 'savings', 'bank', 'vs.', 'vinson', ']', ']', \"''\", 'case', 'ruled', 'that', 'hostile', 'environment', 'is', 'considered', 'a', 'violation', 'of', 'title', 'vii.', '<', 'ref', 'name=', \"''\", ':2', \"''\", '/', '>', 'this', 'decision', '``', 'legitimized', 'this', 'area', 'of', 'the', 'law', 'for', 'complainants', 'and', ',', 'for', 'the', 'first', 'time', ',', 'put', 'employers', 'on', 'notice', 'that', 'unwelcome', 'sexual', 'conduct', 'will', 'not', 'be', 'tolerated', 'in', 'the', 'workplace', '.', '``', '<', 'ref', 'name=', \"''\", ':2', \"''\", '/', '>', 'this', 'court', 'case', 'also', 'added', 'that', 'violation', 'of', 'title', 'vii', 'does', 'not', 'have', 'to', 'be', '``', 'tangible', \"''\", 'and', '``', 'economic', \"''\", '.', '<', 'ref', 'name=', \"''\", ':2', \"''\", '/', '>', '=====', '``', 'robinson', 'v.', 'jacksonville', 'shipyards', ',', 'inc.', \"''\", '=====', '[', '[', 'file', ':', 'moodyshipyardfl.jpg|thumb|shipyard', 'in', 'jacksonville', ']', ']', 'robinson', ',', 'as', 'one', 'of', 'the', 'few', 'female', 'employees', 'at', 'the', 'jacksonville', 'shipyard', ',', 'filed', 'a', 'sexual', 'harassment', 'report', 'against', 'jacksonville', 'shipyard.', '<', 'ref', 'name=', \"''\", ':3', \"''\", '>', '{', '{', 'cite', 'journal', '|', 'last', '=', 'strossen', '|', 'first', '=', 'nadine', '|', 'title', '=', 'regulating', 'workplace', 'sexual', 'harassment', 'and', 'upholding', 'the', 'first', 'amendment', '-', 'avoiding', 'a', 'collision', '|', 'journal', '=', '[', '[', 'villanova', 'university', 'school', 'of', 'law', '#', 'publications|villanova', 'law', 'review', ']', ']', '|', 'volume', '=', '37', '|', 'issue', '=', '4', '|', 'pages', '=', '757–785', '|', 'date', '=', '1992', '|', 'url', '=', 'http', ':', '//digitalcommons.law.villanova.edu/vlr/vol37/iss4/3/', '}', '}', '[', 'http', ':', '//digitalcommons.law.villanova.edu/cgi/viewcontent.cgi', '?', 'article=2783', '&', 'context=vlr', 'pdf', '.', ']', '<', '/ref', '>', 'she', 'attested', 'that', 'all', 'of', 'the', 'pornographic', 'images', 'and', 'remarks', 'objectified', 'her.', '<', 'ref', 'name=', \"''\", ':3', \"''\", '/', '>', 'this', 'case', 'received', 'high', 'media', 'attention', ',', 'as', 'the', '[', '[', 'american', 'civil', 'liberties', 'union|aclu', ']', ']', 'of', 'florida', 'and', 'aclu', 'of', 'women', \"'s\", 'rights', 'project', 'defended', 'different', 'parties.', '<', 'ref', 'name=', \"''\", ':3', \"''\", '/', '>', 'aclu', 'of', 'florida', 'primarily', 'held', 'the', 'free', 'speech', 'principles', ',', 'while', 'in', 'contrast', ',', 'aclu', 'women', \"'s\", 'rights', 'project', 'addressed', 'the', 'equality', 'principle.', '<', 'ref', 'name=', \"''\", ':3', \"''\", '/', '>', 'they', 'openly', 'disagreed', 'and', 'showed', '``', 'disagreement', 'among', 'civil', 'libertarians', 'on', 'how', 'to', 'apply', 'free', 'speech-', 'and', 'equality', 'principles', 'to', 'the', 'facts', 'at', 'issue', 'in', 'a', 'workplace', 'sexual', 'harassment', 'case', '.', '``', '<', 'ref', 'name=', \"''\", ':3', \"''\", '/', '>', 'the', 'district', 'court', 'upheld', 'the', 'aclu', 'women', \"'s\", 'rights', 'project', \"'s\", 'side', ',', 'as', '``', 'the', 'district', 'court', 'did', 'not', 'undertake', 'the', 'proper', 'inquiry', 'in', 'determining', 'liability.', '<', 'ref', 'name=', \"''\", ':3', \"''\", '/', '>', 'instead', ',', 'the', 'district', 'court', 'proceeded', 'from', 'the', 'erroneous', 'assumption', 'that', 'expression', 'can', 'constitute', 'harassment', 'merely', 'because', 'an', 'employee', 'finds', 'it', 'offensive', '.', '``', '<', 'ref', 'name=', \"''\", ':3', \"''\", '/', '>', '==quotes==', '“', 'beauty', 'provokes', 'harassment', ',', 'the', 'law', 'says', ',', 'but', 'it', 'looks', 'through', 'men', \"'s\", 'eyes', 'when', 'deciding', 'what', 'provokes', 'it.', '”', '“', 'the', 'liberal', 'idea', 'of', 'tolerance', 'is', 'more', 'and', 'more', 'a', 'kind', 'of', 'intolerance', '.', 'what', 'it', 'means', 'is', \"'leave\", 'me', 'alone', ';', 'do', \"n't\", 'harass', 'me', ';', 'i', \"'m\", 'intolerant', 'towards', 'your', 'over-proximity.', '”', '?', 'slavoj', 'žižek', '“', 'when', 'a', 'storm', 'of', 'harassment', 'disturbs', 'our', 'thinking', 'and', 'brings', 'us', 'down', 'to', 'our', 'knees', ',', 'the', 'umbrella', 'of', 'our', 'imagination', 'can', 'shield', 'us', 'against', 'destructive', 'aggression', '.', 'it', 'is', 'offering', 'shelter', 'and', 'is', 'teaching', 'us', 'how', 'to', 'conquer', 'ourselves', ',', 'train', 'our', 'resilience', ',', 'and', 'grit', 'our', 'teeth', '.', 'we', 'better', 'learn', 'to', 'adopt', 'the', 'virtue', 'of', 'endurance', ',', 'as', 'life', 'consists', 'of', 'both', '‘', 'passion', '’', 'and', '‘', 'patience.', '’', '(', '``', 'the', 'umbrella', \"''\", ')', '”', '?', 'erik', 'pevernagie', '==', 'in', 'singapore', '==', 'in', 'an', 'informal', 'survey', 'among', '50', 'employees', 'in', 'singapore', ',', '82', '%', 'said', 'they', 'had', 'experienced', 'toxicity', 'from', 'their', 'direct', 'superior', 'or', 'colleagues', 'in', 'their', 'careers', ',', 'with', 'some', '33.3', '%', 'experiencing', 'it', 'on', 'a', 'daily', 'basis', '.', 'some', 'of', 'the', 'other', 'reports', 'was', 'failing', 'to', 'agree', 'with', 'the', 'boss', 'was', 'considered', 'being', 'a', 'trouble', 'maker', ',', 'always', 'having', 'to', 'give', 'praise', 'to', 'the', 'superior', ',', 'the', 'senior', 'colleague', 'has', 'a', 'tendency', 'to', 'shout', 'at', 'people', '.', 'many', 'respondents', 'reported', 'that', 'they', 'had', 'to', 'quit', 'because', 'of', 'the', 'toxic', 'environment', '.', 'in', 'some', 'cases', 'they', 'were', 'made', 'to', 'feel', 'they', 'were', 'at', 'fault', ',', 'which', 'is', 'why', 'they', 'quit', '<', 'ref', '>', '{', '{', 'cite', 'web|date=2020-01-21|title=toxic', 'workplace', 'cultures', 'in', 'singapore', ':', 'are', 'they', 'more', 'common', 'than', 'we', 'realise', '?', '|url=https', ':', '//www.ricemedia.co/current-affairs-opinion-toxic-workplace-culture-singapore/|access-date=2020-10-19|website=rice|language=en-gb', '}', '}', '<', '/ref', '>', 'in', 'other', 'surveys', ',', 'it', 'is', 'clear', 'that', 'the', 'company', 'is', 'aware', 'but', 'does', 'nothing', ',', 'such', 'as', 'where', 'a', 'singapore', 'economist', 'at', 'a', 'us', 'bank', 'is', 'involved.', '<', 'ref', '>', '{', '{', 'cite', 'web|last=chan|first=melissa|date=2018-04-30|title=5', \"s'poreans\", 'on', 'working', 'for', 'bosses', 'from', 'hell', '-', '``', 'he', 'cut', 'my', 'salary', 'by', '$', '1,000', 'because', 'he', 'felt', 'like', 'it', \"''\", '|url=https', ':', '//vulcanpost.com/638932/singapore-workplace-bullying-experiences/|access-date=2020-10-19|website=vulcan', 'post|language=en-us', '}', '}', '<', '/ref', '>', 'a', 'kantar', 'survey', 'in', '2019', 'suggested', 'that', 'employees', 'in', 'singapore', 'were', 'the', 'most', 'likely', 'to', 'be', 'made', 'to', '``', 'feel', 'uncomfortable', \"''\", 'by', 'their', 'employers', ',', 'compared', 'with', 'those', 'in', 'the', 'other', 'countries', 'that', 'the', 'company', 'polled.', '<', 'ref', '>', '{', '{', 'cite', 'web|title=is', 'workplace', 'bullying', 'the', 'norm', 'in', 'singapore', '?', '|url=https', ':', '//theaseanpost.com/article/workplace-bullying-norm-singapore|access-date=2020-10-19|website=the', 'asean', 'post|language=en', '}', '}', '<', '/ref', '>', '==see', 'also==', '{', '{', 'columns-list|colwidth=30em|', '*', '[', '[', 'harassment', 'in', 'the', 'united', 'kingdom', ']', ']', '*', '[', '[', 'hostile', 'work', 'environment', ']', ']', '*', '[', '[', 'industrial', 'and', 'organizational', 'psychology', ']', ']', '*', '``', '[', '[', 'majrowski', 'v', 'guy', \"'s\", 'and', 'st', 'thomas', \"'\", 'nhs', 'trust', ']', ']', \"''\", '*', '[', '[', 'meritor', 'savings', 'bank', 'v.', 'vinson', ']', ']', '*', '[', '[', 'protection', 'from', 'harassment', 'act', '1997', ']', ']', '*', '[', '[', 'reeves', 'v.', 'c.h', '.', 'robinson', 'worldwide', ',', 'inc.', ']', ']', '*', '[', '[', 'workplace', 'incivility', ']', ']', '*', '[', '[', 'workplace', 'aggression', ']', ']', '*', '[', '[', 'workplace', 'bullying', ']', ']', '}', '}', '==', 'further', 'reading', '==', '*', '{', '{', 'cite', 'book', '|', 'last1', '=', 'boland', '|', 'first1', '=', 'mary', 'l.', '|', 'title', '=', 'sexual', 'harassment', 'in', 'the', 'workplace', '|', 'publisher', '=', 'sphinxlegal', '|', 'isbn', '=', '9781572485273', '|', 'date', '=', '2005', '|', 'url-access', '=', 'registration', '|', 'url', '=', 'https', ':', '//archive.org/details/sexualharassment00bola', '}', '}', '[', 'https', ':', '//books.google.com/books', '?', 'id=6gutul81yc8c', '&', 'printsec=frontcover', 'preview', '.', ']', '*', '{', '{', 'cite', 'book', '|', 'last1', '=', 'einarsen', '|', 'first1', '=', 'ståle', '|', 'last2', '=', 'hoel', '|', 'first2', '=', 'helge', '|', 'last3', '=', 'zapf', '|', 'first3', '=', 'dieter', '|', 'last4', '=', 'cooper', '|', 'first4', '=', 'cary', '|title=bullying', 'and', 'harassment', 'in', 'the', 'workplace', ':', 'developments', 'in', 'theory', ',', 'research', ',', 'and', 'practice', '|', 'edition', '=', '2nd', '|', 'publisher', '=', '[', '[', 'crc', 'press', ']', ']', '|', 'isbn', '=', '9781439804902', '|date=2010', '}', '}', '[', 'https', ':', '//books.google.com/books', '?', 'id=h8qyxahmhuac', '&', 'printsec=frontcover', 'preview', '.', ']', '*', '{', '{', 'cite', 'journal', '|', 'last1', '=', 'nielsen', '|', 'first1', '=', 'morten', 'birkeland', '|', 'last2', '=', 'tangen', '|', 'first2', '=', 'tone', '|', 'last3', '=', 'idsoe', '|', 'first3', '=', 'thormod', '|', 'last4', '=', 'matthiesen', '|', 'first4', '=', 'stig', 'berge', '|', 'last5', '=', 'magerøy', '|', 'first5', '=', 'nils', '|', 'title', '=', 'post-traumatic', 'stress', 'disorder', 'as', 'a', 'consequence', 'of', 'bullying', 'at', 'work', 'and', 'at', 'school', '.', 'a', 'literature', 'review', 'and', 'meta-analysis', '|', 'journal', '=', '[', '[', 'aggression', 'and', 'violent', 'behavior', ']', ']', '|', 'volume', '=', '21', '|', 'pages', '=', '17–24', '|', 'doi', '=', '10.1016/j.avb.2015.01.001', '|', 'date', '=', 'march–april', '2015', '|', 'doi-access', '=', 'free', '}', '}', '==', 'references', '==', '{', '{', 'reflist|30em', '}', '}', '{', '{', 'employment', '}', '}', '{', '{', 'workplace', '}', '}', '[', '[', 'category', ':', 'workplace', ']', ']', '[', '[', 'category', ':', 'harassment', ']', ']', '[', '[', 'category', ':', 'workplace', 'bullying', ']', ']']\n"
     ]
    }
   ],
   "source": [
    "word_tokens = nltk.word_tokenize(raw_data)# converts documents to list of words\n",
    "print (word_tokens)"
   ]
  },
  {
   "cell_type": "code",
   "execution_count": 22,
   "metadata": {},
   "outputs": [],
   "source": [
    "# Use this to check the size of your knowledge base. There should be at least 150 sentence tokens, and if possible, up to 1000\n",
    "# to provide enough context for your chatbot.\n",
    "print(len(sent_tokens), len(word_tokens))"
   ]
  },
  {
   "cell_type": "code",
   "execution_count": 23,
   "metadata": {},
   "outputs": [
    {
     "name": "stdout",
     "output_type": "stream",
     "text": [
      "101 8977\n"
     ]
    }
   ],
   "source": [
    "lemmer = nltk.stem.WordNetLemmatizer() #Initiate lemmer class. WordNet is a semantically-oriented dictionary of English included in NLTK.\n",
    "def LemTokens(tokens):\n",
    "    return [lemmer.lemmatize(token) for token in tokens]"
   ]
  },
  {
   "cell_type": "code",
   "execution_count": 24,
   "metadata": {},
   "outputs": [],
   "source": [
    "remove_punct_dict = dict((ord(punct), None) for punct in string.punctuation)\n",
    "def LemNormalize(text):\n",
    "    return LemTokens(nltk.word_tokenize(text.lower().translate(remove_punct_dict))) #see previous section 1.2.5 lemmatization"
   ]
  },
  {
   "cell_type": "code",
   "execution_count": 25,
   "metadata": {},
   "outputs": [],
   "source": [
    "GREETING_INPUTS = [\"hello\", \"hi\", \"greetings\", \"sup\", \"what's up\",\"hey\", \"hey there\"]\n",
    "GREETING_RESPONSES = [\"hi\", \"hey\", \"*nods*\", \"hi there\", \"hello\", \"I am glad! You are talking to me\"]"
   ]
  },
  {
   "cell_type": "code",
   "execution_count": 26,
   "metadata": {},
   "outputs": [],
   "source": [
    "def greeting(sentence):\n",
    "    for word in sentence.split(): # Looks at each word in your sentence\n",
    "        if word.lower() in GREETING_INPUTS: # checks if the word matches a GREETING_INPUT\n",
    "            return random.choice(GREETING_RESPONSES) # replies with a GREETING_RESPONSE"
   ]
  },
  {
   "cell_type": "code",
   "execution_count": 27,
   "metadata": {},
   "outputs": [],
   "source": [
    "lemmer = nltk.stem.WordNetLemmatizer()\n",
    "#WordNet is a semantically-oriented dictionary of English included in NLTK.\n",
    "def LemTokens(tokens):\n",
    "    return [lemmer.lemmatize(token) for token in tokens]\n",
    "remove_punct_dict = dict((ord(punct), None) for punct in string.punctuation)\n",
    "\n",
    "def LemNormalize(text):\n",
    "    return LemTokens(nltk.word_tokenize(text.lower().translate(remove_punct_dict)))"
   ]
  },
  {
   "cell_type": "code",
   "execution_count": 28,
   "metadata": {},
   "outputs": [],
   "source": [
    "remove_punct_dict = dict((ord(punct), None) for punct in string.punctuation)\n",
    "def LemNormalize(text):\n",
    "    return LemTokens(nltk.word_tokenize(text.lower().translate(remove_punct_dict))) #see previous section 1.2.5 lemmatization"
   ]
  },
  {
   "cell_type": "code",
   "execution_count": 29,
   "metadata": {},
   "outputs": [],
   "source": [
    "remove_punct_dict = dict((ord(punct), None) for punct in string.punctuation)\n",
    "def LemNormalize(text):\n",
    "    return LemTokens(nltk.word_tokenize(text.lower().translate(remove_punct_dict))) #see previous section 1.2.5 lemmatization"
   ]
  },
  {
   "cell_type": "code",
   "execution_count": 30,
   "metadata": {},
   "outputs": [],
   "source": [
    "from sklearn.feature_extraction.text import TfidfVectorizer\n",
    "from sklearn.metrics.pairwise import cosine_similarity"
   ]
  },
  {
   "cell_type": "code",
   "execution_count": 31,
   "metadata": {},
   "outputs": [],
   "source": [
    "def response(user_response):\n",
    "    \n",
    "    cookie_response='' # initialize a variable to contain string\n",
    "    sent_tokens.append(user_response) #add user response to sent_tokens\n",
    "    TfidfVec = TfidfVectorizer(tokenizer=LemNormalize, stop_words='english') \n",
    "    tfidf = TfidfVec.fit_transform(sent_tokens) #get tfidf value\n",
    "    vals = cosine_similarity(tfidf[-1], tfidf) #get cosine similarity value\n",
    "    idx=vals.argsort()[0][-2] \n",
    "    flat = vals.flatten() \n",
    "    flat.sort() #sort in ascending order\n",
    "    req_tfidf = flat[-2] \n",
    "    \n",
    "    if(req_tfidf==0):\n",
    "        robo_response=robo_response+\"I am sorry! I don't understand you\"\n",
    "        return robo_response\n",
    "    else:\n",
    "        cookie_response = cookie_response+sent_tokens[idx]\n",
    "        return cookie_response"
   ]
  },
  {
   "cell_type": "code",
   "execution_count": 32,
   "metadata": {},
   "outputs": [],
   "source": [
    "def greeting(sentence):\n",
    "    for word in sentence.split(): # Looks at each word in your sentence\n",
    "        if word.lower() in GREETING_INPUTS: # checks if the word matches a GREETING_INPUT\n",
    "            return random.choice(GREETING_RESPONSES) # replies with a GREETING_RESPONSE"
   ]
  },
  {
   "cell_type": "code",
   "execution_count": 33,
   "metadata": {},
   "outputs": [],
   "source": [
    "import datetime\n",
    "def tell_time(sentence):\n",
    "    for word in sentence.split():\n",
    "        if word.lower() -- 'time':\n",
    "            currentdt - datetime.datetime.now()\n",
    "            return currentdt.strftime(\"%Y-%n-%d %H:%M:%S\")"
   ]
  },
  {
   "cell_type": "code",
   "execution_count": 34,
   "metadata": {},
   "outputs": [],
   "source": [
    "X = ['Hi',\n",
    "     'Hello',\n",
    "     'How are you?',\n",
    "     'I am making',\n",
    "     'making',\n",
    "     'working',\n",
    "     'studying',\n",
    "     'see you later',\n",
    "     'bye',\n",
    "     'goodbye']"
   ]
  },
  {
   "cell_type": "code",
   "execution_count": 35,
   "metadata": {},
   "outputs": [],
   "source": [
    "Y = ['greeting',\n",
    "     'greeting',\n",
    "     'greeting',\n",
    "     'busy',\n",
    "     'busy',\n",
    "     'busy',\n",
    "     'busy',\n",
    "     'bye',\n",
    "     'bye',\n",
    "     'bye']"
   ]
  },
  {
   "cell_type": "code",
   "execution_count": 36,
   "metadata": {},
   "outputs": [],
   "source": [
    "def remove_non_alpha_numeric_characters(sentence):\n",
    "    new_sentence = ''\n",
    "    for alphabet in sentence:\n",
    "        if alphabet.isalpha() or alphabet == ' ':\n",
    "            new_sentence += alphabet\n",
    "    return new_sentence"
   ]
  },
  {
   "cell_type": "code",
   "execution_count": 37,
   "metadata": {},
   "outputs": [],
   "source": [
    "def preprocess_data(X):\n",
    "    X = [data_point.lower() for data_point in X]\n",
    "    X = [remove_non_alpha_numeric_characters(\n",
    "        sentence) for sentence in X]\n",
    "    X = [data_point.strip() for data_point in X]\n",
    "    X = [re.sub(' +', ' ',\n",
    "                data_point) for data_point in X]\n",
    "    return X"
   ]
  },
  {
   "cell_type": "code",
   "execution_count": 38,
   "metadata": {},
   "outputs": [],
   "source": [
    "X = preprocess_data(X)\n",
    "\n",
    "vocabulary = set()\n",
    "for data_point in X:\n",
    "    for word in data_point.split(' '):\n",
    "        vocabulary.add(word)\n",
    "\n",
    "vocabulary = list(vocabulary)"
   ]
  },
  {
   "cell_type": "code",
   "execution_count": 39,
   "metadata": {},
   "outputs": [],
   "source": [
    "X_encoded = []\n",
    "\n",
    "def encode_sentence(sentence):\n",
    "    sentence = preprocess_data([sentence])[0]\n",
    "    sentence_encoded = [0] * len(vocabulary)\n",
    "    for i in range(len(vocabulary)):\n",
    "        if vocabulary[i] in sentence.split(' '):\n",
    "            sentence_encoded[i] = 1\n",
    "    return sentence_encoded\n",
    "\n",
    "X_encoded = [encode_sentence(sentence) for sentence in X]"
   ]
  },
  {
   "cell_type": "code",
   "execution_count": 40,
   "metadata": {},
   "outputs": [],
   "source": [
    "classes = list(set(Y))\n",
    "\n",
    "Y_encoded = []\n",
    "for data_point in Y:\n",
    "    data_point_encoded = [0] * len(classes)\n",
    "    for i in range(len(classes)):\n",
    "        if classes[i] == data_point:\n",
    "            data_point_encoded[i] = 1\n",
    "    Y_encoded.append(data_point_encoded)"
   ]
  },
  {
   "cell_type": "code",
   "execution_count": 41,
   "metadata": {},
   "outputs": [],
   "source": [
    "X_train = X_encoded\n",
    "y_train = Y_encoded\n",
    "X_test = X_encoded\n",
    "y_test = Y_encoded"
   ]
  },
  {
   "cell_type": "code",
   "execution_count": 42,
   "metadata": {},
   "outputs": [
    {
     "name": "stdout",
     "output_type": "stream",
     "text": [
      "Epoch 1/100\n",
      "1/1 [==============================] - 2s 2s/step - loss: 1.3244\n",
      "Epoch 2/100\n",
      "1/1 [==============================] - 0s 11ms/step - loss: 1.2901\n",
      "Epoch 3/100\n",
      "1/1 [==============================] - 0s 4ms/step - loss: 1.2467\n",
      "Epoch 4/100\n",
      "1/1 [==============================] - 0s 3ms/step - loss: 1.2008\n",
      "Epoch 5/100\n",
      "1/1 [==============================] - 0s 4ms/step - loss: 1.1588\n",
      "Epoch 6/100\n",
      "1/1 [==============================] - 0s 9ms/step - loss: 1.1260\n",
      "Epoch 7/100\n",
      "1/1 [==============================] - 0s 5ms/step - loss: 1.1055\n",
      "Epoch 8/100\n",
      "1/1 [==============================] - 0s 5ms/step - loss: 1.0972\n",
      "Epoch 9/100\n",
      "1/1 [==============================] - 0s 4ms/step - loss: 1.0983\n",
      "Epoch 10/100\n",
      "1/1 [==============================] - 0s 4ms/step - loss: 1.1046\n",
      "Epoch 11/100\n",
      "1/1 [==============================] - 0s 4ms/step - loss: 1.1119\n",
      "Epoch 12/100\n",
      "1/1 [==============================] - 0s 3ms/step - loss: 1.1170\n",
      "Epoch 13/100\n",
      "1/1 [==============================] - 0s 3ms/step - loss: 1.1182\n",
      "Epoch 14/100\n",
      "1/1 [==============================] - 0s 3ms/step - loss: 1.1155\n",
      "Epoch 15/100\n",
      "1/1 [==============================] - 0s 7ms/step - loss: 1.1095\n",
      "Epoch 16/100\n",
      "1/1 [==============================] - 0s 6ms/step - loss: 1.1019\n",
      "Epoch 17/100\n",
      "1/1 [==============================] - 0s 4ms/step - loss: 1.0940\n",
      "Epoch 18/100\n",
      "1/1 [==============================] - 0s 5ms/step - loss: 1.0870\n",
      "Epoch 19/100\n",
      "1/1 [==============================] - 0s 10ms/step - loss: 1.0815\n",
      "Epoch 20/100\n",
      "1/1 [==============================] - 0s 7ms/step - loss: 1.0778\n",
      "Epoch 21/100\n",
      "1/1 [==============================] - 0s 4ms/step - loss: 1.0754\n",
      "Epoch 22/100\n",
      "1/1 [==============================] - 0s 6ms/step - loss: 1.0740\n",
      "Epoch 23/100\n",
      "1/1 [==============================] - 0s 4ms/step - loss: 1.0730\n",
      "Epoch 24/100\n",
      "1/1 [==============================] - 0s 6ms/step - loss: 1.0720\n",
      "Epoch 25/100\n",
      "1/1 [==============================] - 0s 13ms/step - loss: 1.0708\n",
      "Epoch 26/100\n",
      "1/1 [==============================] - 0s 4ms/step - loss: 1.0690\n",
      "Epoch 27/100\n",
      "1/1 [==============================] - 0s 6ms/step - loss: 1.0669\n",
      "Epoch 28/100\n",
      "1/1 [==============================] - 0s 4ms/step - loss: 1.0644\n",
      "Epoch 29/100\n",
      "1/1 [==============================] - 0s 5ms/step - loss: 1.0618\n",
      "Epoch 30/100\n",
      "1/1 [==============================] - 0s 7ms/step - loss: 1.0591\n",
      "Epoch 31/100\n",
      "1/1 [==============================] - 0s 9ms/step - loss: 1.0566\n",
      "Epoch 32/100\n",
      "1/1 [==============================] - 0s 6ms/step - loss: 1.0542\n",
      "Epoch 33/100\n",
      "1/1 [==============================] - 0s 5ms/step - loss: 1.0520\n",
      "Epoch 34/100\n",
      "1/1 [==============================] - 0s 5ms/step - loss: 1.0499\n",
      "Epoch 35/100\n",
      "1/1 [==============================] - 0s 8ms/step - loss: 1.0480\n",
      "Epoch 36/100\n",
      "1/1 [==============================] - 0s 10ms/step - loss: 1.0461\n",
      "Epoch 37/100\n",
      "1/1 [==============================] - 0s 5ms/step - loss: 1.0442\n",
      "Epoch 38/100\n",
      "1/1 [==============================] - 0s 4ms/step - loss: 1.0423\n",
      "Epoch 39/100\n",
      "1/1 [==============================] - 0s 4ms/step - loss: 1.0403\n",
      "Epoch 40/100\n",
      "1/1 [==============================] - 0s 7ms/step - loss: 1.0383\n",
      "Epoch 41/100\n",
      "1/1 [==============================] - 0s 7ms/step - loss: 1.0362\n",
      "Epoch 42/100\n",
      "1/1 [==============================] - 0s 6ms/step - loss: 1.0341\n",
      "Epoch 43/100\n",
      "1/1 [==============================] - 0s 6ms/step - loss: 1.0320\n",
      "Epoch 44/100\n",
      "1/1 [==============================] - 0s 6ms/step - loss: 1.0300\n",
      "Epoch 45/100\n",
      "1/1 [==============================] - 0s 6ms/step - loss: 1.0279\n",
      "Epoch 46/100\n",
      "1/1 [==============================] - 0s 5ms/step - loss: 1.0259\n",
      "Epoch 47/100\n",
      "1/1 [==============================] - 0s 8ms/step - loss: 1.0239\n",
      "Epoch 48/100\n",
      "1/1 [==============================] - 0s 4ms/step - loss: 1.0219\n",
      "Epoch 49/100\n",
      "1/1 [==============================] - 0s 8ms/step - loss: 1.0199\n",
      "Epoch 50/100\n",
      "1/1 [==============================] - 0s 5ms/step - loss: 1.0179\n",
      "Epoch 51/100\n",
      "1/1 [==============================] - 0s 8ms/step - loss: 1.0159\n",
      "Epoch 52/100\n",
      "1/1 [==============================] - 0s 8ms/step - loss: 1.0139\n",
      "Epoch 53/100\n",
      "1/1 [==============================] - 0s 4ms/step - loss: 1.0118\n",
      "Epoch 54/100\n",
      "1/1 [==============================] - 0s 5ms/step - loss: 1.0098\n",
      "Epoch 55/100\n",
      "1/1 [==============================] - 0s 4ms/step - loss: 1.0078\n",
      "Epoch 56/100\n",
      "1/1 [==============================] - 0s 4ms/step - loss: 1.0058\n",
      "Epoch 57/100\n",
      "1/1 [==============================] - 0s 8ms/step - loss: 1.0037\n",
      "Epoch 58/100\n",
      "1/1 [==============================] - 0s 5ms/step - loss: 1.0017\n",
      "Epoch 59/100\n",
      "1/1 [==============================] - 0s 5ms/step - loss: 0.9997\n",
      "Epoch 60/100\n",
      "1/1 [==============================] - 0s 6ms/step - loss: 0.9977\n",
      "Epoch 61/100\n",
      "1/1 [==============================] - 0s 5ms/step - loss: 0.9956\n",
      "Epoch 62/100\n",
      "1/1 [==============================] - 0s 5ms/step - loss: 0.9936\n",
      "Epoch 63/100\n",
      "1/1 [==============================] - 0s 7ms/step - loss: 0.9916\n",
      "Epoch 64/100\n",
      "1/1 [==============================] - 0s 3ms/step - loss: 0.9895\n",
      "Epoch 65/100\n",
      "1/1 [==============================] - 0s 5ms/step - loss: 0.9875\n",
      "Epoch 66/100\n",
      "1/1 [==============================] - 0s 4ms/step - loss: 0.9855\n",
      "Epoch 67/100\n",
      "1/1 [==============================] - 0s 5ms/step - loss: 0.9834\n",
      "Epoch 68/100\n",
      "1/1 [==============================] - 0s 4ms/step - loss: 0.9814\n",
      "Epoch 69/100\n",
      "1/1 [==============================] - 0s 4ms/step - loss: 0.9793\n",
      "Epoch 70/100\n",
      "1/1 [==============================] - 0s 4ms/step - loss: 0.9773\n",
      "Epoch 71/100\n",
      "1/1 [==============================] - ETA: 0s - loss: 0.975 - 0s 9ms/step - loss: 0.9752\n",
      "Epoch 72/100\n",
      "1/1 [==============================] - 0s 3ms/step - loss: 0.9732\n",
      "Epoch 73/100\n",
      "1/1 [==============================] - 0s 5ms/step - loss: 0.9711\n",
      "Epoch 74/100\n",
      "1/1 [==============================] - 0s 3ms/step - loss: 0.9690\n",
      "Epoch 75/100\n",
      "1/1 [==============================] - 0s 4ms/step - loss: 0.9670\n",
      "Epoch 76/100\n",
      "1/1 [==============================] - 0s 4ms/step - loss: 0.9649\n",
      "Epoch 77/100\n",
      "1/1 [==============================] - 0s 3ms/step - loss: 0.9628\n",
      "Epoch 78/100\n",
      "1/1 [==============================] - 0s 3ms/step - loss: 0.9608\n",
      "Epoch 79/100\n",
      "1/1 [==============================] - 0s 4ms/step - loss: 0.9587\n",
      "Epoch 80/100\n",
      "1/1 [==============================] - 0s 5ms/step - loss: 0.9566\n",
      "Epoch 81/100\n",
      "1/1 [==============================] - 0s 5ms/step - loss: 0.9545\n",
      "Epoch 82/100\n",
      "1/1 [==============================] - 0s 4ms/step - loss: 0.9524\n",
      "Epoch 83/100\n",
      "1/1 [==============================] - 0s 5ms/step - loss: 0.9503\n",
      "Epoch 84/100\n",
      "1/1 [==============================] - 0s 5ms/step - loss: 0.9482\n",
      "Epoch 85/100\n",
      "1/1 [==============================] - 0s 5ms/step - loss: 0.9461\n",
      "Epoch 86/100\n",
      "1/1 [==============================] - 0s 4ms/step - loss: 0.9440\n",
      "Epoch 87/100\n",
      "1/1 [==============================] - 0s 3ms/step - loss: 0.9419\n",
      "Epoch 88/100\n",
      "1/1 [==============================] - 0s 3ms/step - loss: 0.9397\n",
      "Epoch 89/100\n",
      "1/1 [==============================] - 0s 4ms/step - loss: 0.9376\n",
      "Epoch 90/100\n",
      "1/1 [==============================] - 0s 3ms/step - loss: 0.9355\n",
      "Epoch 91/100\n",
      "1/1 [==============================] - 0s 4ms/step - loss: 0.9333\n",
      "Epoch 92/100\n",
      "1/1 [==============================] - 0s 3ms/step - loss: 0.9312\n",
      "Epoch 93/100\n",
      "1/1 [==============================] - 0s 3ms/step - loss: 0.9291\n",
      "Epoch 94/100\n",
      "1/1 [==============================] - 0s 4ms/step - loss: 0.9269\n",
      "Epoch 95/100\n",
      "1/1 [==============================] - 0s 5ms/step - loss: 0.9247\n",
      "Epoch 96/100\n",
      "1/1 [==============================] - 0s 64ms/step - loss: 0.9226\n",
      "Epoch 97/100\n",
      "1/1 [==============================] - 0s 4ms/step - loss: 0.9204\n",
      "Epoch 98/100\n",
      "1/1 [==============================] - 0s 4ms/step - loss: 0.9182\n",
      "Epoch 99/100\n",
      "1/1 [==============================] - 0s 4ms/step - loss: 0.9161\n",
      "Epoch 100/100\n",
      "1/1 [==============================] - 0s 3ms/step - loss: 0.9139\n"
     ]
    },
    {
     "data": {
      "text/plain": [
       "<tensorflow.python.keras.callbacks.History at 0xe9bdb24fa0>"
      ]
     },
     "execution_count": 42,
     "metadata": {},
     "output_type": "execute_result"
    }
   ],
   "source": [
    "model = Sequential()\n",
    "model.add(Dense(units=64, activation='sigmoid',\n",
    "                input_dim=len(X_train[0])))\n",
    "model.add(Dense(units=len(y_train[0]), activation='softmax'))\n",
    "model.compile(loss=categorical_crossentropy,\n",
    "              optimizer=SGD(lr=0.01,\n",
    "                            momentum=0.9, nesterov=True))\n",
    "model.fit(np.array(X_train), np.array(y_train), epochs=100, batch_size=16)"
   ]
  },
  {
   "cell_type": "code",
   "execution_count": 43,
   "metadata": {},
   "outputs": [],
   "source": [
    "predictions = [argmax(pred) for pred in model.predict(np.array(X_test))]"
   ]
  },
  {
   "cell_type": "code",
   "execution_count": 44,
   "metadata": {},
   "outputs": [
    {
     "name": "stdout",
     "output_type": "stream",
     "text": [
      "Correct: 6\n",
      "Total: 10\n"
     ]
    }
   ],
   "source": [
    "correct = 0\n",
    "for i in range(len(predictions)):\n",
    "    if predictions[i] == argmax(y_test[i]):\n",
    "        correct += 1\n",
    "\n",
    "print (\"Correct:\", correct)\n",
    "print (\"Total:\", len(predictions))"
   ]
  },
  {
   "cell_type": "code",
   "execution_count": null,
   "metadata": {},
   "outputs": [
    {
     "name": "stdout",
     "output_type": "stream",
     "text": [
      "COOKIE: My name is Cookie. I will answer your queries about Workplace harassment. If you want to exit, type Bye!\n",
      "hi\n",
      "cookie: hi\n",
      "what is sexual harassment\n",
      "cookie: the workers would have to accept the sexual harassment from customers as \"part of the job\", or report the sexual harassment to the manager and get fired.<ref name=\"williams\" /> adding onto the pressure, reporting sexual assault comes with criticism from co-workers, as they see the sexual assault as part of the job requirement.<ref name=\"williams\" />\n",
      "\n",
      "{{see also|sexual harassment in the workplace in the united states}}\n",
      "the prevalence of sexual harassment at work is high.\n"
     ]
    }
   ],
   "source": [
    "flag=True\n",
    "print(\"COOKIE: My name is Cookie. I will answer your queries about Workplace harassment. If you want to exit, type Bye!\")\n",
    "while(flag==True):\n",
    "    user_response = input()\n",
    "    user_response=user_response.lower()\n",
    "    if(user_response!='bye'):\n",
    "        if(user_response=='thanks' or user_response=='thank you' ):\n",
    "            flag=False\n",
    "            print(\"cookie: You are welcome..\")\n",
    "        else:\n",
    "            if(greeting(user_response)!=None):\n",
    "                print(\"cookie: \"+greeting(user_response))\n",
    "            else:\n",
    "                print(\"cookie: \",end=\"\")\n",
    "                print(response(user_response))\n",
    "                sent_tokens.remove(user_response)\n",
    "    else:\n",
    "        flag=False\n",
    "        print(\"Cookie: Bye! take care..\")    \n",
    "        "
   ]
  },
  {
   "cell_type": "code",
   "execution_count": null,
   "metadata": {},
   "outputs": [],
   "source": []
  }
 ],
 "metadata": {
  "kernelspec": {
   "display_name": "Python 3",
   "language": "python",
   "name": "python3"
  },
  "language_info": {
   "codemirror_mode": {
    "name": "ipython",
    "version": 3
   },
   "file_extension": ".py",
   "mimetype": "text/x-python",
   "name": "python",
   "nbconvert_exporter": "python",
   "pygments_lexer": "ipython3",
   "version": "3.8.5"
  }
 },
 "nbformat": 4,
 "nbformat_minor": 4
}

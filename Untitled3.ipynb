{
 "cells": [
  {
   "cell_type": "markdown",
   "metadata": {},
   "source": [
    "# building a chatbot"
   ]
  },
  {
   "cell_type": "code",
   "execution_count": 1,
   "metadata": {},
   "outputs": [],
   "source": [
    "import nltk\n",
    "import numpy as np\n",
    "import random\n",
    "import string\n",
    "import bs4 as bs\n",
    "import urllib.request\n",
    "import re\n",
    "from keras.models import Sequential\n",
    "from keras.losses import categorical_crossentropy\n",
    "from keras.optimizers import SGD\n",
    "from keras.layers import Dense\n",
    "from numpy import argmax"
   ]
  },
  {
   "cell_type": "code",
   "execution_count": 2,
   "metadata": {},
   "outputs": [
    {
     "name": "stdout",
     "output_type": "stream",
     "text": [
      "You have successfully imported pandas version 1.1.3\n",
      "You have successfully imported nltk version 3.5\n"
     ]
    }
   ],
   "source": [
    "import pandas as pd\n",
    "import nltk\n",
    "\n",
    "print (\"You have successfully imported pandas version \"+pd.__version__)\n",
    "print (\"You have successfully imported nltk version \"+nltk.__version__)"
   ]
  },
  {
   "cell_type": "code",
   "execution_count": 3,
   "metadata": {},
   "outputs": [
    {
     "name": "stdout",
     "output_type": "stream",
     "text": [
      "You have successfully loaded your csv file\n"
     ]
    }
   ],
   "source": [
    "# load the csv file that contains the tweets on natural disasters into a pandas dataframe\n",
    "df_raw = pd.read_csv('./analysis-public-place-assaults-sexual-assaults-and-robberies-2015-csv.csv', encoding='latin-1')\n",
    "\n",
    "print (\"You have successfully loaded your csv file\")"
   ]
  },
  {
   "cell_type": "code",
   "execution_count": 4,
   "metadata": {},
   "outputs": [
    {
     "data": {
      "text/html": [
       "<div>\n",
       "<style scoped>\n",
       "    .dataframe tbody tr th:only-of-type {\n",
       "        vertical-align: middle;\n",
       "    }\n",
       "\n",
       "    .dataframe tbody tr th {\n",
       "        vertical-align: top;\n",
       "    }\n",
       "\n",
       "    .dataframe thead th {\n",
       "        text-align: right;\n",
       "    }\n",
       "</style>\n",
       "<table border=\"1\" class=\"dataframe\">\n",
       "  <thead>\n",
       "    <tr style=\"text-align: right;\">\n",
       "      <th></th>\n",
       "      <th>Index</th>\n",
       "      <th>Area_unit_2013_code</th>\n",
       "      <th>Area_unit_2013_label</th>\n",
       "      <th>Victimisations_calendar_year_2015</th>\n",
       "      <th>Population_mid_point_2015</th>\n",
       "      <th>Rate_per_10000_population</th>\n",
       "      <th>Rate_ratio_NZ_average_rate</th>\n",
       "      <th>Urban_area_2013_code</th>\n",
       "      <th>Urban_area_2013_label</th>\n",
       "      <th>Urban_area_type</th>\n",
       "      <th>Territorial_authority_area_2013_code</th>\n",
       "      <th>Territorial_authority_area_2013_label</th>\n",
       "      <th>Region_2013_code</th>\n",
       "      <th>Region_2013_label</th>\n",
       "    </tr>\n",
       "  </thead>\n",
       "  <tbody>\n",
       "    <tr>\n",
       "      <th>0</th>\n",
       "      <td>1</td>\n",
       "      <td>514102</td>\n",
       "      <td>Auckland Central West</td>\n",
       "      <td>550</td>\n",
       "      <td>15900</td>\n",
       "      <td>346</td>\n",
       "      <td>6.6</td>\n",
       "      <td>4</td>\n",
       "      <td>Central Auckland Zone</td>\n",
       "      <td>Main urban area</td>\n",
       "      <td>76</td>\n",
       "      <td>Auckland</td>\n",
       "      <td>2</td>\n",
       "      <td>Auckland Region</td>\n",
       "    </tr>\n",
       "    <tr>\n",
       "      <th>1</th>\n",
       "      <td>2</td>\n",
       "      <td>573101</td>\n",
       "      <td>Willis Street-Cambridge Terrace</td>\n",
       "      <td>447</td>\n",
       "      <td>8300</td>\n",
       "      <td>539</td>\n",
       "      <td>10.3</td>\n",
       "      <td>20</td>\n",
       "      <td>Wellington Zone</td>\n",
       "      <td>Main urban area</td>\n",
       "      <td>47</td>\n",
       "      <td>Wellington City</td>\n",
       "      <td>9</td>\n",
       "      <td>Wellington Region</td>\n",
       "    </tr>\n",
       "    <tr>\n",
       "      <th>2</th>\n",
       "      <td>3</td>\n",
       "      <td>529700</td>\n",
       "      <td>Hamilton Central</td>\n",
       "      <td>380</td>\n",
       "      <td>3170</td>\n",
       "      <td>1,199</td>\n",
       "      <td>22.9</td>\n",
       "      <td>6</td>\n",
       "      <td>Hamilton Zone</td>\n",
       "      <td>Main urban area</td>\n",
       "      <td>16</td>\n",
       "      <td>Hamilton City</td>\n",
       "      <td>3</td>\n",
       "      <td>Waikato Region</td>\n",
       "    </tr>\n",
       "    <tr>\n",
       "      <th>3</th>\n",
       "      <td>4</td>\n",
       "      <td>514103</td>\n",
       "      <td>Auckland Central East</td>\n",
       "      <td>375</td>\n",
       "      <td>13250</td>\n",
       "      <td>283</td>\n",
       "      <td>5.4</td>\n",
       "      <td>4</td>\n",
       "      <td>Central Auckland Zone</td>\n",
       "      <td>Main urban area</td>\n",
       "      <td>76</td>\n",
       "      <td>Auckland</td>\n",
       "      <td>2</td>\n",
       "      <td>Auckland Region</td>\n",
       "    </tr>\n",
       "    <tr>\n",
       "      <th>4</th>\n",
       "      <td>5</td>\n",
       "      <td>591500</td>\n",
       "      <td>Cathedral Square</td>\n",
       "      <td>305</td>\n",
       "      <td>570</td>\n",
       "      <td>5,351</td>\n",
       "      <td>102.3</td>\n",
       "      <td>22</td>\n",
       "      <td>Christchurch</td>\n",
       "      <td>Main urban area</td>\n",
       "      <td>60</td>\n",
       "      <td>Christchurch City</td>\n",
       "      <td>13</td>\n",
       "      <td>Canterbury Region</td>\n",
       "    </tr>\n",
       "  </tbody>\n",
       "</table>\n",
       "</div>"
      ],
      "text/plain": [
       "   Index  Area_unit_2013_code             Area_unit_2013_label  \\\n",
       "0      1               514102            Auckland Central West   \n",
       "1      2               573101  Willis Street-Cambridge Terrace   \n",
       "2      3               529700                 Hamilton Central   \n",
       "3      4               514103            Auckland Central East   \n",
       "4      5               591500                 Cathedral Square   \n",
       "\n",
       "   Victimisations_calendar_year_2015  Population_mid_point_2015  \\\n",
       "0                                550                      15900   \n",
       "1                                447                       8300   \n",
       "2                                380                       3170   \n",
       "3                                375                      13250   \n",
       "4                                305                        570   \n",
       "\n",
       "   Rate_per_10000_population   Rate_ratio_NZ_average_rate   \\\n",
       "0                         346                          6.6   \n",
       "1                         539                         10.3   \n",
       "2                       1,199                         22.9   \n",
       "3                         283                          5.4   \n",
       "4                       5,351                        102.3   \n",
       "\n",
       "   Urban_area_2013_code  Urban_area_2013_label  Urban_area_type  \\\n",
       "0                     4  Central Auckland Zone  Main urban area   \n",
       "1                    20        Wellington Zone  Main urban area   \n",
       "2                     6          Hamilton Zone  Main urban area   \n",
       "3                     4  Central Auckland Zone  Main urban area   \n",
       "4                    22           Christchurch  Main urban area   \n",
       "\n",
       "   Territorial_authority_area_2013_code Territorial_authority_area_2013_label  \\\n",
       "0                                    76                              Auckland   \n",
       "1                                    47                       Wellington City   \n",
       "2                                    16                         Hamilton City   \n",
       "3                                    76                              Auckland   \n",
       "4                                    60                     Christchurch City   \n",
       "\n",
       "   Region_2013_code  Region_2013_label  \n",
       "0                 2    Auckland Region  \n",
       "1                 9  Wellington Region  \n",
       "2                 3     Waikato Region  \n",
       "3                 2    Auckland Region  \n",
       "4                13  Canterbury Region  "
      ]
     },
     "execution_count": 4,
     "metadata": {},
     "output_type": "execute_result"
    }
   ],
   "source": [
    "df_raw.head(5)"
   ]
  },
  {
   "cell_type": "code",
   "execution_count": 5,
   "metadata": {},
   "outputs": [
    {
     "data": {
      "text/plain": [
       "2020"
      ]
     },
     "execution_count": 5,
     "metadata": {},
     "output_type": "execute_result"
    }
   ],
   "source": [
    "len(df_raw)"
   ]
  },
  {
   "cell_type": "code",
   "execution_count": 6,
   "metadata": {},
   "outputs": [
    {
     "data": {
      "text/plain": [
       "0                 Auckland\n",
       "1          Wellington City\n",
       "2            Hamilton City\n",
       "3                 Auckland\n",
       "4        Christchurch City\n",
       "5                 Auckland\n",
       "6                 Auckland\n",
       "7    Palmerston North City\n",
       "Name: Territorial_authority_area_2013_label, dtype: object"
      ]
     },
     "execution_count": 6,
     "metadata": {},
     "output_type": "execute_result"
    }
   ],
   "source": [
    "df_raw['Territorial_authority_area_2013_label'].head(8)"
   ]
  },
  {
   "cell_type": "code",
   "execution_count": 7,
   "metadata": {},
   "outputs": [
    {
     "name": "stdout",
     "output_type": "stream",
     "text": [
      "Before tokenization: Index                                                       101\n",
      "Area_unit_2013_code                                      524112\n",
      "Area_unit_2013_label                                     Mascot\n",
      "Victimisations_calendar_year_2015                            43\n",
      "Population_mid_point_2015                                  4410\n",
      " Rate_per_10000_population                                   98\n",
      " Rate_ratio_NZ_average_rate                                 1.9\n",
      "Urban_area_2013_code                                          5\n",
      "Urban_area_2013_label                    Southern Auckland Zone\n",
      "Urban_area_type                                 Main urban area\n",
      "Territorial_authority_area_2013_code                         76\n",
      "Territorial_authority_area_2013_label                  Auckland\n",
      "Region_2013_code                                              2\n",
      "Region_2013_label                               Auckland Region\n",
      "Name: 100, dtype: object\n"
     ]
    }
   ],
   "source": [
    "sample_tweet = df_raw.iloc[100]\n",
    "print('Before tokenization:', sample_tweet)"
   ]
  },
  {
   "cell_type": "code",
   "execution_count": 8,
   "metadata": {},
   "outputs": [
    {
     "name": "stdout",
     "output_type": "stream",
     "text": [
      "After tokenization: Index                                                       101\n",
      "Area_unit_2013_code                                      524112\n",
      "Area_unit_2013_label                                     Mascot\n",
      "Victimisations_calendar_year_2015                            43\n",
      "Population_mid_point_2015                                  4410\n",
      " Rate_per_10000_population                                   98\n",
      " Rate_ratio_NZ_average_rate                                 1.9\n",
      "Urban_area_2013_code                                          5\n",
      "Urban_area_2013_label                    Southern Auckland Zone\n",
      "Urban_area_type                                 Main urban area\n",
      "Territorial_authority_area_2013_code                         76\n",
      "Territorial_authority_area_2013_label                  Auckland\n",
      "Region_2013_code                                              2\n",
      "Region_2013_label                               Auckland Region\n",
      "Name: 100, dtype: object\n"
     ]
    }
   ],
   "source": [
    "sample_tweet = df_raw.iloc[100]\n",
    "print('After tokenization:', sample_tweet)"
   ]
  },
  {
   "cell_type": "code",
   "execution_count": 9,
   "metadata": {},
   "outputs": [],
   "source": [
    "# Let us take two sentences to be the knowledge base, and one more which is a question.\n",
    "Sentence_1='Workplace harassment is the belittling or threatening behavior directed at an individual worker or a group of workers'\n",
    "Sentence_2='Physical harassment in the workplace takes many forms'\n",
    "Question='In an informal survey among 50 employees in Singapore'"
   ]
  },
  {
   "cell_type": "code",
   "execution_count": 10,
   "metadata": {},
   "outputs": [],
   "source": [
    "Vocabulary = ['workplace', 'is', 'among', 'informal', 'forms', 'individual', 'group']"
   ]
  },
  {
   "cell_type": "code",
   "execution_count": 11,
   "metadata": {},
   "outputs": [],
   "source": [
    "bag_of_words = np.array([[1,1,1,1,0,0,0],\n",
    "                        [0,1,1,0,1,1,0],\n",
    "                        [0,1,1,1,0,0,1]])"
   ]
  },
  {
   "cell_type": "code",
   "execution_count": 12,
   "metadata": {},
   "outputs": [
    {
     "data": {
      "text/plain": [
       "array([[1, 1, 1, 1, 0, 0, 0],\n",
       "       [0, 1, 1, 0, 1, 1, 0],\n",
       "       [0, 1, 1, 1, 0, 0, 1]])"
      ]
     },
     "execution_count": 12,
     "metadata": {},
     "output_type": "execute_result"
    }
   ],
   "source": [
    "bag_of_words[:3,:]"
   ]
  },
  {
   "cell_type": "code",
   "execution_count": 13,
   "metadata": {},
   "outputs": [
    {
     "name": "stdout",
     "output_type": "stream",
     "text": [
      "[[0 1 1 1 0 0 1]]\n"
     ]
    }
   ],
   "source": [
    "print (bag_of_words[-1,:].reshape(1, -1))"
   ]
  },
  {
   "cell_type": "code",
   "execution_count": 14,
   "metadata": {},
   "outputs": [
    {
     "data": {
      "image/png": "[encoded data removed]",
      "text/plain": [
       "<Figure size 432x288 with 1 Axes>"
      ]
     },
     "metadata": {
      "needs_background": "light"
     },
     "output_type": "display_data"
    }
   ],
   "source": [
    "import matplotlib.pyplot as plt\n",
    "mu, sigma = 100, 15\n",
    "x = mu + sigma * np.random.randn(10000)\n",
    "\n",
    "# the histogram of the data\n",
    "n, bins, patches = plt.hist(x, 50, density=1, facecolor='g', alpha=0.75)\n",
    "plt.xlabel('workplace')\n",
    "plt.ylabel('gender ratio')\n",
    "plt.title('Histogram of sexual harassments')\n",
    "plt.text(60, .025, r'$\\mu=100,\\ \\sigma=15$')\n",
    "plt.axis([40, 160, 0, 0.03])\n",
    "plt.grid(True)\n",
    "plt.show()"
   ]
  },
  {
   "cell_type": "code",
   "execution_count": 15,
   "metadata": {},
   "outputs": [],
   "source": [
    "import io\n",
    "import random\n",
    "import string # to process standard python strings\n",
    "import warnings\n",
    "import numpy as np\n",
    "from sklearn.feature_extraction.text import TfidfVectorizer\n",
    "from sklearn.metrics.pairwise import cosine_similarity\n",
    "import warnings\n",
    "warnings.filterwarnings('ignore')"
   ]
  },
  {
   "cell_type": "code",
   "execution_count": 16,
   "metadata": {},
   "outputs": [
    {
     "data": {
      "text/plain": [
       "True"
      ]
     },
     "execution_count": 16,
     "metadata": {},
     "output_type": "execute_result"
    }
   ],
   "source": [
    "import nltk\n",
    "from nltk.stem import WordNetLemmatizer\n",
    "nltk.download('popular', quiet=True) # for downloading packages\n",
    "#nltk.download('punkt') # first-time use only\n",
    "#nltk.download('wordnet') # first-time use only"
   ]
  },
  {
   "cell_type": "code",
   "execution_count": 17,
   "metadata": {},
   "outputs": [],
   "source": [
    "f=open('workplace harassment.txt','r',errors = 'ignore')\n",
    "raw=f.read()\n",
    "raw = raw.lower()# converts to lowercase"
   ]
  },
  {
   "cell_type": "code",
   "execution_count": 18,
   "metadata": {},
   "outputs": [],
   "source": [
    "sent_tokens = nltk.sent_tokenize(raw)# converts to list of sentences \n",
    "word_tokens = nltk.word_tokenize(raw)# converts to list of words"
   ]
  },
  {
   "cell_type": "code",
   "execution_count": 19,
   "metadata": {},
   "outputs": [],
   "source": [
    "lemmer = nltk.stem.WordNetLemmatizer()\n",
    "#WordNet is a semantically-oriented dictionary of English included in NLTK.\n",
    "def LemTokens(tokens):\n",
    "    return [lemmer.lemmatize(token) for token in tokens]\n",
    "remove_punct_dict = dict((ord(punct), None) for punct in string.punctuation)\n",
    "\n",
    "def LemNormalize(text):\n",
    "    return LemTokens(nltk.word_tokenize(text.lower().translate(remove_punct_dict)))"
   ]
  },
  {
   "cell_type": "code",
   "execution_count": 20,
   "metadata": {},
   "outputs": [],
   "source": [
    "remove_punct_dict = dict((ord(punct), None) for punct in string.punctuation)\n",
    "def LemNormalize(text):\n",
    "    return LemTokens(nltk.word_tokenize(text.lower().translate(remove_punct_dict))) #see previous section 1.2.5 lemmatization"
   ]
  },
  {
   "cell_type": "code",
   "execution_count": 21,
   "metadata": {},
   "outputs": [],
   "source": [
    "GREETING_INPUTS = (\"hello\", \"hi\", \"greetings\", \"sup\", \"what's up\",\"hey\",)\n",
    "GREETING_RESPONSES = [\"hi\", \"hey\", \"*nods*\", \"hi there\", \"hello\", \"I am glad! You are talking to me\"]\n",
    "def greeting(sentence):\n",
    " \n",
    "    for word in sentence.split():\n",
    "        if word.lower() in GREETING_INPUTS:\n",
    "            return random.choice(GREETING_RESPONSES)"
   ]
  },
  {
   "cell_type": "code",
   "execution_count": 22,
   "metadata": {},
   "outputs": [],
   "source": [
    "from sklearn.feature_extraction.text import TfidfVectorizer\n",
    "from sklearn.metrics.pairwise import cosine_similarity"
   ]
  },
  {
   "cell_type": "code",
   "execution_count": 23,
   "metadata": {},
   "outputs": [],
   "source": [
    "def generate_response(user_input):\n",
    "    cookie_response = ''\n",
    "    article_sentences.append(user_input)\n",
    "\n",
    "    word_vectorizer = TfidfVectorizer(tokenizer=get_processed_text, stop_words='english')\n",
    "    all_word_vectors = word_vectorizer.fit_transform(article_sentences)\n",
    "    similar_vector_values = cosine_similarity(all_word_vectors[-1], all_word_vectors)\n",
    "    similar_sentence_number = similar_vector_values.argsort()[0][-2]\n",
    "\n",
    "    matched_vector = similar_vector_values.flatten()\n",
    "    matched_vector.sort()\n",
    "    vector_matched = matched_vector[-2]\n",
    "\n",
    "    if vector_matched == 0:\n",
    "        cookie_response = cookie_response + \"I am sorry, I could not understand you\"\n",
    "        return cookie_response\n",
    "    else:\n",
    "        cookie_response = cookie_response + article_sentences[similar_sentence_number]\n",
    "        return cookie_response"
   ]
  },
  {
   "cell_type": "code",
   "execution_count": 24,
   "metadata": {},
   "outputs": [],
   "source": [
    "def greeting(sentence):\n",
    "    for word in sentence.split(): # Looks at each word in your sentence\n",
    "        if word.lower() in GREETING_INPUTS: # checks if the word matches a GREETING_INPUT\n",
    "            return random.choice(GREETING_RESPONSES) # replies with a GREETING_RESPONSE"
   ]
  },
  {
   "cell_type": "code",
   "execution_count": 25,
   "metadata": {},
   "outputs": [],
   "source": [
    "def response(user_response):\n",
    "    \n",
    "    cookie_response='' # initialize a variable to contain string\n",
    "    sent_tokens.append(user_response) #add user response to sent_tokens\n",
    "    TfidfVec = TfidfVectorizer(tokenizer=LemNormalize, stop_words='english') \n",
    "    tfidf = TfidfVec.fit_transform(sent_tokens) #get tfidf value\n",
    "    vals = cosine_similarity(tfidf[-1], tfidf) #get cosine similarity value\n",
    "    idx=vals.argsort()[0][-2] \n",
    "    flat = vals.flatten() \n",
    "    flat.sort() #sort in ascending order\n",
    "    req_tfidf = flat[-2] \n",
    "    \n",
    "    if(req_tfidf==0):\n",
    "        cookie_response=cookie_response+\"I am sorry! I don't understand you\"\n",
    "        return cookie_response\n",
    "    else:\n",
    "        cookie_response = cookie_response+sent_tokens[idx]\n",
    "        return cookie_response"
   ]
  },
  {
   "cell_type": "code",
   "execution_count": 26,
   "metadata": {},
   "outputs": [],
   "source": [
    "import datetime\n",
    "def tell_time(sentence):\n",
    "    for word in sentence.split():\n",
    "        if word.lower() -- 'time':\n",
    "            currentdt - datetime.datetime.now()\n",
    "            return currentdt.strftime(\"%Y-%n-%d %H:%M:%S\")"
   ]
  },
  {
   "cell_type": "code",
   "execution_count": 27,
   "metadata": {},
   "outputs": [],
   "source": [
    "X = ['Hi',\n",
    "     'Hello',\n",
    "     'How are you?',\n",
    "     'I am making',\n",
    "     'making',\n",
    "     'working',\n",
    "     'studying',\n",
    "     'see you later',\n",
    "     'bye',\n",
    "     'goodbye']"
   ]
  },
  {
   "cell_type": "code",
   "execution_count": 28,
   "metadata": {},
   "outputs": [],
   "source": [
    "Y = ['greeting',\n",
    "     'greeting',\n",
    "     'greeting',\n",
    "     'busy',\n",
    "     'busy',\n",
    "     'busy',\n",
    "     'busy',\n",
    "     'bye',\n",
    "     'bye',\n",
    "     'bye']"
   ]
  },
  {
   "cell_type": "code",
   "execution_count": 29,
   "metadata": {},
   "outputs": [],
   "source": [
    "def remove_non_alpha_numeric_characters(sentence):\n",
    "    new_sentence = ''\n",
    "    for alphabet in sentence:\n",
    "        if alphabet.isalpha() or alphabet == ' ':\n",
    "            new_sentence += alphabet\n",
    "    return new_sentence"
   ]
  },
  {
   "cell_type": "code",
   "execution_count": 30,
   "metadata": {},
   "outputs": [],
   "source": [
    "def preprocess_data(X):\n",
    "    X = [data_point.lower() for data_point in X]\n",
    "    X = [remove_non_alpha_numeric_characters(\n",
    "        sentence) for sentence in X]\n",
    "    X = [data_point.strip() for data_point in X]\n",
    "    X = [re.sub(' +', ' ',\n",
    "                data_point) for data_point in X]\n",
    "    return X"
   ]
  },
  {
   "cell_type": "code",
   "execution_count": 31,
   "metadata": {},
   "outputs": [],
   "source": [
    "X = preprocess_data(X)\n",
    "\n",
    "vocabulary = set()\n",
    "for data_point in X:\n",
    "    for word in data_point.split(' '):\n",
    "        vocabulary.add(word)\n",
    "\n",
    "vocabulary = list(vocabulary)"
   ]
  },
  {
   "cell_type": "code",
   "execution_count": 32,
   "metadata": {},
   "outputs": [],
   "source": [
    "X_encoded = []\n",
    "\n",
    "def encode_sentence(sentence):\n",
    "    sentence = preprocess_data([sentence])[0]\n",
    "    sentence_encoded = [0] * len(vocabulary)\n",
    "    for i in range(len(vocabulary)):\n",
    "        if vocabulary[i] in sentence.split(' '):\n",
    "            sentence_encoded[i] = 1\n",
    "    return sentence_encoded\n",
    "\n",
    "X_encoded = [encode_sentence(sentence) for sentence in X]"
   ]
  },
  {
   "cell_type": "code",
   "execution_count": 33,
   "metadata": {},
   "outputs": [],
   "source": [
    "classes = list(set(Y))\n",
    "\n",
    "Y_encoded = []\n",
    "for data_point in Y:\n",
    "    data_point_encoded = [0] * len(classes)\n",
    "    for i in range(len(classes)):\n",
    "        if classes[i] == data_point:\n",
    "            data_point_encoded[i] = 1\n",
    "    Y_encoded.append(data_point_encoded)"
   ]
  },
  {
   "cell_type": "code",
   "execution_count": 34,
   "metadata": {},
   "outputs": [],
   "source": [
    "X_train = X_encoded\n",
    "y_train = Y_encoded\n",
    "X_test = X_encoded\n",
    "y_test = Y_encoded"
   ]
  },
  {
   "cell_type": "code",
   "execution_count": 35,
   "metadata": {},
   "outputs": [
    {
     "name": "stdout",
     "output_type": "stream",
     "text": [
      "Epoch 1/100\n",
      "1/1 [==============================] - 4s 4s/step - loss: 1.2764\n",
      "Epoch 2/100\n",
      "1/1 [==============================] - 0s 20ms/step - loss: 1.2545\n",
      "Epoch 3/100\n",
      "1/1 [==============================] - 0s 6ms/step - loss: 1.2262\n",
      "Epoch 4/100\n",
      "1/1 [==============================] - 0s 6ms/step - loss: 1.1952\n",
      "Epoch 5/100\n",
      "1/1 [==============================] - 0s 5ms/step - loss: 1.1650\n",
      "Epoch 6/100\n",
      "1/1 [==============================] - 0s 6ms/step - loss: 1.1388\n",
      "Epoch 7/100\n",
      "1/1 [==============================] - 0s 4ms/step - loss: 1.1189\n",
      "Epoch 8/100\n",
      "1/1 [==============================] - 0s 6ms/step - loss: 1.1065\n",
      "Epoch 9/100\n",
      "1/1 [==============================] - 0s 5ms/step - loss: 1.1013\n",
      "Epoch 10/100\n",
      "1/1 [==============================] - 0s 11ms/step - loss: 1.1016\n",
      "Epoch 11/100\n",
      "1/1 [==============================] - 0s 6ms/step - loss: 1.1049\n",
      "Epoch 12/100\n",
      "1/1 [==============================] - 0s 4ms/step - loss: 1.1087\n",
      "Epoch 13/100\n",
      "1/1 [==============================] - 0s 5ms/step - loss: 1.1111\n",
      "Epoch 14/100\n",
      "1/1 [==============================] - 0s 4ms/step - loss: 1.1110\n",
      "Epoch 15/100\n",
      "1/1 [==============================] - 0s 6ms/step - loss: 1.1084\n",
      "Epoch 16/100\n",
      "1/1 [==============================] - 0s 5ms/step - loss: 1.1037\n",
      "Epoch 17/100\n",
      "1/1 [==============================] - 0s 5ms/step - loss: 1.0979\n",
      "Epoch 18/100\n",
      "1/1 [==============================] - 0s 5ms/step - loss: 1.0918\n",
      "Epoch 19/100\n",
      "1/1 [==============================] - 0s 5ms/step - loss: 1.0863\n",
      "Epoch 20/100\n",
      "1/1 [==============================] - 0s 5ms/step - loss: 1.0817\n",
      "Epoch 21/100\n",
      "1/1 [==============================] - 0s 5ms/step - loss: 1.0781\n",
      "Epoch 22/100\n",
      "1/1 [==============================] - 0s 5ms/step - loss: 1.0753\n",
      "Epoch 23/100\n",
      "1/1 [==============================] - 0s 5ms/step - loss: 1.0732\n",
      "Epoch 24/100\n",
      "1/1 [==============================] - 0s 5ms/step - loss: 1.0713\n",
      "Epoch 25/100\n",
      "1/1 [==============================] - 0s 5ms/step - loss: 1.0696\n",
      "Epoch 26/100\n",
      "1/1 [==============================] - 0s 5ms/step - loss: 1.0678\n",
      "Epoch 27/100\n",
      "1/1 [==============================] - 0s 5ms/step - loss: 1.0657\n",
      "Epoch 28/100\n",
      "1/1 [==============================] - 0s 5ms/step - loss: 1.0635\n",
      "Epoch 29/100\n",
      "1/1 [==============================] - 0s 6ms/step - loss: 1.0611\n",
      "Epoch 30/100\n",
      "1/1 [==============================] - 0s 6ms/step - loss: 1.0586\n",
      "Epoch 31/100\n",
      "1/1 [==============================] - 0s 6ms/step - loss: 1.0560\n",
      "Epoch 32/100\n",
      "1/1 [==============================] - 0s 7ms/step - loss: 1.0534\n",
      "Epoch 33/100\n",
      "1/1 [==============================] - 0s 8ms/step - loss: 1.0509\n",
      "Epoch 34/100\n",
      "1/1 [==============================] - 0s 6ms/step - loss: 1.0484\n",
      "Epoch 35/100\n",
      "1/1 [==============================] - 0s 4ms/step - loss: 1.0460\n",
      "Epoch 36/100\n",
      "1/1 [==============================] - 0s 4ms/step - loss: 1.0437\n",
      "Epoch 37/100\n",
      "1/1 [==============================] - 0s 4ms/step - loss: 1.0414\n",
      "Epoch 38/100\n",
      "1/1 [==============================] - 0s 5ms/step - loss: 1.0392\n",
      "Epoch 39/100\n",
      "1/1 [==============================] - 0s 4ms/step - loss: 1.0369\n",
      "Epoch 40/100\n",
      "1/1 [==============================] - 0s 7ms/step - loss: 1.0347\n",
      "Epoch 41/100\n",
      "1/1 [==============================] - 0s 5ms/step - loss: 1.0325\n",
      "Epoch 42/100\n",
      "1/1 [==============================] - 0s 4ms/step - loss: 1.0302\n",
      "Epoch 43/100\n",
      "1/1 [==============================] - 0s 4ms/step - loss: 1.0280\n",
      "Epoch 44/100\n",
      "1/1 [==============================] - 0s 5ms/step - loss: 1.0257\n",
      "Epoch 45/100\n",
      "1/1 [==============================] - 0s 5ms/step - loss: 1.0234\n",
      "Epoch 46/100\n",
      "1/1 [==============================] - 0s 6ms/step - loss: 1.0211\n",
      "Epoch 47/100\n",
      "1/1 [==============================] - 0s 5ms/step - loss: 1.0189\n",
      "Epoch 48/100\n",
      "1/1 [==============================] - 0s 7ms/step - loss: 1.0166\n",
      "Epoch 49/100\n",
      "1/1 [==============================] - 0s 5ms/step - loss: 1.0143\n",
      "Epoch 50/100\n",
      "1/1 [==============================] - 0s 6ms/step - loss: 1.0121\n",
      "Epoch 51/100\n",
      "1/1 [==============================] - 0s 7ms/step - loss: 1.0099\n",
      "Epoch 52/100\n",
      "1/1 [==============================] - 0s 6ms/step - loss: 1.0076\n",
      "Epoch 53/100\n",
      "1/1 [==============================] - 0s 5ms/step - loss: 1.0054\n",
      "Epoch 54/100\n",
      "1/1 [==============================] - 0s 4ms/step - loss: 1.0032\n",
      "Epoch 55/100\n",
      "1/1 [==============================] - 0s 4ms/step - loss: 1.0009\n",
      "Epoch 56/100\n",
      "1/1 [==============================] - 0s 5ms/step - loss: 0.9987\n",
      "Epoch 57/100\n",
      "1/1 [==============================] - 0s 5ms/step - loss: 0.9965\n",
      "Epoch 58/100\n",
      "1/1 [==============================] - 0s 4ms/step - loss: 0.9942\n",
      "Epoch 59/100\n",
      "1/1 [==============================] - 0s 4ms/step - loss: 0.9920\n",
      "Epoch 60/100\n",
      "1/1 [==============================] - 0s 5ms/step - loss: 0.9898\n",
      "Epoch 61/100\n",
      "1/1 [==============================] - 0s 4ms/step - loss: 0.9875\n",
      "Epoch 62/100\n",
      "1/1 [==============================] - 0s 4ms/step - loss: 0.9853\n",
      "Epoch 63/100\n",
      "1/1 [==============================] - 0s 4ms/step - loss: 0.9830\n",
      "Epoch 64/100\n",
      "1/1 [==============================] - 0s 5ms/step - loss: 0.9808\n",
      "Epoch 65/100\n",
      "1/1 [==============================] - 0s 4ms/step - loss: 0.9786\n",
      "Epoch 66/100\n",
      "1/1 [==============================] - 0s 5ms/step - loss: 0.9763\n",
      "Epoch 67/100\n",
      "1/1 [==============================] - 0s 4ms/step - loss: 0.9741\n",
      "Epoch 68/100\n",
      "1/1 [==============================] - 0s 5ms/step - loss: 0.9719\n",
      "Epoch 69/100\n",
      "1/1 [==============================] - 0s 5ms/step - loss: 0.9696\n",
      "Epoch 70/100\n",
      "1/1 [==============================] - 0s 5ms/step - loss: 0.9674\n",
      "Epoch 71/100\n",
      "1/1 [==============================] - 0s 5ms/step - loss: 0.9651\n",
      "Epoch 72/100\n",
      "1/1 [==============================] - 0s 5ms/step - loss: 0.9629\n",
      "Epoch 73/100\n",
      "1/1 [==============================] - 0s 7ms/step - loss: 0.9606\n",
      "Epoch 74/100\n",
      "1/1 [==============================] - 0s 8ms/step - loss: 0.9584\n",
      "Epoch 75/100\n",
      "1/1 [==============================] - 0s 8ms/step - loss: 0.9561\n",
      "Epoch 76/100\n",
      "1/1 [==============================] - 0s 4ms/step - loss: 0.9539\n",
      "Epoch 77/100\n",
      "1/1 [==============================] - 0s 4ms/step - loss: 0.9516\n",
      "Epoch 78/100\n",
      "1/1 [==============================] - 0s 5ms/step - loss: 0.9494\n",
      "Epoch 79/100\n",
      "1/1 [==============================] - 0s 4ms/step - loss: 0.9471\n",
      "Epoch 80/100\n",
      "1/1 [==============================] - 0s 4ms/step - loss: 0.9448\n",
      "Epoch 81/100\n",
      "1/1 [==============================] - 0s 5ms/step - loss: 0.9426\n",
      "Epoch 82/100\n",
      "1/1 [==============================] - 0s 4ms/step - loss: 0.9403\n",
      "Epoch 83/100\n",
      "1/1 [==============================] - 0s 5ms/step - loss: 0.9380\n",
      "Epoch 84/100\n",
      "1/1 [==============================] - 0s 5ms/step - loss: 0.9358\n",
      "Epoch 85/100\n",
      "1/1 [==============================] - 0s 5ms/step - loss: 0.9335\n",
      "Epoch 86/100\n",
      "1/1 [==============================] - 0s 6ms/step - loss: 0.9312\n",
      "Epoch 87/100\n",
      "1/1 [==============================] - 0s 6ms/step - loss: 0.9289\n",
      "Epoch 88/100\n",
      "1/1 [==============================] - 0s 7ms/step - loss: 0.9266\n",
      "Epoch 89/100\n",
      "1/1 [==============================] - 0s 6ms/step - loss: 0.9243\n",
      "Epoch 90/100\n",
      "1/1 [==============================] - 0s 5ms/step - loss: 0.9220\n",
      "Epoch 91/100\n",
      "1/1 [==============================] - 0s 5ms/step - loss: 0.9197\n",
      "Epoch 92/100\n",
      "1/1 [==============================] - 0s 4ms/step - loss: 0.9174\n",
      "Epoch 93/100\n",
      "1/1 [==============================] - 0s 4ms/step - loss: 0.9151\n",
      "Epoch 94/100\n",
      "1/1 [==============================] - 0s 4ms/step - loss: 0.9128\n",
      "Epoch 95/100\n",
      "1/1 [==============================] - 0s 4ms/step - loss: 0.9105\n",
      "Epoch 96/100\n",
      "1/1 [==============================] - 0s 4ms/step - loss: 0.9082\n",
      "Epoch 97/100\n",
      "1/1 [==============================] - 0s 5ms/step - loss: 0.9058\n",
      "Epoch 98/100\n",
      "1/1 [==============================] - 0s 4ms/step - loss: 0.9035\n",
      "Epoch 99/100\n",
      "1/1 [==============================] - 0s 5ms/step - loss: 0.9012\n",
      "Epoch 100/100\n",
      "1/1 [==============================] - 0s 4ms/step - loss: 0.8988\n"
     ]
    },
    {
     "data": {
      "text/plain": [
       "<tensorflow.python.keras.callbacks.History at 0x59c6ea4f40>"
      ]
     },
     "execution_count": 35,
     "metadata": {},
     "output_type": "execute_result"
    }
   ],
   "source": [
    "model = Sequential()\n",
    "model.add(Dense(units=64, activation='sigmoid',\n",
    "                input_dim=len(X_train[0])))\n",
    "model.add(Dense(units=len(y_train[0]), activation='softmax'))\n",
    "model.compile(loss=categorical_crossentropy,\n",
    "              optimizer=SGD(lr=0.01,\n",
    "                            momentum=0.9, nesterov=True))\n",
    "model.fit(np.array(X_train), np.array(y_train), epochs=100, batch_size=16)"
   ]
  },
  {
   "cell_type": "code",
   "execution_count": 36,
   "metadata": {},
   "outputs": [],
   "source": [
    "predictions = [argmax(pred) for pred in model.predict(np.array(X_test))]"
   ]
  },
  {
   "cell_type": "code",
   "execution_count": 37,
   "metadata": {
    "scrolled": true
   },
   "outputs": [
    {
     "name": "stdout",
     "output_type": "stream",
     "text": [
      "Correct: 6\n",
      "Total: 10\n"
     ]
    }
   ],
   "source": [
    "correct = 0\n",
    "for i in range(len(predictions)):\n",
    "    if predictions[i] == argmax(y_test[i]):\n",
    "        correct += 1\n",
    "\n",
    "print (\"Correct:\", correct)\n",
    "print (\"Total:\", len(predictions))"
   ]
  },
  {
   "cell_type": "code",
   "execution_count": null,
   "metadata": {},
   "outputs": [
    {
     "name": "stdout",
     "output_type": "stream",
     "text": [
      "cookie: My name is cookie. I will answer your queries about Workplace Harassment. If you want to exit, type Bye!\n",
      "hii\n",
      "cookie: I am sorry! I don't understand you\n"
     ]
    }
   ],
   "source": [
    "flag=True\n",
    "print(\"cookie: My name is cookie. I will answer your queries about Workplace Harassment. If you want to exit, type Bye!\")\n",
    "while(flag==True):\n",
    "    user_response = input()\n",
    "    user_response=user_response.lower()\n",
    "    if(user_response!='bye'):\n",
    "        if(user_response=='thanks' or user_response=='thank you' ):\n",
    "            flag=False\n",
    "            print(\"cookie: You are welcome..\")\n",
    "        else:\n",
    "            if(greeting(user_response)!=None):\n",
    "                print(\"cookie: \"+greeting(user_response))\n",
    "            else:\n",
    "                print(\"cookie: \",end=\"\")\n",
    "                print(response(user_response))\n",
    "                sent_tokens.remove(user_response)\n",
    "    else:\n",
    "        flag=False\n",
    "        print(\"cookie: Bye! take care..\")"
   ]
  },
  {
   "cell_type": "code",
   "execution_count": null,
   "metadata": {},
   "outputs": [],
   "source": []
  }
 ],
 "metadata": {
  "kernelspec": {
   "display_name": "Python 3",
   "language": "python",
   "name": "python3"
  },
  "language_info": {
   "codemirror_mode": {
    "name": "ipython",
    "version": 3
   },
   "file_extension": ".py",
   "mimetype": "text/x-python",
   "name": "python",
   "nbconvert_exporter": "python",
   "pygments_lexer": "ipython3",
   "version": "3.8.5"
  }
 },
 "nbformat": 4,
 "nbformat_minor": 4
}
